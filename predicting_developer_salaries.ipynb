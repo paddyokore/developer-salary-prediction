{
  "cells": [
    {
      "cell_type": "markdown",
      "id": "13c8d811",
      "metadata": {
        "id": "13c8d811"
      },
      "source": [
        "## Predicting Developer Salaries\n",
        "\n",
        "### Project Background\n",
        "Africa’s Tech sector has become one of the fastest growing tech ecosystems in the world with tech being one of the fastest growing sectors in Africa. This has led to a rise in demand for jobs in the industry.\n",
        "However, unlike other parts of the world, information on remuneration in these jobs remains hard to come by. Existing resources such as glassdoor and brighter monday have limited information on salaries in Africa.\n",
        "Over the past few years, it has been observed that foreign companies enter the African Market, offering more competitive salaries compared to local companies resulting in mass movement of experienced developers into these new roles.\n",
        "This project seeks to solve this problem by developing a platform that can predict developer salaries based on their personal information, and also, providing comparison between different incomes in different regions for similar roles.\n",
        "\n",
        "\n",
        "### Stakeholders:\n",
        "- Jobseekers\n",
        "- Employers\n",
        "- Recruitment agencies\n",
        "\n",
        "### Business Understanding\n",
        "Salary negotiation can be a critical stage in the job search process, and job seekers often encounter various challenges during this phase like lack of information on salary trends. This means that a jobseeker might spend valuable time researching industry salary trends. Some might not be so lucky as the information might be non existent.\n",
        "\n",
        "As the Tech labour market becomes more competitive, offering the right salary for new and current employees is crucial for employers as it means keeping or losing a valued resource. Thus it is imperative for them to offer fair and competitive compensation that is benchmarked to their industry\n",
        "\n",
        "Our project looks at coming up with salary prediction model to help both jobseekers and employers with the above challenges. We will focus on the tech industry (developers) and use data from stackoverflow's annual developer survey."
      ]
    },
    {
      "cell_type": "markdown",
      "id": "f9bc3234",
      "metadata": {
        "id": "f9bc3234"
      },
      "source": [
        "### Problem statement\n",
        "Our solution to the problem of inadequate salary data for both employees and employers is to develop a salary prediction model, to estimate salaries based on relevant job specifications. The model will assist in making informed decisions related to compensation and provide valuable insights for both job seekers and employers.\n",
        "\n",
        "The salary prediction model will enable job seekers to have a better understanding of the salary expectations associated with their qualifications and experience.\n",
        "\n",
        "Employers can use the model to make informed decisions regarding fair compensation packages for new hires or salary adjustments for existing employees.\n",
        "\n",
        "Job sites like linkedin, glassdoor, brigther monday can use this model for jobs displayed on the sites by quoting the estimated salaries\n"
      ]
    },
    {
      "cell_type": "markdown",
      "id": "0f3e63de",
      "metadata": {
        "id": "0f3e63de"
      },
      "source": [
        "### Objectives\n",
        "\n",
        "- The main objective of this project is to come up with a salary rediction model that will:\n",
        "- Enable Jobseekers to ask for competitive salaries during contract negotiations.\n",
        "- Assist employers in offering fair compensation to their employees.\n",
        "- Assist Recruitment agencies offer accurate salary estimates to their clients.\n",
        "\n",
        "These objectives will be achieved through the following specific objectives:\n",
        "- To select the most important features in the dataset to be used in Salary prediction.\n",
        "- To describe how features such as Proffessional experience and Education level affect Annual compensation.\n",
        "- To build multiple regression models and identify the most suitable model to be used in the prediction.\n",
        "- To deploy the model using streamlit as an online dashboard.\n",
        "\n",
        "### Success Metrics\n",
        "\n",
        "The metrics to be used to measure the success of the model are:\n",
        "- Mean Absolute Error\n",
        "- Root Mean Square Error\n",
        "- Rsquared\n",
        "\n",
        "An Rsquared  value of 75% or more will be considered a success, i.e the model explains more than 75% of the  variance in pay of the developers."
      ]
    },
    {
      "cell_type": "markdown",
      "id": "4f1a42f9",
      "metadata": {
        "id": "4f1a42f9"
      },
      "source": [
        "### Data Understanding\n",
        "The data comes from [stakoverflow annual developer survey](https://insights.stackoverflow.com/survey/) for 2022. Each row shows the responses given by a developer. It has 73268 rows and  79 columns. The data has missing values, but no duplicate rows.\n",
        "\n",
        "The target variable ConvertedCompYearly shows the annual salary for each developer.\n",
        "The data contains responses from 180 countries.\n",
        "Opportunities to clean the data and use PCA to reduce the number of columns\n",
        "\n"
      ]
    },
    {
      "cell_type": "code",
      "execution_count": 407,
      "id": "39033c32",
      "metadata": {
        "id": "39033c32"
      },
      "outputs": [],
      "source": [
        "# import all required modules\n",
        "import pandas as pd\n",
        "import numpy as np\n",
        "from ydata_profiling import ProfileReport\n",
        "import matplotlib.pyplot as plt\n",
        "import seaborn as sns\n",
        "%matplotlib inline\n",
        "sns.set_style('dark')\n",
        "import category_encoders as ce\n",
        "from sklearn.linear_model import LinearRegression\n",
        "from sklearn.model_selection import train_test_split\n",
        "from sklearn.pipeline import Pipeline\n",
        "import statsmodels.api as sm\n",
        "\n",
        "from sklearn.metrics import accuracy_score, recall_score, precision_score, f1_score, mean_squared_error, mean_absolute_error, r2_score\n",
        "\n",
        "from sklearn.preprocessing import StandardScaler\n",
        "from sklearn.preprocessing import MinMaxScaler\n",
        "\n",
        "from sklearn.tree import DecisionTreeRegressor\n",
        "from sklearn.linear_model import LogisticRegression\n",
        "from sklearn.neighbors import KNeighborsClassifier\n",
        "from sklearn.svm import SVC"
      ]
    },
    {
      "cell_type": "code",
      "execution_count": 408,
      "id": "a68cf517",
      "metadata": {
        "colab": {
          "base_uri": "https://localhost:8080/",
          "height": 275
        },
        "id": "a68cf517",
        "outputId": "606eff39-cfeb-4329-88c3-acedf8c1fc18"
      },
      "outputs": [
        {
          "data": {
            "text/html": [
              "<div>\n",
              "<style scoped>\n",
              "    .dataframe tbody tr th:only-of-type {\n",
              "        vertical-align: middle;\n",
              "    }\n",
              "\n",
              "    .dataframe tbody tr th {\n",
              "        vertical-align: top;\n",
              "    }\n",
              "\n",
              "    .dataframe thead th {\n",
              "        text-align: right;\n",
              "    }\n",
              "</style>\n",
              "<table border=\"1\" class=\"dataframe\">\n",
              "  <thead>\n",
              "    <tr style=\"text-align: right;\">\n",
              "      <th></th>\n",
              "      <th>ResponseId</th>\n",
              "      <th>MainBranch</th>\n",
              "      <th>Employment</th>\n",
              "      <th>RemoteWork</th>\n",
              "      <th>CodingActivities</th>\n",
              "      <th>EdLevel</th>\n",
              "      <th>LearnCode</th>\n",
              "      <th>LearnCodeOnline</th>\n",
              "      <th>LearnCodeCoursesCert</th>\n",
              "      <th>YearsCode</th>\n",
              "      <th>...</th>\n",
              "      <th>TimeSearching</th>\n",
              "      <th>TimeAnswering</th>\n",
              "      <th>Onboarding</th>\n",
              "      <th>ProfessionalTech</th>\n",
              "      <th>TrueFalse_1</th>\n",
              "      <th>TrueFalse_2</th>\n",
              "      <th>TrueFalse_3</th>\n",
              "      <th>SurveyLength</th>\n",
              "      <th>SurveyEase</th>\n",
              "      <th>ConvertedCompYearly</th>\n",
              "    </tr>\n",
              "  </thead>\n",
              "  <tbody>\n",
              "    <tr>\n",
              "      <th>0</th>\n",
              "      <td>1</td>\n",
              "      <td>None of these</td>\n",
              "      <td>NaN</td>\n",
              "      <td>NaN</td>\n",
              "      <td>NaN</td>\n",
              "      <td>NaN</td>\n",
              "      <td>NaN</td>\n",
              "      <td>NaN</td>\n",
              "      <td>NaN</td>\n",
              "      <td>NaN</td>\n",
              "      <td>...</td>\n",
              "      <td>NaN</td>\n",
              "      <td>NaN</td>\n",
              "      <td>NaN</td>\n",
              "      <td>NaN</td>\n",
              "      <td>NaN</td>\n",
              "      <td>NaN</td>\n",
              "      <td>NaN</td>\n",
              "      <td>NaN</td>\n",
              "      <td>NaN</td>\n",
              "      <td>NaN</td>\n",
              "    </tr>\n",
              "    <tr>\n",
              "      <th>1</th>\n",
              "      <td>2</td>\n",
              "      <td>I am a developer by profession</td>\n",
              "      <td>Employed, full-time</td>\n",
              "      <td>Fully remote</td>\n",
              "      <td>Hobby;Contribute to open-source projects</td>\n",
              "      <td>NaN</td>\n",
              "      <td>NaN</td>\n",
              "      <td>NaN</td>\n",
              "      <td>NaN</td>\n",
              "      <td>NaN</td>\n",
              "      <td>...</td>\n",
              "      <td>NaN</td>\n",
              "      <td>NaN</td>\n",
              "      <td>NaN</td>\n",
              "      <td>NaN</td>\n",
              "      <td>NaN</td>\n",
              "      <td>NaN</td>\n",
              "      <td>NaN</td>\n",
              "      <td>Too long</td>\n",
              "      <td>Difficult</td>\n",
              "      <td>NaN</td>\n",
              "    </tr>\n",
              "  </tbody>\n",
              "</table>\n",
              "<p>2 rows × 79 columns</p>\n",
              "</div>"
            ],
            "text/plain": [
              "   ResponseId                      MainBranch           Employment  \\\n",
              "0           1                   None of these                  NaN   \n",
              "1           2  I am a developer by profession  Employed, full-time   \n",
              "\n",
              "     RemoteWork                          CodingActivities EdLevel LearnCode  \\\n",
              "0           NaN                                       NaN     NaN       NaN   \n",
              "1  Fully remote  Hobby;Contribute to open-source projects     NaN       NaN   \n",
              "\n",
              "  LearnCodeOnline LearnCodeCoursesCert YearsCode  ... TimeSearching  \\\n",
              "0             NaN                  NaN       NaN  ...           NaN   \n",
              "1             NaN                  NaN       NaN  ...           NaN   \n",
              "\n",
              "  TimeAnswering Onboarding ProfessionalTech TrueFalse_1 TrueFalse_2  \\\n",
              "0           NaN        NaN              NaN         NaN         NaN   \n",
              "1           NaN        NaN              NaN         NaN         NaN   \n",
              "\n",
              "  TrueFalse_3  SurveyLength SurveyEase ConvertedCompYearly  \n",
              "0         NaN           NaN        NaN                 NaN  \n",
              "1         NaN      Too long  Difficult                 NaN  \n",
              "\n",
              "[2 rows x 79 columns]"
            ]
          },
          "execution_count": 408,
          "metadata": {},
          "output_type": "execute_result"
        }
      ],
      "source": [
        "#load dataset\n",
        "df = pd.read_csv(r'survey_results_public.csv')\n",
        "df.head(2)"
      ]
    },
    {
      "cell_type": "markdown",
      "id": "b68f3d54",
      "metadata": {
        "id": "b68f3d54"
      },
      "source": [
        "#### Class for Understanding Dataset\n",
        "Below we create a class to:\n",
        "- give data dimensions\n",
        "- display column info\n",
        "- give descriptive stats on numerical columns\n",
        "- check data types, duplicates & missing values\n",
        "\n",
        "From the below outputs of the class:\n",
        "- The Dataset has no duplicates\n",
        "- Data has 6 numeric columns and 73 categorical columns\n",
        "- 77 columns have missing values, ranging from 2% (`country` column) to 100% (`VCHostingProfessional use` & `VCHostingPersonal use` columns). We will deal with missing values in the data cleaning section"
      ]
    },
    {
      "cell_type": "code",
      "execution_count": 409,
      "id": "2c9b7840",
      "metadata": {
        "colab": {
          "base_uri": "https://localhost:8080/",
          "height": 1000
        },
        "id": "2c9b7840",
        "outputId": "d98c4be7-d640-4a76-d7c2-758ee8a23045"
      },
      "outputs": [
        {
          "name": "stdout",
          "output_type": "stream",
          "text": [
            "The DataFrame has:\n",
            "\t* 73268 rows\n",
            "\t* 79 columns \n",
            "\n",
            "The Dataset has No Duplicates\n",
            "Data has 6 Numeric columns\n",
            "and 73 Categorical columns\n",
            "*******************\n",
            "*******************\n",
            "Numerical Columns: Index(['ResponseId', 'CompTotal', 'VCHostingPersonal use',\n",
            "       'VCHostingProfessional use', 'WorkExp', 'ConvertedCompYearly'],\n",
            "      dtype='object')\n",
            "Categorical Coulumns: Index(['MainBranch', 'Employment', 'RemoteWork', 'CodingActivities', 'EdLevel',\n",
            "       'LearnCode', 'LearnCodeOnline', 'LearnCodeCoursesCert', 'YearsCode',\n",
            "       'YearsCodePro', 'DevType', 'OrgSize', 'PurchaseInfluence', 'BuyNewTool',\n",
            "       'Country', 'Currency', 'CompFreq', 'LanguageHaveWorkedWith',\n",
            "       'LanguageWantToWorkWith', 'DatabaseHaveWorkedWith',\n",
            "       'DatabaseWantToWorkWith', 'PlatformHaveWorkedWith',\n",
            "       'PlatformWantToWorkWith', 'WebframeHaveWorkedWith',\n",
            "       'WebframeWantToWorkWith', 'MiscTechHaveWorkedWith',\n",
            "       'MiscTechWantToWorkWith', 'ToolsTechHaveWorkedWith',\n",
            "       'ToolsTechWantToWorkWith', 'NEWCollabToolsHaveWorkedWith',\n",
            "       'NEWCollabToolsWantToWorkWith', 'OpSysProfessional use',\n",
            "       'OpSysPersonal use', 'VersionControlSystem', 'VCInteraction',\n",
            "       'OfficeStackAsyncHaveWorkedWith', 'OfficeStackAsyncWantToWorkWith',\n",
            "       'OfficeStackSyncHaveWorkedWith', 'OfficeStackSyncWantToWorkWith',\n",
            "       'Blockchain', 'NEWSOSites', 'SOVisitFreq', 'SOAccount', 'SOPartFreq',\n",
            "       'SOComm', 'Age', 'Gender', 'Trans', 'Sexuality', 'Ethnicity',\n",
            "       'Accessibility', 'MentalHealth', 'TBranch', 'ICorPM', 'Knowledge_1',\n",
            "       'Knowledge_2', 'Knowledge_3', 'Knowledge_4', 'Knowledge_5',\n",
            "       'Knowledge_6', 'Knowledge_7', 'Frequency_1', 'Frequency_2',\n",
            "       'Frequency_3', 'TimeSearching', 'TimeAnswering', 'Onboarding',\n",
            "       'ProfessionalTech', 'TrueFalse_1', 'TrueFalse_2', 'TrueFalse_3',\n",
            "       'SurveyLength', 'SurveyEase'],\n",
            "      dtype='object')\n",
            "<class 'pandas.core.frame.DataFrame'>\n",
            "RangeIndex: 73268 entries, 0 to 73267\n",
            "Data columns (total 79 columns):\n",
            " #   Column                          Non-Null Count  Dtype  \n",
            "---  ------                          --------------  -----  \n",
            " 0   ResponseId                      73268 non-null  int64  \n",
            " 1   MainBranch                      73268 non-null  object \n",
            " 2   Employment                      71709 non-null  object \n",
            " 3   RemoteWork                      58958 non-null  object \n",
            " 4   CodingActivities                58899 non-null  object \n",
            " 5   EdLevel                         71571 non-null  object \n",
            " 6   LearnCode                       71580 non-null  object \n",
            " 7   LearnCodeOnline                 50685 non-null  object \n",
            " 8   LearnCodeCoursesCert            29389 non-null  object \n",
            " 9   YearsCode                       71331 non-null  object \n",
            " 10  YearsCodePro                    51833 non-null  object \n",
            " 11  DevType                         61302 non-null  object \n",
            " 12  OrgSize                         51039 non-null  object \n",
            " 13  PurchaseInfluence               50969 non-null  object \n",
            " 14  BuyNewTool                      67963 non-null  object \n",
            " 15  Country                         71771 non-null  object \n",
            " 16  Currency                        51264 non-null  object \n",
            " 17  CompTotal                       38422 non-null  float64\n",
            " 18  CompFreq                        44425 non-null  object \n",
            " 19  LanguageHaveWorkedWith          70975 non-null  object \n",
            " 20  LanguageWantToWorkWith          67027 non-null  object \n",
            " 21  DatabaseHaveWorkedWith          60121 non-null  object \n",
            " 22  DatabaseWantToWorkWith          51014 non-null  object \n",
            " 23  PlatformHaveWorkedWith          49924 non-null  object \n",
            " 24  PlatformWantToWorkWith          40415 non-null  object \n",
            " 25  WebframeHaveWorkedWith          53544 non-null  object \n",
            " 26  WebframeWantToWorkWith          46122 non-null  object \n",
            " 27  MiscTechHaveWorkedWith          44992 non-null  object \n",
            " 28  MiscTechWantToWorkWith          36810 non-null  object \n",
            " 29  ToolsTechHaveWorkedWith         54171 non-null  object \n",
            " 30  ToolsTechWantToWorkWith         46566 non-null  object \n",
            " 31  NEWCollabToolsHaveWorkedWith    70347 non-null  object \n",
            " 32  NEWCollabToolsWantToWorkWith    64108 non-null  object \n",
            " 33  OpSysProfessional use           65503 non-null  object \n",
            " 34  OpSysPersonal use               70963 non-null  object \n",
            " 35  VersionControlSystem            71379 non-null  object \n",
            " 36  VCInteraction                   68156 non-null  object \n",
            " 37  VCHostingPersonal use           0 non-null      float64\n",
            " 38  VCHostingProfessional use       0 non-null      float64\n",
            " 39  OfficeStackAsyncHaveWorkedWith  46223 non-null  object \n",
            " 40  OfficeStackAsyncWantToWorkWith  32072 non-null  object \n",
            " 41  OfficeStackSyncHaveWorkedWith   62128 non-null  object \n",
            " 42  OfficeStackSyncWantToWorkWith   47688 non-null  object \n",
            " 43  Blockchain                      71071 non-null  object \n",
            " 44  NEWSOSites                      71365 non-null  object \n",
            " 45  SOVisitFreq                     70961 non-null  object \n",
            " 46  SOAccount                       71572 non-null  object \n",
            " 47  SOPartFreq                      58229 non-null  object \n",
            " 48  SOComm                          71408 non-null  object \n",
            " 49  Age                             70946 non-null  object \n",
            " 50  Gender                          70853 non-null  object \n",
            " 51  Trans                           70315 non-null  object \n",
            " 52  Sexuality                       66565 non-null  object \n",
            " 53  Ethnicity                       69474 non-null  object \n",
            " 54  Accessibility                   67244 non-null  object \n",
            " 55  MentalHealth                    66447 non-null  object \n",
            " 56  TBranch                         52670 non-null  object \n",
            " 57  ICorPM                          36283 non-null  object \n",
            " 58  WorkExp                         36769 non-null  float64\n",
            " 59  Knowledge_1                     35804 non-null  object \n",
            " 60  Knowledge_2                     34973 non-null  object \n",
            " 61  Knowledge_3                     35133 non-null  object \n",
            " 62  Knowledge_4                     35097 non-null  object \n",
            " 63  Knowledge_5                     35014 non-null  object \n",
            " 64  Knowledge_6                     34991 non-null  object \n",
            " 65  Knowledge_7                     34977 non-null  object \n",
            " 66  Frequency_1                     35371 non-null  object \n",
            " 67  Frequency_2                     35344 non-null  object \n",
            " 68  Frequency_3                     34515 non-null  object \n",
            " 69  TimeSearching                   36198 non-null  object \n",
            " 70  TimeAnswering                   36022 non-null  object \n",
            " 71  Onboarding                      35679 non-null  object \n",
            " 72  ProfessionalTech                34906 non-null  object \n",
            " 73  TrueFalse_1                     35819 non-null  object \n",
            " 74  TrueFalse_2                     35715 non-null  object \n",
            " 75  TrueFalse_3                     35749 non-null  object \n",
            " 76  SurveyLength                    70444 non-null  object \n",
            " 77  SurveyEase                      70508 non-null  object \n",
            " 78  ConvertedCompYearly             38071 non-null  float64\n",
            "dtypes: float64(5), int64(1), object(73)\n",
            "memory usage: 44.2+ MB\n",
            "None \n",
            "\n"
          ]
        },
        {
          "data": {
            "text/html": [
              "<div>\n",
              "<style scoped>\n",
              "    .dataframe tbody tr th:only-of-type {\n",
              "        vertical-align: middle;\n",
              "    }\n",
              "\n",
              "    .dataframe tbody tr th {\n",
              "        vertical-align: top;\n",
              "    }\n",
              "\n",
              "    .dataframe thead th {\n",
              "        text-align: right;\n",
              "    }\n",
              "</style>\n",
              "<table border=\"1\" class=\"dataframe\">\n",
              "  <thead>\n",
              "    <tr style=\"text-align: right;\">\n",
              "      <th></th>\n",
              "      <th>Missing Values</th>\n",
              "      <th>Percentage %</th>\n",
              "    </tr>\n",
              "  </thead>\n",
              "  <tbody>\n",
              "    <tr>\n",
              "      <th>VCHostingProfessional use</th>\n",
              "      <td>73268</td>\n",
              "      <td>1.000000</td>\n",
              "    </tr>\n",
              "    <tr>\n",
              "      <th>VCHostingPersonal use</th>\n",
              "      <td>73268</td>\n",
              "      <td>1.000000</td>\n",
              "    </tr>\n",
              "    <tr>\n",
              "      <th>LearnCodeCoursesCert</th>\n",
              "      <td>43879</td>\n",
              "      <td>0.598884</td>\n",
              "    </tr>\n",
              "    <tr>\n",
              "      <th>OfficeStackAsyncWantToWorkWith</th>\n",
              "      <td>41196</td>\n",
              "      <td>0.562265</td>\n",
              "    </tr>\n",
              "    <tr>\n",
              "      <th>Frequency_3</th>\n",
              "      <td>38753</td>\n",
              "      <td>0.528921</td>\n",
              "    </tr>\n",
              "    <tr>\n",
              "      <th>...</th>\n",
              "      <td>...</td>\n",
              "      <td>...</td>\n",
              "    </tr>\n",
              "    <tr>\n",
              "      <th>EdLevel</th>\n",
              "      <td>1697</td>\n",
              "      <td>0.023162</td>\n",
              "    </tr>\n",
              "    <tr>\n",
              "      <th>SOAccount</th>\n",
              "      <td>1696</td>\n",
              "      <td>0.023148</td>\n",
              "    </tr>\n",
              "    <tr>\n",
              "      <th>LearnCode</th>\n",
              "      <td>1688</td>\n",
              "      <td>0.023039</td>\n",
              "    </tr>\n",
              "    <tr>\n",
              "      <th>Employment</th>\n",
              "      <td>1559</td>\n",
              "      <td>0.021278</td>\n",
              "    </tr>\n",
              "    <tr>\n",
              "      <th>Country</th>\n",
              "      <td>1497</td>\n",
              "      <td>0.020432</td>\n",
              "    </tr>\n",
              "  </tbody>\n",
              "</table>\n",
              "<p>77 rows × 2 columns</p>\n",
              "</div>"
            ],
            "text/plain": [
              "                                Missing Values  Percentage %\n",
              "VCHostingProfessional use                73268      1.000000\n",
              "VCHostingPersonal use                    73268      1.000000\n",
              "LearnCodeCoursesCert                     43879      0.598884\n",
              "OfficeStackAsyncWantToWorkWith           41196      0.562265\n",
              "Frequency_3                              38753      0.528921\n",
              "...                                        ...           ...\n",
              "EdLevel                                   1697      0.023162\n",
              "SOAccount                                 1696      0.023148\n",
              "LearnCode                                 1688      0.023039\n",
              "Employment                                1559      0.021278\n",
              "Country                                   1497      0.020432\n",
              "\n",
              "[77 rows x 2 columns]"
            ]
          },
          "execution_count": 409,
          "metadata": {},
          "output_type": "execute_result"
        }
      ],
      "source": [
        "# class to describe dataset\n",
        "\n",
        "class Describer:\n",
        "\n",
        "    # initialize object\n",
        "    def __init__(self, df):\n",
        "        self.df = df\n",
        "\n",
        "    # method to check shape of data\n",
        "    def shape(self):\n",
        "        out = print(f\"The DataFrame has:\\n\\t* {self.df.shape[0]} rows\\n\\t* {self.df.shape[1]} columns\", '\\n')\n",
        "        return out\n",
        "\n",
        "    # method to check info on dataset\n",
        "    def data_info(self):\n",
        "        out = print(self.df.info(), '\\n')\n",
        "        return out\n",
        "\n",
        "    # method to describe numerical columns\n",
        "    def data_describe(self):\n",
        "        out = self.df.describe()\n",
        "        return out\n",
        "\n",
        "    # method to check data types\n",
        "    def data_type(self):\n",
        "        \"\"\"A simple function to check the data types on th datasets \"\"\"\n",
        "\n",
        "        print(\"Data has\",len( df.select_dtypes(include='number').columns),\n",
        "                \"Numeric columns\")\n",
        "\n",
        "        print(\"and\", len(df.select_dtypes(include='object').columns),\n",
        "          \"Categorical columns\")\n",
        "\n",
        "        print('*******************')\n",
        "        print('*******************')\n",
        "\n",
        "        print('Numerical Columns:', df.select_dtypes(include='number').columns)\n",
        "        print('Categorical Coulumns:', df.select_dtypes(include='object').columns)\n",
        "\n",
        "        return None\n",
        "\n",
        "    # check duplicates\n",
        "\n",
        "    def check_duplicates(self):\n",
        "        duplicates = []\n",
        "\n",
        "        \"\"\"Function that iterates through the rows of our dataset to check whether they are duplicated or not\"\"\"\n",
        "\n",
        "        for i in df.duplicated():\n",
        "            duplicates.append(i)\n",
        "        duplicates_set = set(duplicates)\n",
        "        if(len(duplicates_set) == 1):\n",
        "            print('The Dataset has No Duplicates')\n",
        "\n",
        "        else:\n",
        "            duplicates_percentage = np.round(((sum(duplicates)/len(df)) * 100 ), 2)\n",
        "            print(f'Duplicated rows constitute of {duplicates_percentage} % of our dataset')\n",
        "\n",
        "        return None\n",
        "\n",
        "    # method to check missing values\n",
        "    def missing_values(self):\n",
        "\n",
        "        \"\"\" Function for checking null values in percentage in relation to length of the dataset \"\"\"\n",
        "\n",
        "        if df.isnull().any().any() == False :\n",
        "\n",
        "            print(\"There Are No Missing Values\")\n",
        "\n",
        "        else:\n",
        "\n",
        "            missing_values = df.isnull().sum().sort_values(ascending=False)\n",
        "\n",
        "            missing_val_percent = ((df.isnull().sum()/len(df)).sort_values(ascending=False))\n",
        "\n",
        "            missing_df = pd.DataFrame({'Missing Values': missing_values, 'Percentage %': missing_val_percent})\n",
        "\n",
        "            return missing_df[missing_df['Percentage %'] > 0]\n",
        "\n",
        "# creating an instance of the class describer\n",
        "describe_df = Describer(df)\n",
        "\n",
        "# lets view the shape of the data\n",
        "describe_df.shape()\n",
        "\n",
        "# lets check for duplicates\n",
        "describe_df.check_duplicates()\n",
        "\n",
        "# lets describe data types\n",
        "describe_df.data_type()\n",
        "\n",
        "# lets view the info of the data\n",
        "describe_df.data_info()\n",
        "\n",
        "# lets describe numerical cols\n",
        "describe_df.data_describe()\n",
        "\n",
        "# lets get missing values\n",
        "describe_df.missing_values()\n",
        "\n",
        "\n"
      ]
    },
    {
      "cell_type": "markdown",
      "id": "98ee4330",
      "metadata": {
        "id": "98ee4330"
      },
      "source": [
        "### Data Cleaning\n",
        "The data cleaning process will entail the following:\n",
        "- Renaming clumsily worded columns for easier understanding\n",
        "- Dealing with missing data from the 77 columns\n",
        "    - Drop columns with 100% missing data"
      ]
    },
    {
      "cell_type": "markdown",
      "id": "9b5c09f0",
      "metadata": {
        "id": "9b5c09f0"
      },
      "source": []
    },
    {
      "cell_type": "markdown",
      "id": "c9ba0c0e",
      "metadata": {
        "id": "c9ba0c0e"
      },
      "source": [
        "#### Renaming Columns\n",
        "When going through the data, we noticed some clumsily worded columns. To make the data easier to understand, we came up with new names. Below we code a function that will take in the new and old names as key-value pairs, then use these to rename the columns in the dataframe.\n",
        "\n",
        "We have run the function below and confirmed renaming of a few columns e.g. columns 3 to 5"
      ]
    },
    {
      "cell_type": "code",
      "execution_count": 410,
      "id": "163ea491",
      "metadata": {
        "colab": {
          "base_uri": "https://localhost:8080/",
          "height": 455
        },
        "id": "163ea491",
        "outputId": "517cc21a-2f44-4ae0-a989-f079d0b1ca4f"
      },
      "outputs": [
        {
          "data": {
            "text/html": [
              "<div>\n",
              "<style scoped>\n",
              "    .dataframe tbody tr th:only-of-type {\n",
              "        vertical-align: middle;\n",
              "    }\n",
              "\n",
              "    .dataframe tbody tr th {\n",
              "        vertical-align: top;\n",
              "    }\n",
              "\n",
              "    .dataframe thead th {\n",
              "        text-align: right;\n",
              "    }\n",
              "</style>\n",
              "<table border=\"1\" class=\"dataframe\">\n",
              "  <thead>\n",
              "    <tr style=\"text-align: right;\">\n",
              "      <th></th>\n",
              "      <th>ResponseId</th>\n",
              "      <th>Developer_Description</th>\n",
              "      <th>Employment_Status</th>\n",
              "      <th>Remote_vs_Onsite</th>\n",
              "      <th>Outofwork_Coding</th>\n",
              "      <th>Education_Level</th>\n",
              "      <th>Learn_Code_Method</th>\n",
              "      <th>Learn_Code_Source</th>\n",
              "      <th>Code_Certifications</th>\n",
              "      <th>Coding_Experience</th>\n",
              "      <th>...</th>\n",
              "      <th>TimeSearching_Answers</th>\n",
              "      <th>TimeAnswering</th>\n",
              "      <th>Onboarding_Duration</th>\n",
              "      <th>ProfessionalTech</th>\n",
              "      <th>Is_Involved_Onboarding</th>\n",
              "      <th>Employer_Learning_Resources</th>\n",
              "      <th>Learning_Support</th>\n",
              "      <th>SurveyLength</th>\n",
              "      <th>SurveyEase</th>\n",
              "      <th>Annual_Salary</th>\n",
              "    </tr>\n",
              "  </thead>\n",
              "  <tbody>\n",
              "    <tr>\n",
              "      <th>0</th>\n",
              "      <td>1</td>\n",
              "      <td>None of these</td>\n",
              "      <td>NaN</td>\n",
              "      <td>NaN</td>\n",
              "      <td>NaN</td>\n",
              "      <td>NaN</td>\n",
              "      <td>NaN</td>\n",
              "      <td>NaN</td>\n",
              "      <td>NaN</td>\n",
              "      <td>NaN</td>\n",
              "      <td>...</td>\n",
              "      <td>NaN</td>\n",
              "      <td>NaN</td>\n",
              "      <td>NaN</td>\n",
              "      <td>NaN</td>\n",
              "      <td>NaN</td>\n",
              "      <td>NaN</td>\n",
              "      <td>NaN</td>\n",
              "      <td>NaN</td>\n",
              "      <td>NaN</td>\n",
              "      <td>NaN</td>\n",
              "    </tr>\n",
              "    <tr>\n",
              "      <th>1</th>\n",
              "      <td>2</td>\n",
              "      <td>I am a developer by profession</td>\n",
              "      <td>Employed, full-time</td>\n",
              "      <td>Fully remote</td>\n",
              "      <td>Hobby;Contribute to open-source projects</td>\n",
              "      <td>NaN</td>\n",
              "      <td>NaN</td>\n",
              "      <td>NaN</td>\n",
              "      <td>NaN</td>\n",
              "      <td>NaN</td>\n",
              "      <td>...</td>\n",
              "      <td>NaN</td>\n",
              "      <td>NaN</td>\n",
              "      <td>NaN</td>\n",
              "      <td>NaN</td>\n",
              "      <td>NaN</td>\n",
              "      <td>NaN</td>\n",
              "      <td>NaN</td>\n",
              "      <td>Too long</td>\n",
              "      <td>Difficult</td>\n",
              "      <td>NaN</td>\n",
              "    </tr>\n",
              "    <tr>\n",
              "      <th>2</th>\n",
              "      <td>3</td>\n",
              "      <td>I am not primarily a developer, but I write co...</td>\n",
              "      <td>Employed, full-time</td>\n",
              "      <td>Hybrid (some remote, some in-person)</td>\n",
              "      <td>Hobby</td>\n",
              "      <td>Master’s degree (M.A., M.S., M.Eng., MBA, etc.)</td>\n",
              "      <td>Books / Physical media;Friend or family member...</td>\n",
              "      <td>Technical documentation;Blogs;Programming Game...</td>\n",
              "      <td>NaN</td>\n",
              "      <td>14</td>\n",
              "      <td>...</td>\n",
              "      <td>NaN</td>\n",
              "      <td>NaN</td>\n",
              "      <td>NaN</td>\n",
              "      <td>NaN</td>\n",
              "      <td>NaN</td>\n",
              "      <td>NaN</td>\n",
              "      <td>NaN</td>\n",
              "      <td>Appropriate in length</td>\n",
              "      <td>Neither easy nor difficult</td>\n",
              "      <td>40205.0</td>\n",
              "    </tr>\n",
              "    <tr>\n",
              "      <th>3</th>\n",
              "      <td>4</td>\n",
              "      <td>I am a developer by profession</td>\n",
              "      <td>Employed, full-time</td>\n",
              "      <td>Fully remote</td>\n",
              "      <td>I don’t code outside of work</td>\n",
              "      <td>Bachelor’s degree (B.A., B.S., B.Eng., etc.)</td>\n",
              "      <td>Books / Physical media;School (i.e., Universit...</td>\n",
              "      <td>NaN</td>\n",
              "      <td>NaN</td>\n",
              "      <td>20</td>\n",
              "      <td>...</td>\n",
              "      <td>NaN</td>\n",
              "      <td>NaN</td>\n",
              "      <td>NaN</td>\n",
              "      <td>NaN</td>\n",
              "      <td>NaN</td>\n",
              "      <td>NaN</td>\n",
              "      <td>NaN</td>\n",
              "      <td>Appropriate in length</td>\n",
              "      <td>Easy</td>\n",
              "      <td>215232.0</td>\n",
              "    </tr>\n",
              "    <tr>\n",
              "      <th>4</th>\n",
              "      <td>5</td>\n",
              "      <td>I am a developer by profession</td>\n",
              "      <td>Employed, full-time</td>\n",
              "      <td>Hybrid (some remote, some in-person)</td>\n",
              "      <td>Hobby</td>\n",
              "      <td>Bachelor’s degree (B.A., B.S., B.Eng., etc.)</td>\n",
              "      <td>Other online resources (e.g., videos, blogs, f...</td>\n",
              "      <td>Technical documentation;Blogs;Stack Overflow;O...</td>\n",
              "      <td>NaN</td>\n",
              "      <td>8</td>\n",
              "      <td>...</td>\n",
              "      <td>NaN</td>\n",
              "      <td>NaN</td>\n",
              "      <td>NaN</td>\n",
              "      <td>NaN</td>\n",
              "      <td>NaN</td>\n",
              "      <td>NaN</td>\n",
              "      <td>NaN</td>\n",
              "      <td>Too long</td>\n",
              "      <td>Easy</td>\n",
              "      <td>NaN</td>\n",
              "    </tr>\n",
              "  </tbody>\n",
              "</table>\n",
              "<p>5 rows × 79 columns</p>\n",
              "</div>"
            ],
            "text/plain": [
              "   ResponseId                              Developer_Description  \\\n",
              "0           1                                      None of these   \n",
              "1           2                     I am a developer by profession   \n",
              "2           3  I am not primarily a developer, but I write co...   \n",
              "3           4                     I am a developer by profession   \n",
              "4           5                     I am a developer by profession   \n",
              "\n",
              "     Employment_Status                      Remote_vs_Onsite  \\\n",
              "0                  NaN                                   NaN   \n",
              "1  Employed, full-time                          Fully remote   \n",
              "2  Employed, full-time  Hybrid (some remote, some in-person)   \n",
              "3  Employed, full-time                          Fully remote   \n",
              "4  Employed, full-time  Hybrid (some remote, some in-person)   \n",
              "\n",
              "                           Outofwork_Coding  \\\n",
              "0                                       NaN   \n",
              "1  Hobby;Contribute to open-source projects   \n",
              "2                                     Hobby   \n",
              "3              I don’t code outside of work   \n",
              "4                                     Hobby   \n",
              "\n",
              "                                   Education_Level  \\\n",
              "0                                              NaN   \n",
              "1                                              NaN   \n",
              "2  Master’s degree (M.A., M.S., M.Eng., MBA, etc.)   \n",
              "3     Bachelor’s degree (B.A., B.S., B.Eng., etc.)   \n",
              "4     Bachelor’s degree (B.A., B.S., B.Eng., etc.)   \n",
              "\n",
              "                                   Learn_Code_Method  \\\n",
              "0                                                NaN   \n",
              "1                                                NaN   \n",
              "2  Books / Physical media;Friend or family member...   \n",
              "3  Books / Physical media;School (i.e., Universit...   \n",
              "4  Other online resources (e.g., videos, blogs, f...   \n",
              "\n",
              "                                   Learn_Code_Source Code_Certifications  \\\n",
              "0                                                NaN                 NaN   \n",
              "1                                                NaN                 NaN   \n",
              "2  Technical documentation;Blogs;Programming Game...                 NaN   \n",
              "3                                                NaN                 NaN   \n",
              "4  Technical documentation;Blogs;Stack Overflow;O...                 NaN   \n",
              "\n",
              "  Coding_Experience  ... TimeSearching_Answers TimeAnswering  \\\n",
              "0               NaN  ...                   NaN           NaN   \n",
              "1               NaN  ...                   NaN           NaN   \n",
              "2                14  ...                   NaN           NaN   \n",
              "3                20  ...                   NaN           NaN   \n",
              "4                 8  ...                   NaN           NaN   \n",
              "\n",
              "  Onboarding_Duration ProfessionalTech Is_Involved_Onboarding  \\\n",
              "0                 NaN              NaN                    NaN   \n",
              "1                 NaN              NaN                    NaN   \n",
              "2                 NaN              NaN                    NaN   \n",
              "3                 NaN              NaN                    NaN   \n",
              "4                 NaN              NaN                    NaN   \n",
              "\n",
              "  Employer_Learning_Resources Learning_Support           SurveyLength  \\\n",
              "0                         NaN              NaN                    NaN   \n",
              "1                         NaN              NaN               Too long   \n",
              "2                         NaN              NaN  Appropriate in length   \n",
              "3                         NaN              NaN  Appropriate in length   \n",
              "4                         NaN              NaN               Too long   \n",
              "\n",
              "                   SurveyEase Annual_Salary  \n",
              "0                         NaN           NaN  \n",
              "1                   Difficult           NaN  \n",
              "2  Neither easy nor difficult       40205.0  \n",
              "3                        Easy      215232.0  \n",
              "4                        Easy           NaN  \n",
              "\n",
              "[5 rows x 79 columns]"
            ]
          },
          "execution_count": 410,
          "metadata": {},
          "output_type": "execute_result"
        }
      ],
      "source": [
        "\n",
        "def rename(data):\n",
        "\n",
        "    # import text doc with old and new col names\n",
        "    cols = pd.read_csv(r'cols.txt', sep='\\t')\n",
        "\n",
        "    # create a dictionary with the cols df\n",
        "    cols_dict = dict(zip(cols['Old'], cols['New']))\n",
        "\n",
        "    # rename cols in the dataframe\n",
        "    df = data.rename(columns = cols_dict)\n",
        "\n",
        "    return df\n",
        "\n",
        "df = rename(df)\n",
        "df.head()"
      ]
    },
    {
      "cell_type": "markdown",
      "id": "df0687f8",
      "metadata": {
        "id": "df0687f8"
      },
      "source": [
        "### Cleaning Missing Data\n",
        "`VCHostingProfessional use` and `VCHostingPersonal use` columns have no data, hence have 100% missing values. We drop these 2 columns for this reason"
      ]
    },
    {
      "cell_type": "code",
      "execution_count": 411,
      "id": "71781d91",
      "metadata": {
        "colab": {
          "base_uri": "https://localhost:8080/",
          "height": 423
        },
        "id": "71781d91",
        "outputId": "bbb82d17-77a1-411e-90ee-6684ca4ae817"
      },
      "outputs": [
        {
          "data": {
            "text/html": [
              "<div>\n",
              "<style scoped>\n",
              "    .dataframe tbody tr th:only-of-type {\n",
              "        vertical-align: middle;\n",
              "    }\n",
              "\n",
              "    .dataframe tbody tr th {\n",
              "        vertical-align: top;\n",
              "    }\n",
              "\n",
              "    .dataframe thead th {\n",
              "        text-align: right;\n",
              "    }\n",
              "</style>\n",
              "<table border=\"1\" class=\"dataframe\">\n",
              "  <thead>\n",
              "    <tr style=\"text-align: right;\">\n",
              "      <th></th>\n",
              "      <th>Missing Values</th>\n",
              "      <th>Percentage %</th>\n",
              "    </tr>\n",
              "  </thead>\n",
              "  <tbody>\n",
              "    <tr>\n",
              "      <th>VCHostingProfessional use</th>\n",
              "      <td>73268</td>\n",
              "      <td>1.000000</td>\n",
              "    </tr>\n",
              "    <tr>\n",
              "      <th>VCHostingPersonal use</th>\n",
              "      <td>73268</td>\n",
              "      <td>1.000000</td>\n",
              "    </tr>\n",
              "    <tr>\n",
              "      <th>Code_Certifications</th>\n",
              "      <td>43879</td>\n",
              "      <td>0.598884</td>\n",
              "    </tr>\n",
              "    <tr>\n",
              "      <th>Proj_Mgmt_WantToWorkWith</th>\n",
              "      <td>41196</td>\n",
              "      <td>0.562265</td>\n",
              "    </tr>\n",
              "    <tr>\n",
              "      <th>Knowledge_Silos</th>\n",
              "      <td>38753</td>\n",
              "      <td>0.528921</td>\n",
              "    </tr>\n",
              "    <tr>\n",
              "      <th>...</th>\n",
              "      <td>...</td>\n",
              "      <td>...</td>\n",
              "    </tr>\n",
              "    <tr>\n",
              "      <th>Education_Level</th>\n",
              "      <td>1697</td>\n",
              "      <td>0.023162</td>\n",
              "    </tr>\n",
              "    <tr>\n",
              "      <th>SOAccount_Ownership</th>\n",
              "      <td>1696</td>\n",
              "      <td>0.023148</td>\n",
              "    </tr>\n",
              "    <tr>\n",
              "      <th>Learn_Code_Method</th>\n",
              "      <td>1688</td>\n",
              "      <td>0.023039</td>\n",
              "    </tr>\n",
              "    <tr>\n",
              "      <th>Employment_Status</th>\n",
              "      <td>1559</td>\n",
              "      <td>0.021278</td>\n",
              "    </tr>\n",
              "    <tr>\n",
              "      <th>Country</th>\n",
              "      <td>1497</td>\n",
              "      <td>0.020432</td>\n",
              "    </tr>\n",
              "  </tbody>\n",
              "</table>\n",
              "<p>77 rows × 2 columns</p>\n",
              "</div>"
            ],
            "text/plain": [
              "                           Missing Values  Percentage %\n",
              "VCHostingProfessional use           73268      1.000000\n",
              "VCHostingPersonal use               73268      1.000000\n",
              "Code_Certifications                 43879      0.598884\n",
              "Proj_Mgmt_WantToWorkWith            41196      0.562265\n",
              "Knowledge_Silos                     38753      0.528921\n",
              "...                                   ...           ...\n",
              "Education_Level                      1697      0.023162\n",
              "SOAccount_Ownership                  1696      0.023148\n",
              "Learn_Code_Method                    1688      0.023039\n",
              "Employment_Status                    1559      0.021278\n",
              "Country                              1497      0.020432\n",
              "\n",
              "[77 rows x 2 columns]"
            ]
          },
          "execution_count": 411,
          "metadata": {},
          "output_type": "execute_result"
        }
      ],
      "source": [
        "describe_df.missing_values()"
      ]
    },
    {
      "cell_type": "code",
      "execution_count": 412,
      "id": "f3cef514",
      "metadata": {
        "colab": {
          "base_uri": "https://localhost:8080/",
          "height": 423
        },
        "id": "f3cef514",
        "outputId": "8e086106-d1e1-408f-d350-a49949de0d66"
      },
      "outputs": [
        {
          "data": {
            "text/html": [
              "<div>\n",
              "<style scoped>\n",
              "    .dataframe tbody tr th:only-of-type {\n",
              "        vertical-align: middle;\n",
              "    }\n",
              "\n",
              "    .dataframe tbody tr th {\n",
              "        vertical-align: top;\n",
              "    }\n",
              "\n",
              "    .dataframe thead th {\n",
              "        text-align: right;\n",
              "    }\n",
              "</style>\n",
              "<table border=\"1\" class=\"dataframe\">\n",
              "  <thead>\n",
              "    <tr style=\"text-align: right;\">\n",
              "      <th></th>\n",
              "      <th>Missing Values</th>\n",
              "      <th>Percentage %</th>\n",
              "    </tr>\n",
              "  </thead>\n",
              "  <tbody>\n",
              "    <tr>\n",
              "      <th>Code_Certifications</th>\n",
              "      <td>43879</td>\n",
              "      <td>0.598884</td>\n",
              "    </tr>\n",
              "    <tr>\n",
              "      <th>Proj_Mgmt_WantToWorkWith</th>\n",
              "      <td>41196</td>\n",
              "      <td>0.562265</td>\n",
              "    </tr>\n",
              "    <tr>\n",
              "      <th>Knowledge_Silos</th>\n",
              "      <td>38753</td>\n",
              "      <td>0.528921</td>\n",
              "    </tr>\n",
              "    <tr>\n",
              "      <th>ProfessionalTech</th>\n",
              "      <td>38362</td>\n",
              "      <td>0.523585</td>\n",
              "    </tr>\n",
              "    <tr>\n",
              "      <th>Siloed_Teams</th>\n",
              "      <td>38295</td>\n",
              "      <td>0.522670</td>\n",
              "    </tr>\n",
              "    <tr>\n",
              "      <th>...</th>\n",
              "      <td>...</td>\n",
              "      <td>...</td>\n",
              "    </tr>\n",
              "    <tr>\n",
              "      <th>Education_Level</th>\n",
              "      <td>1697</td>\n",
              "      <td>0.023162</td>\n",
              "    </tr>\n",
              "    <tr>\n",
              "      <th>SOAccount_Ownership</th>\n",
              "      <td>1696</td>\n",
              "      <td>0.023148</td>\n",
              "    </tr>\n",
              "    <tr>\n",
              "      <th>Learn_Code_Method</th>\n",
              "      <td>1688</td>\n",
              "      <td>0.023039</td>\n",
              "    </tr>\n",
              "    <tr>\n",
              "      <th>Employment_Status</th>\n",
              "      <td>1559</td>\n",
              "      <td>0.021278</td>\n",
              "    </tr>\n",
              "    <tr>\n",
              "      <th>Country</th>\n",
              "      <td>1497</td>\n",
              "      <td>0.020432</td>\n",
              "    </tr>\n",
              "  </tbody>\n",
              "</table>\n",
              "<p>75 rows × 2 columns</p>\n",
              "</div>"
            ],
            "text/plain": [
              "                          Missing Values  Percentage %\n",
              "Code_Certifications                43879      0.598884\n",
              "Proj_Mgmt_WantToWorkWith           41196      0.562265\n",
              "Knowledge_Silos                    38753      0.528921\n",
              "ProfessionalTech                   38362      0.523585\n",
              "Siloed_Teams                       38295      0.522670\n",
              "...                                  ...           ...\n",
              "Education_Level                     1697      0.023162\n",
              "SOAccount_Ownership                 1696      0.023148\n",
              "Learn_Code_Method                   1688      0.023039\n",
              "Employment_Status                   1559      0.021278\n",
              "Country                             1497      0.020432\n",
              "\n",
              "[75 rows x 2 columns]"
            ]
          },
          "execution_count": 412,
          "metadata": {},
          "output_type": "execute_result"
        }
      ],
      "source": [
        "# function to drop 'VCHostingProfessional use' &  'VCHostingPersonal use' cols\n",
        "def dropping_columns(data, columns):\n",
        "\n",
        "    \"\"\"A simple function to drop columns with missing values\"\"\"\n",
        "\n",
        "    drop_column = data.drop(columns=columns, axis=1)\n",
        "\n",
        "    return drop_column\n",
        "\n",
        "columns_to_drop = ['VCHostingProfessional use', 'VCHostingPersonal use']\n",
        "\n",
        "df = dropping_columns(df, columns_to_drop)\n",
        "\n",
        "describe_df.missing_values()\n"
      ]
    },
    {
      "cell_type": "markdown",
      "id": "2d223e2b",
      "metadata": {
        "id": "2d223e2b"
      },
      "source": [
        "### Columns With Legitimately Missing Values\n",
        "The column `Participation_PDS` allowed a developer to choose wether or not they would answer the subsequent 20 questions. This means that the missing values for these will be missing because they should.\n",
        "\n",
        "In `Participation_PDS` we will replace NA with No, then in the subsequent PDS questions, replace NA with Not Answered"
      ]
    },
    {
      "cell_type": "code",
      "execution_count": 413,
      "id": "551e4f0d",
      "metadata": {
        "colab": {
          "base_uri": "https://localhost:8080/"
        },
        "id": "551e4f0d",
        "outputId": "0247339d-12f2-4c2a-e992-0906fbab82f8"
      },
      "outputs": [
        {
          "data": {
            "text/plain": [
              "array(['No', 'Yes'], dtype=object)"
            ]
          },
          "execution_count": 413,
          "metadata": {},
          "output_type": "execute_result"
        }
      ],
      "source": [
        "# function to replace NA in Participation_PDS with No\n",
        "def fill_pds(data):\n",
        "    data['Participation_PDS'] = data.Participation_PDS.fillna('No')\n",
        "    return data\n",
        "\n",
        "df = fill_pds(df)\n",
        "df.Participation_PDS.unique()"
      ]
    },
    {
      "cell_type": "code",
      "execution_count": 414,
      "id": "e498e023",
      "metadata": {
        "colab": {
          "base_uri": "https://localhost:8080/",
          "height": 455
        },
        "id": "e498e023",
        "outputId": "599670e3-16d9-4628-de5e-468dc26de367"
      },
      "outputs": [
        {
          "data": {
            "text/html": [
              "<div>\n",
              "<style scoped>\n",
              "    .dataframe tbody tr th:only-of-type {\n",
              "        vertical-align: middle;\n",
              "    }\n",
              "\n",
              "    .dataframe tbody tr th {\n",
              "        vertical-align: top;\n",
              "    }\n",
              "\n",
              "    .dataframe thead th {\n",
              "        text-align: right;\n",
              "    }\n",
              "</style>\n",
              "<table border=\"1\" class=\"dataframe\">\n",
              "  <thead>\n",
              "    <tr style=\"text-align: right;\">\n",
              "      <th></th>\n",
              "      <th>ResponseId</th>\n",
              "      <th>Developer_Description</th>\n",
              "      <th>Employment_Status</th>\n",
              "      <th>Remote_vs_Onsite</th>\n",
              "      <th>Outofwork_Coding</th>\n",
              "      <th>Education_Level</th>\n",
              "      <th>Learn_Code_Method</th>\n",
              "      <th>Learn_Code_Source</th>\n",
              "      <th>Code_Certifications</th>\n",
              "      <th>Coding_Experience</th>\n",
              "      <th>...</th>\n",
              "      <th>TimeSearching_Answers</th>\n",
              "      <th>TimeAnswering</th>\n",
              "      <th>Onboarding_Duration</th>\n",
              "      <th>ProfessionalTech</th>\n",
              "      <th>Is_Involved_Onboarding</th>\n",
              "      <th>Employer_Learning_Resources</th>\n",
              "      <th>Learning_Support</th>\n",
              "      <th>SurveyLength</th>\n",
              "      <th>SurveyEase</th>\n",
              "      <th>Annual_Salary</th>\n",
              "    </tr>\n",
              "  </thead>\n",
              "  <tbody>\n",
              "    <tr>\n",
              "      <th>0</th>\n",
              "      <td>1</td>\n",
              "      <td>None of these</td>\n",
              "      <td>NaN</td>\n",
              "      <td>NaN</td>\n",
              "      <td>NaN</td>\n",
              "      <td>NaN</td>\n",
              "      <td>NaN</td>\n",
              "      <td>NaN</td>\n",
              "      <td>NaN</td>\n",
              "      <td>NaN</td>\n",
              "      <td>...</td>\n",
              "      <td>Not Answered</td>\n",
              "      <td>Not Answered</td>\n",
              "      <td>Not Answered</td>\n",
              "      <td>Not Answered</td>\n",
              "      <td>Not Answered</td>\n",
              "      <td>Not Answered</td>\n",
              "      <td>Not Answered</td>\n",
              "      <td>NaN</td>\n",
              "      <td>NaN</td>\n",
              "      <td>NaN</td>\n",
              "    </tr>\n",
              "    <tr>\n",
              "      <th>1</th>\n",
              "      <td>2</td>\n",
              "      <td>I am a developer by profession</td>\n",
              "      <td>Employed, full-time</td>\n",
              "      <td>Fully remote</td>\n",
              "      <td>Hobby;Contribute to open-source projects</td>\n",
              "      <td>NaN</td>\n",
              "      <td>NaN</td>\n",
              "      <td>NaN</td>\n",
              "      <td>NaN</td>\n",
              "      <td>NaN</td>\n",
              "      <td>...</td>\n",
              "      <td>Not Answered</td>\n",
              "      <td>Not Answered</td>\n",
              "      <td>Not Answered</td>\n",
              "      <td>Not Answered</td>\n",
              "      <td>Not Answered</td>\n",
              "      <td>Not Answered</td>\n",
              "      <td>Not Answered</td>\n",
              "      <td>Too long</td>\n",
              "      <td>Difficult</td>\n",
              "      <td>NaN</td>\n",
              "    </tr>\n",
              "    <tr>\n",
              "      <th>2</th>\n",
              "      <td>3</td>\n",
              "      <td>I am not primarily a developer, but I write co...</td>\n",
              "      <td>Employed, full-time</td>\n",
              "      <td>Hybrid (some remote, some in-person)</td>\n",
              "      <td>Hobby</td>\n",
              "      <td>Master’s degree (M.A., M.S., M.Eng., MBA, etc.)</td>\n",
              "      <td>Books / Physical media;Friend or family member...</td>\n",
              "      <td>Technical documentation;Blogs;Programming Game...</td>\n",
              "      <td>NaN</td>\n",
              "      <td>14</td>\n",
              "      <td>...</td>\n",
              "      <td>Not Answered</td>\n",
              "      <td>Not Answered</td>\n",
              "      <td>Not Answered</td>\n",
              "      <td>Not Answered</td>\n",
              "      <td>Not Answered</td>\n",
              "      <td>Not Answered</td>\n",
              "      <td>Not Answered</td>\n",
              "      <td>Appropriate in length</td>\n",
              "      <td>Neither easy nor difficult</td>\n",
              "      <td>40205.0</td>\n",
              "    </tr>\n",
              "    <tr>\n",
              "      <th>3</th>\n",
              "      <td>4</td>\n",
              "      <td>I am a developer by profession</td>\n",
              "      <td>Employed, full-time</td>\n",
              "      <td>Fully remote</td>\n",
              "      <td>I don’t code outside of work</td>\n",
              "      <td>Bachelor’s degree (B.A., B.S., B.Eng., etc.)</td>\n",
              "      <td>Books / Physical media;School (i.e., Universit...</td>\n",
              "      <td>NaN</td>\n",
              "      <td>NaN</td>\n",
              "      <td>20</td>\n",
              "      <td>...</td>\n",
              "      <td>Not Answered</td>\n",
              "      <td>Not Answered</td>\n",
              "      <td>Not Answered</td>\n",
              "      <td>Not Answered</td>\n",
              "      <td>Not Answered</td>\n",
              "      <td>Not Answered</td>\n",
              "      <td>Not Answered</td>\n",
              "      <td>Appropriate in length</td>\n",
              "      <td>Easy</td>\n",
              "      <td>215232.0</td>\n",
              "    </tr>\n",
              "    <tr>\n",
              "      <th>4</th>\n",
              "      <td>5</td>\n",
              "      <td>I am a developer by profession</td>\n",
              "      <td>Employed, full-time</td>\n",
              "      <td>Hybrid (some remote, some in-person)</td>\n",
              "      <td>Hobby</td>\n",
              "      <td>Bachelor’s degree (B.A., B.S., B.Eng., etc.)</td>\n",
              "      <td>Other online resources (e.g., videos, blogs, f...</td>\n",
              "      <td>Technical documentation;Blogs;Stack Overflow;O...</td>\n",
              "      <td>NaN</td>\n",
              "      <td>8</td>\n",
              "      <td>...</td>\n",
              "      <td>Not Answered</td>\n",
              "      <td>Not Answered</td>\n",
              "      <td>Not Answered</td>\n",
              "      <td>Not Answered</td>\n",
              "      <td>Not Answered</td>\n",
              "      <td>Not Answered</td>\n",
              "      <td>Not Answered</td>\n",
              "      <td>Too long</td>\n",
              "      <td>Easy</td>\n",
              "      <td>NaN</td>\n",
              "    </tr>\n",
              "  </tbody>\n",
              "</table>\n",
              "<p>5 rows × 77 columns</p>\n",
              "</div>"
            ],
            "text/plain": [
              "   ResponseId                              Developer_Description  \\\n",
              "0           1                                      None of these   \n",
              "1           2                     I am a developer by profession   \n",
              "2           3  I am not primarily a developer, but I write co...   \n",
              "3           4                     I am a developer by profession   \n",
              "4           5                     I am a developer by profession   \n",
              "\n",
              "     Employment_Status                      Remote_vs_Onsite  \\\n",
              "0                  NaN                                   NaN   \n",
              "1  Employed, full-time                          Fully remote   \n",
              "2  Employed, full-time  Hybrid (some remote, some in-person)   \n",
              "3  Employed, full-time                          Fully remote   \n",
              "4  Employed, full-time  Hybrid (some remote, some in-person)   \n",
              "\n",
              "                           Outofwork_Coding  \\\n",
              "0                                       NaN   \n",
              "1  Hobby;Contribute to open-source projects   \n",
              "2                                     Hobby   \n",
              "3              I don’t code outside of work   \n",
              "4                                     Hobby   \n",
              "\n",
              "                                   Education_Level  \\\n",
              "0                                              NaN   \n",
              "1                                              NaN   \n",
              "2  Master’s degree (M.A., M.S., M.Eng., MBA, etc.)   \n",
              "3     Bachelor’s degree (B.A., B.S., B.Eng., etc.)   \n",
              "4     Bachelor’s degree (B.A., B.S., B.Eng., etc.)   \n",
              "\n",
              "                                   Learn_Code_Method  \\\n",
              "0                                                NaN   \n",
              "1                                                NaN   \n",
              "2  Books / Physical media;Friend or family member...   \n",
              "3  Books / Physical media;School (i.e., Universit...   \n",
              "4  Other online resources (e.g., videos, blogs, f...   \n",
              "\n",
              "                                   Learn_Code_Source Code_Certifications  \\\n",
              "0                                                NaN                 NaN   \n",
              "1                                                NaN                 NaN   \n",
              "2  Technical documentation;Blogs;Programming Game...                 NaN   \n",
              "3                                                NaN                 NaN   \n",
              "4  Technical documentation;Blogs;Stack Overflow;O...                 NaN   \n",
              "\n",
              "  Coding_Experience  ... TimeSearching_Answers TimeAnswering  \\\n",
              "0               NaN  ...          Not Answered  Not Answered   \n",
              "1               NaN  ...          Not Answered  Not Answered   \n",
              "2                14  ...          Not Answered  Not Answered   \n",
              "3                20  ...          Not Answered  Not Answered   \n",
              "4                 8  ...          Not Answered  Not Answered   \n",
              "\n",
              "  Onboarding_Duration ProfessionalTech Is_Involved_Onboarding  \\\n",
              "0        Not Answered     Not Answered           Not Answered   \n",
              "1        Not Answered     Not Answered           Not Answered   \n",
              "2        Not Answered     Not Answered           Not Answered   \n",
              "3        Not Answered     Not Answered           Not Answered   \n",
              "4        Not Answered     Not Answered           Not Answered   \n",
              "\n",
              "  Employer_Learning_Resources Learning_Support           SurveyLength  \\\n",
              "0                Not Answered     Not Answered                    NaN   \n",
              "1                Not Answered     Not Answered               Too long   \n",
              "2                Not Answered     Not Answered  Appropriate in length   \n",
              "3                Not Answered     Not Answered  Appropriate in length   \n",
              "4                Not Answered     Not Answered               Too long   \n",
              "\n",
              "                   SurveyEase Annual_Salary  \n",
              "0                         NaN           NaN  \n",
              "1                   Difficult           NaN  \n",
              "2  Neither easy nor difficult       40205.0  \n",
              "3                        Easy      215232.0  \n",
              "4                        Easy           NaN  \n",
              "\n",
              "[5 rows x 77 columns]"
            ]
          },
          "execution_count": 414,
          "metadata": {},
          "output_type": "execute_result"
        }
      ],
      "source": [
        "# function to clean cols 'Contributor_or_Manager':'Learning_Support'\n",
        "def replace_na(data):\n",
        "    for index, row in data.iterrows():\n",
        "        if row['Participation_PDS'] == 'No':\n",
        "            data.loc[index, 'Contributor_or_Manager':'Learning_Support'] = 'Not Answered'\n",
        "    return data\n",
        "\n",
        "df = replace_na(df)\n",
        "df.head()"
      ]
    },
    {
      "cell_type": "code",
      "execution_count": 415,
      "id": "3af8b7d1",
      "metadata": {
        "colab": {
          "base_uri": "https://localhost:8080/",
          "height": 423
        },
        "id": "3af8b7d1",
        "outputId": "96feaf9d-f361-4a4d-daed-893330e90d48"
      },
      "outputs": [
        {
          "data": {
            "text/html": [
              "<div>\n",
              "<style scoped>\n",
              "    .dataframe tbody tr th:only-of-type {\n",
              "        vertical-align: middle;\n",
              "    }\n",
              "\n",
              "    .dataframe tbody tr th {\n",
              "        vertical-align: top;\n",
              "    }\n",
              "\n",
              "    .dataframe thead th {\n",
              "        text-align: right;\n",
              "    }\n",
              "</style>\n",
              "<table border=\"1\" class=\"dataframe\">\n",
              "  <thead>\n",
              "    <tr style=\"text-align: right;\">\n",
              "      <th></th>\n",
              "      <th>Missing Values</th>\n",
              "      <th>Percentage %</th>\n",
              "    </tr>\n",
              "  </thead>\n",
              "  <tbody>\n",
              "    <tr>\n",
              "      <th>Code_Certifications</th>\n",
              "      <td>43879</td>\n",
              "      <td>0.598884</td>\n",
              "    </tr>\n",
              "    <tr>\n",
              "      <th>Proj_Mgmt_WantToWorkWith</th>\n",
              "      <td>41196</td>\n",
              "      <td>0.562265</td>\n",
              "    </tr>\n",
              "    <tr>\n",
              "      <th>MiscTechWantToWorkWith</th>\n",
              "      <td>36458</td>\n",
              "      <td>0.497598</td>\n",
              "    </tr>\n",
              "    <tr>\n",
              "      <th>Annual_Salary</th>\n",
              "      <td>35197</td>\n",
              "      <td>0.480387</td>\n",
              "    </tr>\n",
              "    <tr>\n",
              "      <th>Total_Salary</th>\n",
              "      <td>34846</td>\n",
              "      <td>0.475596</td>\n",
              "    </tr>\n",
              "    <tr>\n",
              "      <th>...</th>\n",
              "      <td>...</td>\n",
              "      <td>...</td>\n",
              "    </tr>\n",
              "    <tr>\n",
              "      <th>Is_Involved_Onboarding</th>\n",
              "      <td>1381</td>\n",
              "      <td>0.018849</td>\n",
              "    </tr>\n",
              "    <tr>\n",
              "      <th>TimeAnswering</th>\n",
              "      <td>1178</td>\n",
              "      <td>0.016078</td>\n",
              "    </tr>\n",
              "    <tr>\n",
              "      <th>TimeSearching_Answers</th>\n",
              "      <td>1002</td>\n",
              "      <td>0.013676</td>\n",
              "    </tr>\n",
              "    <tr>\n",
              "      <th>Contributor_or_Manager</th>\n",
              "      <td>917</td>\n",
              "      <td>0.012516</td>\n",
              "    </tr>\n",
              "    <tr>\n",
              "      <th>WorkExp</th>\n",
              "      <td>431</td>\n",
              "      <td>0.005883</td>\n",
              "    </tr>\n",
              "  </tbody>\n",
              "</table>\n",
              "<p>74 rows × 2 columns</p>\n",
              "</div>"
            ],
            "text/plain": [
              "                          Missing Values  Percentage %\n",
              "Code_Certifications                43879      0.598884\n",
              "Proj_Mgmt_WantToWorkWith           41196      0.562265\n",
              "MiscTechWantToWorkWith             36458      0.497598\n",
              "Annual_Salary                      35197      0.480387\n",
              "Total_Salary                       34846      0.475596\n",
              "...                                  ...           ...\n",
              "Is_Involved_Onboarding              1381      0.018849\n",
              "TimeAnswering                       1178      0.016078\n",
              "TimeSearching_Answers               1002      0.013676\n",
              "Contributor_or_Manager               917      0.012516\n",
              "WorkExp                              431      0.005883\n",
              "\n",
              "[74 rows x 2 columns]"
            ]
          },
          "execution_count": 415,
          "metadata": {},
          "output_type": "execute_result"
        }
      ],
      "source": [
        "describe_df.missing_values()"
      ]
    },
    {
      "cell_type": "markdown",
      "id": "328f15a0",
      "metadata": {
        "id": "328f15a0"
      },
      "source": [
        "After cleaning the legitimate missing columns above, we expected subsequent values to contain no missing data. However, on inspecting some 'Yes' values in  `Participation_PDS` we realised they also had some missing values in the subsequent columns. Below we clean these missing values by assigning them to 'Not Answered'"
      ]
    },
    {
      "cell_type": "code",
      "execution_count": 416,
      "id": "208254ed",
      "metadata": {
        "colab": {
          "base_uri": "https://localhost:8080/"
        },
        "id": "208254ed",
        "outputId": "7e0e1258-0c3a-408b-9603-6893ac68d914"
      },
      "outputs": [
        {
          "data": {
            "text/plain": [
              "Not Answered                  37070\n",
              "30-60 minutes a day           13652\n",
              "15-30 minutes a day           10122\n",
              "60-120 minutes a day           6371\n",
              "Less than 15 minutes a day     3528\n",
              "Over 120 minutes a day         2525\n",
              "Name: TimeSearching_Answers, dtype: int64"
            ]
          },
          "execution_count": 416,
          "metadata": {},
          "output_type": "execute_result"
        }
      ],
      "source": [
        "# function to replace yes in Participation_PDS with missing vals in subsequent columns\n",
        "    # Define the range of columns\n",
        "columns_range = ['Contributor_or_Manager', 'WorkExp', 'Extroverted', 'Siloed_Teams',\n",
        "       'Information_Availability', 'Well_Resourced', 'Info_Answ_Resource',\n",
        "       'Recurring_Responses', 'Workflow_Interruptions',\n",
        "       'External_Team_Assistance', 'External_Team_Interaction',\n",
        "       'Knowledge_Silos', 'TimeSearching_Answers', 'TimeAnswering',\n",
        "       'Onboarding_Duration', 'ProfessionalTech', 'Is_Involved_Onboarding',\n",
        "       'Employer_Learning_Resources', 'Learning_Support']\n",
        "\n",
        "def replace_yesna(data, columns_range, valuefill):\n",
        "    # Replace 'NA' with 'not answered' in the specified range of columns\n",
        "    data[columns_range] = data[columns_range].fillna(valuefill)\n",
        "    return data\n",
        "\n",
        "df = replace_yesna(df, columns_range,'Not Answered')\n",
        "\n",
        "df.TimeSearching_Answers.value_counts()\n"
      ]
    },
    {
      "cell_type": "markdown",
      "id": "d73913aa",
      "metadata": {
        "id": "d73913aa"
      },
      "source": [
        "After cleaning these columns, we now have 55 columns with missing values"
      ]
    },
    {
      "cell_type": "code",
      "execution_count": 417,
      "id": "1408ac7a",
      "metadata": {
        "colab": {
          "base_uri": "https://localhost:8080/"
        },
        "id": "1408ac7a",
        "outputId": "1da5e8ea-e597-4f11-9f6a-c09ccea9185c"
      },
      "outputs": [
        {
          "data": {
            "text/plain": [
              "55"
            ]
          },
          "execution_count": 417,
          "metadata": {},
          "output_type": "execute_result"
        }
      ],
      "source": [
        "len(describe_df.missing_values())"
      ]
    },
    {
      "cell_type": "markdown",
      "id": "1347beeb",
      "metadata": {
        "id": "1347beeb"
      },
      "source": [
        "To replace the missing values of `SurveyLength` and `SurveyEase`, we reviewed the most common values in both columns. In the former, 'Appropriate in length' is 76% while in the latter, 'Easy' is 67%. Below we use these 2 values to fill missing values for the 2 columns"
      ]
    },
    {
      "cell_type": "code",
      "execution_count": 418,
      "id": "e10360c2",
      "metadata": {
        "colab": {
          "base_uri": "https://localhost:8080/"
        },
        "id": "e10360c2",
        "outputId": "75ef7481-def0-4181-caaa-be53e4398689"
      },
      "outputs": [
        {
          "name": "stdout",
          "output_type": "stream",
          "text": [
            "Appropriate in length    0.764905\n",
            "Too long                 0.205709\n",
            "Too short                0.029385\n",
            "Name: SurveyLength, dtype: float64\n",
            "Easy                          0.679157\n",
            "Neither easy nor difficult    0.306731\n",
            "Difficult                     0.014112\n",
            "Name: SurveyEase, dtype: float64\n"
          ]
        }
      ],
      "source": [
        "# for\n",
        "print(df.SurveyLength.value_counts(normalize=True))\n",
        "print(df.SurveyEase.value_counts(normalize=True))"
      ]
    },
    {
      "cell_type": "code",
      "execution_count": 419,
      "id": "86749ace",
      "metadata": {
        "colab": {
          "base_uri": "https://localhost:8080/"
        },
        "id": "86749ace",
        "outputId": "08307c58-54f6-4dbb-d89b-ddb3e48137de"
      },
      "outputs": [
        {
          "name": "stdout",
          "output_type": "stream",
          "text": [
            "0\n",
            "0\n"
          ]
        }
      ],
      "source": [
        "def len_eas(data):\n",
        "    data.SurveyLength.fillna('Appropriate in length', inplace=True)\n",
        "    data.SurveyEase.fillna('Easy', inplace=True)\n",
        "\n",
        "    return data\n",
        "\n",
        "df = len_eas(df)\n",
        "\n",
        "print(df.SurveyLength.isna().sum())\n",
        "print(df.SurveyEase.isna().sum())"
      ]
    },
    {
      "cell_type": "markdown",
      "id": "787e856c",
      "metadata": {
        "id": "787e856c"
      },
      "source": [
        "The `Annual_Salary` column is our target variable. It has 47% of its values missing. **to be continued**"
      ]
    },
    {
      "cell_type": "code",
      "execution_count": 420,
      "id": "55ad6e08",
      "metadata": {
        "colab": {
          "base_uri": "https://localhost:8080/"
        },
        "id": "55ad6e08",
        "outputId": "38526928-6648-43c2-b8bc-4f6cbe815063"
      },
      "outputs": [
        {
          "name": "stdout",
          "output_type": "stream",
          "text": [
            "35197\n",
            "34846\n"
          ]
        }
      ],
      "source": [
        "print(df['Annual_Salary'].isna().sum())\n",
        "print(df['Total_Salary'].isna().sum())"
      ]
    },
    {
      "cell_type": "code",
      "execution_count": 421,
      "id": "375edbc4",
      "metadata": {
        "colab": {
          "base_uri": "https://localhost:8080/",
          "height": 1000
        },
        "id": "375edbc4",
        "outputId": "53cbc61d-cefe-450a-c78c-8bc8b22153cc"
      },
      "outputs": [
        {
          "name": "stdout",
          "output_type": "stream",
          "text": [
            "53\n"
          ]
        },
        {
          "data": {
            "text/html": [
              "<div>\n",
              "<style scoped>\n",
              "    .dataframe tbody tr th:only-of-type {\n",
              "        vertical-align: middle;\n",
              "    }\n",
              "\n",
              "    .dataframe tbody tr th {\n",
              "        vertical-align: top;\n",
              "    }\n",
              "\n",
              "    .dataframe thead th {\n",
              "        text-align: right;\n",
              "    }\n",
              "</style>\n",
              "<table border=\"1\" class=\"dataframe\">\n",
              "  <thead>\n",
              "    <tr style=\"text-align: right;\">\n",
              "      <th></th>\n",
              "      <th>Missing Values</th>\n",
              "      <th>Percentage %</th>\n",
              "    </tr>\n",
              "  </thead>\n",
              "  <tbody>\n",
              "    <tr>\n",
              "      <th>Code_Certifications</th>\n",
              "      <td>43879</td>\n",
              "      <td>0.598884</td>\n",
              "    </tr>\n",
              "    <tr>\n",
              "      <th>Proj_Mgmt_WantToWorkWith</th>\n",
              "      <td>41196</td>\n",
              "      <td>0.562265</td>\n",
              "    </tr>\n",
              "    <tr>\n",
              "      <th>MiscTechWantToWorkWith</th>\n",
              "      <td>36458</td>\n",
              "      <td>0.497598</td>\n",
              "    </tr>\n",
              "    <tr>\n",
              "      <th>Annual_Salary</th>\n",
              "      <td>35197</td>\n",
              "      <td>0.480387</td>\n",
              "    </tr>\n",
              "    <tr>\n",
              "      <th>Total_Salary</th>\n",
              "      <td>34846</td>\n",
              "      <td>0.475596</td>\n",
              "    </tr>\n",
              "    <tr>\n",
              "      <th>PlatformWantToWorkWith</th>\n",
              "      <td>32853</td>\n",
              "      <td>0.448395</td>\n",
              "    </tr>\n",
              "    <tr>\n",
              "      <th>Salary_Frequency</th>\n",
              "      <td>28843</td>\n",
              "      <td>0.393664</td>\n",
              "    </tr>\n",
              "    <tr>\n",
              "      <th>MiscTechHaveWorkedWith</th>\n",
              "      <td>28276</td>\n",
              "      <td>0.385926</td>\n",
              "    </tr>\n",
              "    <tr>\n",
              "      <th>WebframeWantToWorkWith</th>\n",
              "      <td>27146</td>\n",
              "      <td>0.370503</td>\n",
              "    </tr>\n",
              "    <tr>\n",
              "      <th>Proj_Mgmt_HVWorkedWith</th>\n",
              "      <td>27045</td>\n",
              "      <td>0.369124</td>\n",
              "    </tr>\n",
              "    <tr>\n",
              "      <th>ToolsTechWantToWorkWith</th>\n",
              "      <td>26702</td>\n",
              "      <td>0.364443</td>\n",
              "    </tr>\n",
              "    <tr>\n",
              "      <th>Proj_Mgmt_SyncWantToWorkWith</th>\n",
              "      <td>25580</td>\n",
              "      <td>0.349129</td>\n",
              "    </tr>\n",
              "    <tr>\n",
              "      <th>PlatformHaveWorkedWith</th>\n",
              "      <td>23344</td>\n",
              "      <td>0.318611</td>\n",
              "    </tr>\n",
              "    <tr>\n",
              "      <th>Learn_Code_Source</th>\n",
              "      <td>22583</td>\n",
              "      <td>0.308225</td>\n",
              "    </tr>\n",
              "    <tr>\n",
              "      <th>PurchaseInfluence</th>\n",
              "      <td>22299</td>\n",
              "      <td>0.304348</td>\n",
              "    </tr>\n",
              "    <tr>\n",
              "      <th>DatabaseWantToWorkWith</th>\n",
              "      <td>22254</td>\n",
              "      <td>0.303734</td>\n",
              "    </tr>\n",
              "    <tr>\n",
              "      <th>OrgSize</th>\n",
              "      <td>22229</td>\n",
              "      <td>0.303393</td>\n",
              "    </tr>\n",
              "    <tr>\n",
              "      <th>Currency</th>\n",
              "      <td>22004</td>\n",
              "      <td>0.300322</td>\n",
              "    </tr>\n",
              "    <tr>\n",
              "      <th>Pro_Experience</th>\n",
              "      <td>21435</td>\n",
              "      <td>0.292556</td>\n",
              "    </tr>\n",
              "    <tr>\n",
              "      <th>WebframeHaveWorkedWith</th>\n",
              "      <td>19724</td>\n",
              "      <td>0.269203</td>\n",
              "    </tr>\n",
              "    <tr>\n",
              "      <th>ToolsTechHaveWorkedWith</th>\n",
              "      <td>19097</td>\n",
              "      <td>0.260646</td>\n",
              "    </tr>\n",
              "    <tr>\n",
              "      <th>SOA_ParticipationFreq</th>\n",
              "      <td>15039</td>\n",
              "      <td>0.205260</td>\n",
              "    </tr>\n",
              "    <tr>\n",
              "      <th>Outofwork_Coding</th>\n",
              "      <td>14369</td>\n",
              "      <td>0.196116</td>\n",
              "    </tr>\n",
              "    <tr>\n",
              "      <th>Remote_vs_Onsite</th>\n",
              "      <td>14310</td>\n",
              "      <td>0.195310</td>\n",
              "    </tr>\n",
              "    <tr>\n",
              "      <th>DatabaseHaveWorkedWith</th>\n",
              "      <td>13147</td>\n",
              "      <td>0.179437</td>\n",
              "    </tr>\n",
              "    <tr>\n",
              "      <th>DevType</th>\n",
              "      <td>11966</td>\n",
              "      <td>0.163318</td>\n",
              "    </tr>\n",
              "    <tr>\n",
              "      <th>Proj_Mgmt_SyncHaveWorkedWith</th>\n",
              "      <td>11140</td>\n",
              "      <td>0.152045</td>\n",
              "    </tr>\n",
              "    <tr>\n",
              "      <th>NEWCollabToolsWantToWorkWith</th>\n",
              "      <td>9160</td>\n",
              "      <td>0.125020</td>\n",
              "    </tr>\n",
              "    <tr>\n",
              "      <th>OpSysProfessional_use</th>\n",
              "      <td>7765</td>\n",
              "      <td>0.105981</td>\n",
              "    </tr>\n",
              "    <tr>\n",
              "      <th>MentalHealth</th>\n",
              "      <td>6821</td>\n",
              "      <td>0.093097</td>\n",
              "    </tr>\n",
              "    <tr>\n",
              "      <th>Sexuality</th>\n",
              "      <td>6703</td>\n",
              "      <td>0.091486</td>\n",
              "    </tr>\n",
              "    <tr>\n",
              "      <th>LanguageWantToWorkWith</th>\n",
              "      <td>6241</td>\n",
              "      <td>0.085180</td>\n",
              "    </tr>\n",
              "    <tr>\n",
              "      <th>Disability</th>\n",
              "      <td>6024</td>\n",
              "      <td>0.082219</td>\n",
              "    </tr>\n",
              "    <tr>\n",
              "      <th>Purchase_Research</th>\n",
              "      <td>5305</td>\n",
              "      <td>0.072405</td>\n",
              "    </tr>\n",
              "    <tr>\n",
              "      <th>VCInteraction</th>\n",
              "      <td>5112</td>\n",
              "      <td>0.069771</td>\n",
              "    </tr>\n",
              "    <tr>\n",
              "      <th>Ethnicity</th>\n",
              "      <td>3794</td>\n",
              "      <td>0.051782</td>\n",
              "    </tr>\n",
              "    <tr>\n",
              "      <th>Trans</th>\n",
              "      <td>2953</td>\n",
              "      <td>0.040304</td>\n",
              "    </tr>\n",
              "    <tr>\n",
              "      <th>NEWCollabToolsHaveWorkedWith</th>\n",
              "      <td>2921</td>\n",
              "      <td>0.039867</td>\n",
              "    </tr>\n",
              "    <tr>\n",
              "      <th>Gender</th>\n",
              "      <td>2415</td>\n",
              "      <td>0.032961</td>\n",
              "    </tr>\n",
              "    <tr>\n",
              "      <th>Age</th>\n",
              "      <td>2322</td>\n",
              "      <td>0.031692</td>\n",
              "    </tr>\n",
              "    <tr>\n",
              "      <th>SOVisitFreq</th>\n",
              "      <td>2307</td>\n",
              "      <td>0.031487</td>\n",
              "    </tr>\n",
              "    <tr>\n",
              "      <th>OpSysPersonal_use</th>\n",
              "      <td>2305</td>\n",
              "      <td>0.031460</td>\n",
              "    </tr>\n",
              "    <tr>\n",
              "      <th>LanguageHaveWorkedWith</th>\n",
              "      <td>2293</td>\n",
              "      <td>0.031296</td>\n",
              "    </tr>\n",
              "    <tr>\n",
              "      <th>Blockchain_Sentiment</th>\n",
              "      <td>2197</td>\n",
              "      <td>0.029986</td>\n",
              "    </tr>\n",
              "    <tr>\n",
              "      <th>Coding_Experience</th>\n",
              "      <td>1937</td>\n",
              "      <td>0.026437</td>\n",
              "    </tr>\n",
              "    <tr>\n",
              "      <th>New_Stack_Overfl_Sites</th>\n",
              "      <td>1903</td>\n",
              "      <td>0.025973</td>\n",
              "    </tr>\n",
              "    <tr>\n",
              "      <th>VersionControlSystem</th>\n",
              "      <td>1889</td>\n",
              "      <td>0.025782</td>\n",
              "    </tr>\n",
              "    <tr>\n",
              "      <th>Belong_SO_Comm</th>\n",
              "      <td>1860</td>\n",
              "      <td>0.025386</td>\n",
              "    </tr>\n",
              "    <tr>\n",
              "      <th>Education_Level</th>\n",
              "      <td>1697</td>\n",
              "      <td>0.023162</td>\n",
              "    </tr>\n",
              "    <tr>\n",
              "      <th>SOAccount_Ownership</th>\n",
              "      <td>1696</td>\n",
              "      <td>0.023148</td>\n",
              "    </tr>\n",
              "    <tr>\n",
              "      <th>Learn_Code_Method</th>\n",
              "      <td>1688</td>\n",
              "      <td>0.023039</td>\n",
              "    </tr>\n",
              "    <tr>\n",
              "      <th>Employment_Status</th>\n",
              "      <td>1559</td>\n",
              "      <td>0.021278</td>\n",
              "    </tr>\n",
              "    <tr>\n",
              "      <th>Country</th>\n",
              "      <td>1497</td>\n",
              "      <td>0.020432</td>\n",
              "    </tr>\n",
              "  </tbody>\n",
              "</table>\n",
              "</div>"
            ],
            "text/plain": [
              "                              Missing Values  Percentage %\n",
              "Code_Certifications                    43879      0.598884\n",
              "Proj_Mgmt_WantToWorkWith               41196      0.562265\n",
              "MiscTechWantToWorkWith                 36458      0.497598\n",
              "Annual_Salary                          35197      0.480387\n",
              "Total_Salary                           34846      0.475596\n",
              "PlatformWantToWorkWith                 32853      0.448395\n",
              "Salary_Frequency                       28843      0.393664\n",
              "MiscTechHaveWorkedWith                 28276      0.385926\n",
              "WebframeWantToWorkWith                 27146      0.370503\n",
              "Proj_Mgmt_HVWorkedWith                 27045      0.369124\n",
              "ToolsTechWantToWorkWith                26702      0.364443\n",
              "Proj_Mgmt_SyncWantToWorkWith           25580      0.349129\n",
              "PlatformHaveWorkedWith                 23344      0.318611\n",
              "Learn_Code_Source                      22583      0.308225\n",
              "PurchaseInfluence                      22299      0.304348\n",
              "DatabaseWantToWorkWith                 22254      0.303734\n",
              "OrgSize                                22229      0.303393\n",
              "Currency                               22004      0.300322\n",
              "Pro_Experience                         21435      0.292556\n",
              "WebframeHaveWorkedWith                 19724      0.269203\n",
              "ToolsTechHaveWorkedWith                19097      0.260646\n",
              "SOA_ParticipationFreq                  15039      0.205260\n",
              "Outofwork_Coding                       14369      0.196116\n",
              "Remote_vs_Onsite                       14310      0.195310\n",
              "DatabaseHaveWorkedWith                 13147      0.179437\n",
              "DevType                                11966      0.163318\n",
              "Proj_Mgmt_SyncHaveWorkedWith           11140      0.152045\n",
              "NEWCollabToolsWantToWorkWith            9160      0.125020\n",
              "OpSysProfessional_use                   7765      0.105981\n",
              "MentalHealth                            6821      0.093097\n",
              "Sexuality                               6703      0.091486\n",
              "LanguageWantToWorkWith                  6241      0.085180\n",
              "Disability                              6024      0.082219\n",
              "Purchase_Research                       5305      0.072405\n",
              "VCInteraction                           5112      0.069771\n",
              "Ethnicity                               3794      0.051782\n",
              "Trans                                   2953      0.040304\n",
              "NEWCollabToolsHaveWorkedWith            2921      0.039867\n",
              "Gender                                  2415      0.032961\n",
              "Age                                     2322      0.031692\n",
              "SOVisitFreq                             2307      0.031487\n",
              "OpSysPersonal_use                       2305      0.031460\n",
              "LanguageHaveWorkedWith                  2293      0.031296\n",
              "Blockchain_Sentiment                    2197      0.029986\n",
              "Coding_Experience                       1937      0.026437\n",
              "New_Stack_Overfl_Sites                  1903      0.025973\n",
              "VersionControlSystem                    1889      0.025782\n",
              "Belong_SO_Comm                          1860      0.025386\n",
              "Education_Level                         1697      0.023162\n",
              "SOAccount_Ownership                     1696      0.023148\n",
              "Learn_Code_Method                       1688      0.023039\n",
              "Employment_Status                       1559      0.021278\n",
              "Country                                 1497      0.020432"
            ]
          },
          "execution_count": 421,
          "metadata": {},
          "output_type": "execute_result"
        }
      ],
      "source": [
        "print(len(describe_df.missing_values()))\n",
        "describe_df.missing_values()"
      ]
    },
    {
      "cell_type": "markdown",
      "id": "41c9e753",
      "metadata": {
        "id": "41c9e753"
      },
      "source": [
        "Below we select rows with 20% - 70% missing values in all columns. Looking at the sample distribution of missing values, we will drop all rows with more than 50% missing values as they quality of their responses are doubful"
      ]
    },
    {
      "cell_type": "code",
      "execution_count": 422,
      "id": "1ea2490a",
      "metadata": {
        "colab": {
          "base_uri": "https://localhost:8080/"
        },
        "id": "1ea2490a",
        "outputId": "282a14df-1019-4b28-8f25-c143cf952e55"
      },
      "outputs": [
        {
          "name": "stdout",
          "output_type": "stream",
          "text": [
            "20% missing:  14802 50% missing:  1557 60% missing:  1510 70% missing:  0\n"
          ]
        }
      ],
      "source": [
        "# function to calculate 20% - 70% of col missing values\n",
        "def missing_vals(data):\n",
        "    # Calculate the percentage of missing values for each row\n",
        "    missing_percentages = data.isnull().mean(axis=1) * 100\n",
        "\n",
        "    # Select rows with 20% missing values\n",
        "    rows_20_percent_missing = data[missing_percentages >= 20]\n",
        "\n",
        "    # Select rows with 50% missing values\n",
        "    rows_50_percent_missing = data[missing_percentages >= 50]\n",
        "\n",
        "    # Select rows with 60% missing values\n",
        "    rows_60_percent_missing = data[missing_percentages >= 60]\n",
        "\n",
        "    # Select rows with 70% missing values\n",
        "    rows_70_percent_missing = data[missing_percentages >= 70]\n",
        "\n",
        "    out = print(\"20% missing: \", len(rows_20_percent_missing), \"50% missing: \", len(rows_50_percent_missing),\n",
        "                \"60% missing: \", len(rows_60_percent_missing), \"70% missing: \", len(rows_70_percent_missing))\n",
        "    return out\n",
        "\n",
        "missing_vals(df)"
      ]
    },
    {
      "cell_type": "code",
      "execution_count": 423,
      "id": "fef1f01d",
      "metadata": {
        "colab": {
          "base_uri": "https://localhost:8080/"
        },
        "id": "fef1f01d",
        "outputId": "fd526526-298e-497c-c097-b224d05113f4"
      },
      "outputs": [
        {
          "data": {
            "text/plain": [
              "(71711, 77)"
            ]
          },
          "execution_count": 423,
          "metadata": {},
          "output_type": "execute_result"
        }
      ],
      "source": [
        "# function to drop rows with more than 50% missing values\n",
        "def drop_50(data):\n",
        "    threshold = len(data.columns) * 0.5  # 50% of total columns\n",
        "    data = data.dropna(thresh=threshold)\n",
        "\n",
        "    return data\n",
        "\n",
        "df = drop_50(df)\n",
        "df.shape"
      ]
    },
    {
      "cell_type": "code",
      "execution_count": 424,
      "id": "b14808b4",
      "metadata": {
        "colab": {
          "base_uri": "https://localhost:8080/"
        },
        "id": "b14808b4",
        "outputId": "f6df4469-8cfc-4041-aaad-c494f1e3a004"
      },
      "outputs": [
        {
          "name": "stdout",
          "output_type": "stream",
          "text": [
            "['Code_Certifications', 'Proj_Mgmt_WantToWorkWith', 'MiscTechWantToWorkWith', 'Annual_Salary', 'Total_Salary', 'PlatformWantToWorkWith', 'Salary_Frequency', 'MiscTechHaveWorkedWith', 'WebframeWantToWorkWith', 'Proj_Mgmt_HVWorkedWith', 'ToolsTechWantToWorkWith', 'Proj_Mgmt_SyncWantToWorkWith', 'PlatformHaveWorkedWith', 'Learn_Code_Source', 'PurchaseInfluence', 'DatabaseWantToWorkWith', 'OrgSize', 'Currency', 'Pro_Experience', 'WebframeHaveWorkedWith', 'ToolsTechHaveWorkedWith', 'SOA_ParticipationFreq', 'Outofwork_Coding', 'Remote_vs_Onsite', 'DatabaseHaveWorkedWith', 'DevType', 'Proj_Mgmt_SyncHaveWorkedWith', 'NEWCollabToolsWantToWorkWith', 'OpSysProfessional use', 'MentalHealth', 'Sexuality', 'LanguageWantToWorkWith', 'Disability', 'Purchase_Research', 'VCInteraction', 'Ethnicity', 'Trans', 'NEWCollabToolsHaveWorkedWith', 'Gender', 'Age', 'OpSysPersonal use', 'SOVisitFreq', 'LanguageHaveWorkedWith', 'Blockchain_Sentiment', 'Coding_Experience', 'New_Stack_Overfl_Sites', 'VersionControlSystem', 'Belong_SO_Comm', 'Education_Level', 'SOAccount_Ownership', 'Learn_Code_Method', 'Employment_Status']\n"
          ]
        }
      ],
      "source": [
        "cols = \"\"\"Code_Certifications\n",
        "Proj_Mgmt_WantToWorkWith\n",
        "MiscTechWantToWorkWith\n",
        "Annual_Salary\n",
        "Total_Salary\n",
        "PlatformWantToWorkWith\n",
        "Salary_Frequency\n",
        "MiscTechHaveWorkedWith\n",
        "WebframeWantToWorkWith\n",
        "Proj_Mgmt_HVWorkedWith\n",
        "ToolsTechWantToWorkWith\n",
        "Proj_Mgmt_SyncWantToWorkWith\n",
        "PlatformHaveWorkedWith\n",
        "Learn_Code_Source\n",
        "PurchaseInfluence\n",
        "DatabaseWantToWorkWith\n",
        "OrgSize\n",
        "Currency\n",
        "Pro_Experience\n",
        "WebframeHaveWorkedWith\n",
        "ToolsTechHaveWorkedWith\n",
        "SOA_ParticipationFreq\n",
        "Outofwork_Coding\n",
        "Remote_vs_Onsite\n",
        "DatabaseHaveWorkedWith\n",
        "DevType\n",
        "Proj_Mgmt_SyncHaveWorkedWith\n",
        "NEWCollabToolsWantToWorkWith\n",
        "OpSysProfessional use\n",
        "MentalHealth\n",
        "Sexuality\n",
        "LanguageWantToWorkWith\n",
        "Disability\n",
        "Purchase_Research\n",
        "VCInteraction\n",
        "Ethnicity\n",
        "Trans\n",
        "NEWCollabToolsHaveWorkedWith\n",
        "Gender\n",
        "Age\n",
        "OpSysPersonal use\n",
        "SOVisitFreq\n",
        "LanguageHaveWorkedWith\n",
        "Blockchain_Sentiment\n",
        "Coding_Experience\n",
        "New_Stack_Overfl_Sites\n",
        "VersionControlSystem\n",
        "Belong_SO_Comm\n",
        "Education_Level\n",
        "SOAccount_Ownership\n",
        "Learn_Code_Method\n",
        "Employment_Status\n",
        "\"\"\"\n",
        "# function to split cols variable into a list\n",
        "def listcols(cols):\n",
        "    cols_list = cols.split('\\n')\n",
        "    cols_list = [col.strip() for col in cols_list if col.strip()]\n",
        "\n",
        "    return cols_list\n",
        "\n",
        "cols_list = listcols(cols)\n",
        "print(cols_list)"
      ]
    },
    {
      "cell_type": "markdown",
      "id": "bce8d690",
      "metadata": {
        "id": "bce8d690"
      },
      "source": [
        "We select the columns with missing values, then below we run a profiles report to inspect the properties of each columns, and decide on how to deal with the missing values."
      ]
    },
    {
      "cell_type": "code",
      "execution_count": 425,
      "id": "b769fc04",
      "metadata": {
        "id": "b769fc04"
      },
      "outputs": [],
      "source": [
        "# function to display profile report for cols\n",
        "# with missing values\n",
        "def profile_report(data, cols_list):\n",
        "    missing_cols = data[cols_list]\n",
        "    profile = ProfileReport(missing_cols, title = \"Profiling Report\", minimal = True)\n",
        "    return profile\n",
        "\n",
        "#profile_report(df, cols_list)"
      ]
    },
    {
      "cell_type": "markdown",
      "id": "0a398b07",
      "metadata": {
        "id": "0a398b07"
      },
      "source": [
        "#### Drop `Total_Salary`, `Salary_Frequency` and `Currency` Columns\n",
        "These columns are used to compute `Annual_Salary` column, which is our target variable. Thus they should not form part of the feature variables"
      ]
    },
    {
      "cell_type": "code",
      "execution_count": 426,
      "id": "4c6c8d6a",
      "metadata": {
        "colab": {
          "base_uri": "https://localhost:8080/"
        },
        "id": "4c6c8d6a",
        "outputId": "290cc9c7-4806-467d-c319-379da53ba4f3"
      },
      "outputs": [
        {
          "data": {
            "text/plain": [
              "74"
            ]
          },
          "execution_count": 426,
          "metadata": {},
          "output_type": "execute_result"
        }
      ],
      "source": [
        "# use our function to drop\n",
        "columns_to_drop1 = ['Total_Salary', 'Salary_Frequency', 'Currency']\n",
        "df = dropping_columns(df, columns_to_drop1)\n",
        "df.shape[1]"
      ]
    },
    {
      "cell_type": "code",
      "execution_count": 427,
      "id": "8914c40a",
      "metadata": {
        "colab": {
          "base_uri": "https://localhost:8080/"
        },
        "id": "8914c40a",
        "outputId": "d165d15f-ca83-4205-eb59-af7f959edbe2"
      },
      "outputs": [
        {
          "name": "stdout",
          "output_type": "stream",
          "text": [
            "False\n",
            "False\n",
            "False\n"
          ]
        }
      ],
      "source": [
        "# confirming cols have been dropped\n",
        "def confirm(data, columns_to_drop1):\n",
        "    for i in columns_to_drop1:\n",
        "        print(i in data.columns)\n",
        "    return None\n",
        "\n",
        "confirm(df, columns_to_drop1)"
      ]
    },
    {
      "cell_type": "markdown",
      "id": "1c407846",
      "metadata": {
        "id": "1c407846"
      },
      "source": [
        "#### Handle Missing Values with None of the Above\n",
        "The columns below have valid missing values because the response options did not allow the developers specify the responses that did not apply to them. For example in the column `Code_Certifications` asks developers the online resources they used to learn coding. However, it is possible that some people didn't use these resources because they learned coding in the degree courses for example. Since this option misses from the responses, those develpers opted to skip for this reason. The same logic applies to the remaining columns selected below"
      ]
    },
    {
      "cell_type": "code",
      "execution_count": 428,
      "id": "179cd819",
      "metadata": {
        "colab": {
          "base_uri": "https://localhost:8080/"
        },
        "id": "179cd819",
        "outputId": "cfc3cb01-a381-4e00-db08-1f65486641ae"
      },
      "outputs": [
        {
          "name": "stdout",
          "output_type": "stream",
          "text": [
            "['Code_Certifications', 'Proj_Mgmt_WantToWorkWith', 'MiscTechWantToWorkWith', 'PlatformWantToWorkWith', 'MiscTechHaveWorkedWith', 'WebframeWantToWorkWith', 'Proj_Mgmt_HVWorkedWith', 'ToolsTechWantToWorkWith', 'Proj_Mgmt_SyncWantToWorkWith', 'PlatformHaveWorkedWith', 'Learn_Code_Source', 'PurchaseInfluence', 'DatabaseWantToWorkWith', 'WebframeHaveWorkedWith', 'ToolsTechHaveWorkedWith', 'Outofwork_Coding', 'DevType', 'Proj_Mgmt_SyncHaveWorkedWith', 'NEWCollabToolsWantToWorkWith', 'MentalHealth', 'LanguageWantToWorkWith', 'Disability', 'Purchase_Research', 'VCInteraction', 'NEWCollabToolsHaveWorkedWith', 'New_Stack_Overfl_Sites', 'OrgSize', 'Remote_vs_Onsite', 'DatabaseHaveWorkedWith']\n"
          ]
        }
      ],
      "source": [
        "# create list of columns\n",
        "cols1 = \"\"\"Code_Certifications\n",
        "Proj_Mgmt_WantToWorkWith\n",
        "MiscTechWantToWorkWith\n",
        "PlatformWantToWorkWith\n",
        "MiscTechHaveWorkedWith\n",
        "WebframeWantToWorkWith\n",
        "Proj_Mgmt_HVWorkedWith\n",
        "ToolsTechWantToWorkWith\n",
        "Proj_Mgmt_SyncWantToWorkWith\n",
        "PlatformHaveWorkedWith\n",
        "Learn_Code_Source\n",
        "PurchaseInfluence\n",
        "DatabaseWantToWorkWith\n",
        "WebframeHaveWorkedWith\n",
        "ToolsTechHaveWorkedWith\n",
        "Outofwork_Coding\n",
        "DevType\n",
        "Proj_Mgmt_SyncHaveWorkedWith\n",
        "NEWCollabToolsWantToWorkWith\n",
        "MentalHealth\n",
        "LanguageWantToWorkWith\n",
        "Disability\n",
        "Purchase_Research\n",
        "VCInteraction\n",
        "NEWCollabToolsHaveWorkedWith\n",
        "New_Stack_Overfl_Sites\n",
        "OrgSize\n",
        "Remote_vs_Onsite\n",
        "DatabaseHaveWorkedWith\"\"\"\n",
        "\n",
        "cols_list1 = listcols(cols1)\n",
        "print(cols_list1)"
      ]
    },
    {
      "cell_type": "code",
      "execution_count": 429,
      "id": "3e2a73b6",
      "metadata": {
        "colab": {
          "base_uri": "https://localhost:8080/"
        },
        "id": "3e2a73b6",
        "outputId": "4fef2726-0890-407b-9152-76336bb329e2"
      },
      "outputs": [
        {
          "data": {
            "text/plain": [
              "None of the Above                                 42323\n",
              "Udemy                                              5643\n",
              "Other                                              2593\n",
              "Coursera;Udemy                                     1893\n",
              "Udemy;Codecademy                                   1472\n",
              "                                                  ...  \n",
              "Udacity;Other;Skillsoft                               1\n",
              "Coursera;Codecademy;edX;Udacity;Skillsoft             1\n",
              "Udemy;Pluralsight;edX;Udacity;Other;Skillsoft         1\n",
              "Coursera;Pluralsight;Udacity;Skillsoft                1\n",
              "Udemy;Codecademy;Pluralsight;Udacity;Skillsoft        1\n",
              "Name: Code_Certifications, Length: 207, dtype: int64"
            ]
          },
          "execution_count": 429,
          "metadata": {},
          "output_type": "execute_result"
        }
      ],
      "source": [
        "# use function to filll in list of columns with None\n",
        "df = replace_yesna(df, cols_list1,'None of the Above')\n",
        "df.Code_Certifications.value_counts()"
      ]
    },
    {
      "cell_type": "markdown",
      "id": "23349cf0",
      "metadata": {
        "id": "23349cf0"
      },
      "source": [
        "#### Missing Values filled With One of the Response Options\n",
        "For this set of columns, we have identified a criteria to fill in the missing values based on the response distribution. For example:\n",
        "- demographic variable missing values are filled with preferred not to say option due to sensitivity\n",
        "- some other variables filled with the most common response option based on domain knowledge e.g operating systems used\n",
        "- while some filled with 'not sure/can't rememember'- e.g. blockchain sentiments"
      ]
    },
    {
      "cell_type": "code",
      "execution_count": 430,
      "id": "05ee6bbe",
      "metadata": {
        "id": "05ee6bbe"
      },
      "outputs": [],
      "source": [
        "# Function to rename values in the 'Experience' column\n",
        "def rename_values(df, column):\n",
        "    df[column] = df[column].replace({'Less than 1 year': 0.5, 'More than 50 years': 50})\n",
        "    return df\n",
        "\n",
        "# Call the function to rename values in the 'Pro_Experience' column\n",
        "df = rename_values(df, 'Pro_Experience')\n",
        "\n",
        "# Call the function to rename values in the 'Coding_Experience' column\n",
        "df = rename_values(df, 'Coding_Experience')\n"
      ]
    },
    {
      "cell_type": "code",
      "execution_count": 431,
      "id": "553bd743",
      "metadata": {
        "id": "553bd743"
      },
      "outputs": [],
      "source": [
        "# cols to fill with 'Prefer not to say'\n",
        "demo = ['Sexuality', 'Ethnicity', 'Trans', 'Gender', 'Employment_Status']\n",
        "\n",
        "df = replace_yesna(df, demo,'Prefer not to say')\n",
        "\n",
        "# fill Age with '25-34 years old'\n",
        "df = replace_yesna(df, 'Age','25-34 years old')\n",
        "\n",
        "# fill 'OpSysPersonal use' & 'OpSysProfessional use' with 'Windows'\n",
        "ops = ['OpSysPersonal_use', 'OpSysProfessional_use']\n",
        "df = replace_yesna(df, ops,'Windows')\n",
        "\n",
        "# fill  SOVisitFreq with 'Daily or almost daily'\n",
        "df = replace_yesna(df, 'SOVisitFreq','Daily or almost daily')\n",
        "\n",
        "# fill Blockchain_Sentiment with 'Unsure'\n",
        "df = replace_yesna(df, 'Blockchain_Sentiment','Unsure')\n",
        "\n",
        "# fill Coding_Experience, Pro_Experience with median\n",
        "df['Coding_Experience'].fillna(df['Coding_Experience'].median(), inplace=True)\n",
        "df['Pro_Experience'].fillna(df['Pro_Experience'].median(), inplace=True)\n",
        "\n",
        "# fill VersionControlSystem with 'I don't use one'\n",
        "df = replace_yesna(df, 'VersionControlSystem',\"I don't use one\")\n",
        "\n",
        "# fill Belong_SO_Comm with 'Not sure'\n",
        "df = replace_yesna(df, 'Belong_SO_Comm',\"Not sure\")\n",
        "\n",
        "# fill Education_Level with 'Something else'\n",
        "df = replace_yesna(df, 'Education_Level',\"Something else\")\n",
        "\n",
        "# fill SOAccount_Ownership with Not sure/can't remember\n",
        "df = replace_yesna(df, 'SOAccount_Ownership',\"Not sure/can't remember\")\n",
        "\n",
        "# fill Learn_Code_Method with 'I don't use one'\n",
        "df = replace_yesna(df, 'Learn_Code_Method',\"I don't use one\")\n",
        "\n",
        "# fill SOA_ParticipationFreq with 'Less than once per month or monthly'\n",
        "df = replace_yesna(df, 'SOA_ParticipationFreq',\"Less than once per month or monthly\")\n",
        "\n",
        "# fill LanguageHaveWorkedWith with 'Bash/Shell'\n",
        "df = replace_yesna(df, 'LanguageHaveWorkedWith',\"Bash/Shell\")\n"
      ]
    },
    {
      "cell_type": "code",
      "execution_count": 432,
      "id": "6d2c05b7",
      "metadata": {
        "colab": {
          "base_uri": "https://localhost:8080/",
          "height": 98
        },
        "id": "6d2c05b7",
        "outputId": "6797393b-44fd-49e1-8041-9ddccbbcb787"
      },
      "outputs": [
        {
          "name": "stdout",
          "output_type": "stream",
          "text": [
            "1\n"
          ]
        },
        {
          "data": {
            "text/html": [
              "<div>\n",
              "<style scoped>\n",
              "    .dataframe tbody tr th:only-of-type {\n",
              "        vertical-align: middle;\n",
              "    }\n",
              "\n",
              "    .dataframe tbody tr th {\n",
              "        vertical-align: top;\n",
              "    }\n",
              "\n",
              "    .dataframe thead th {\n",
              "        text-align: right;\n",
              "    }\n",
              "</style>\n",
              "<table border=\"1\" class=\"dataframe\">\n",
              "  <thead>\n",
              "    <tr style=\"text-align: right;\">\n",
              "      <th></th>\n",
              "      <th>Missing Values</th>\n",
              "      <th>Percentage %</th>\n",
              "    </tr>\n",
              "  </thead>\n",
              "  <tbody>\n",
              "    <tr>\n",
              "      <th>Annual_Salary</th>\n",
              "      <td>33640</td>\n",
              "      <td>0.469105</td>\n",
              "    </tr>\n",
              "  </tbody>\n",
              "</table>\n",
              "</div>"
            ],
            "text/plain": [
              "               Missing Values  Percentage %\n",
              "Annual_Salary           33640      0.469105"
            ]
          },
          "execution_count": 432,
          "metadata": {},
          "output_type": "execute_result"
        }
      ],
      "source": [
        "print(len(describe_df.missing_values()))\n",
        "describe_df.missing_values()"
      ]
    },
    {
      "cell_type": "markdown",
      "id": "2c5cf266",
      "metadata": {
        "id": "2c5cf266"
      },
      "source": [
        "#### Handling Multiple Response Values\n",
        "From the profiles analysis, the columns below were discovered to contain multiple and fragmented respones for each row, which masked the true distribution across categories due to unique combination of values contained in each row. To untangle the values and have unique responses, we will select the first mentioned response. Our rationale is that this responses for e.g in `Code_Certifications` represents the online resource that was used most often, was most impactful, or most memorable to the developer. The same arguement holds for the other columns."
      ]
    },
    {
      "cell_type": "code",
      "execution_count": 433,
      "id": "06bc5453",
      "metadata": {
        "colab": {
          "base_uri": "https://localhost:8080/"
        },
        "id": "06bc5453",
        "outputId": "05b27afe-e87e-4109-8b77-79906e8edf63"
      },
      "outputs": [
        {
          "data": {
            "text/plain": [
              "None of the Above    0.590188\n",
              "Udemy                0.174701\n",
              "Coursera             0.143088\n",
              "Other                0.036285\n",
              "Codecademy           0.026523\n",
              "Pluralsight          0.019899\n",
              "edX                  0.005104\n",
              "Udacity              0.003695\n",
              "Skillsoft            0.000516\n",
              "Name: Code_Certifications, dtype: float64"
            ]
          },
          "execution_count": 433,
          "metadata": {},
          "output_type": "execute_result"
        }
      ],
      "source": [
        "# Code to extract first mentions\n",
        "def extract_first_value_from_columns(df, columns):\n",
        "    first_values = {}\n",
        "    for col in columns:\n",
        "        first_values[col] = df[col].apply(lambda x: x.split(\";\")[0].strip() if isinstance(x, str) and \";\" in x else x)\n",
        "    return pd.DataFrame(first_values)\n",
        "\n",
        "# columns to be cleaned\n",
        "colslist = ['Code_Certifications', 'Proj_Mgmt_WantToWorkWith', 'MiscTechWantToWorkWith', 'PlatformWantToWorkWith',\n",
        "'WebframeWantToWorkWith', 'Proj_Mgmt_HVWorkedWith', 'ToolsTechWantToWorkWith', 'Proj_Mgmt_SyncWantToWorkWith',\n",
        "'PlatformHaveWorkedWith', 'Learn_Code_Source', 'DatabaseWantToWorkWith', 'WebframeHaveWorkedWith',\n",
        "'ToolsTechHaveWorkedWith', 'Outofwork_Coding', 'DatabaseHaveWorkedWith', 'DevType',\n",
        "'Proj_Mgmt_SyncHaveWorkedWith', 'NEWCollabToolsWantToWorkWith', 'OpSysProfessional_use', 'MentalHealth',\n",
        "'Sexuality', 'LanguageWantToWorkWith', 'Disability', 'Purchase_Research', 'VCInteraction', 'Ethnicity',\n",
        "'NEWCollabToolsHaveWorkedWith', 'OpSysPersonal_use', 'LanguageHaveWorkedWith', 'New_Stack_Overfl_Sites',\n",
        "'VersionControlSystem', 'Learn_Code_Method', 'Employment_Status', 'Gender', 'ProfessionalTech']\n",
        "\n",
        "# data with cols of first mentions\n",
        "zer = extract_first_value_from_columns(df, colslist)\n",
        "zer.Code_Certifications.value_counts(normalize=True)"
      ]
    },
    {
      "cell_type": "code",
      "execution_count": 434,
      "id": "5a0c34c3",
      "metadata": {
        "colab": {
          "base_uri": "https://localhost:8080/"
        },
        "id": "5a0c34c3",
        "outputId": "dbae18cd-3d9b-4f14-843d-fdef150ce813"
      },
      "outputs": [
        {
          "data": {
            "text/plain": [
              "None of the Above    0.590188\n",
              "Udemy                0.174701\n",
              "Coursera             0.143088\n",
              "Other                0.036285\n",
              "Codecademy           0.026523\n",
              "Pluralsight          0.019899\n",
              "edX                  0.005104\n",
              "Udacity              0.003695\n",
              "Skillsoft            0.000516\n",
              "Name: Code_Certifications, dtype: float64"
            ]
          },
          "execution_count": 434,
          "metadata": {},
          "output_type": "execute_result"
        }
      ],
      "source": [
        "# replace the colslist in df with cleaned data\n",
        "# from zer dataframe\n",
        "df[colslist] = zer\n",
        "\n",
        "# confirm that values display as expected\n",
        "df.Code_Certifications.value_counts(normalize=True)"
      ]
    },
    {
      "cell_type": "markdown",
      "id": "a0ed2122",
      "metadata": {
        "id": "a0ed2122"
      },
      "source": [
        "#### Cleaning the `Annual_Salary` Column\n",
        "To clean this column's missing values, we will look at:\n",
        "- the employment of each respondent. For unemployed and students without salary values, we will replace missing values with 0 as it is unrealistic to impute values for this group\n",
        "- the salary distribution at a regional level (e.g. salaries in Africa would differ from Europe), then use the appropriate median value\n"
      ]
    },
    {
      "cell_type": "code",
      "execution_count": 435,
      "id": "c4f7913f",
      "metadata": {
        "colab": {
          "base_uri": "https://localhost:8080/"
        },
        "id": "c4f7913f",
        "outputId": "ba5964db-77ca-440e-d7ff-a2970aca4456"
      },
      "outputs": [
        {
          "name": "stdout",
          "output_type": "stream",
          "text": [
            "0.0         15913\n",
            "150000.0      393\n",
            "200000.0      362\n",
            "120000.0      341\n",
            "63986.0       304\n",
            "Name: Annual_Salary, dtype: int64 \n",
            "\n",
            "remaining missing values:  17727\n"
          ]
        }
      ],
      "source": [
        "# for those who don't work and have no salary\n",
        "# fill missing salary with 0\n",
        "nonwork = ['Student, full-time', 'Student, part-time',\n",
        "       'Not employed, but looking for work',\n",
        " 'Not employed, and not looking for work',\n",
        "       'Retired', 'I prefer not to say']\n",
        "\n",
        "df.loc[(df['Employment_Status'].isin(nonwork)) & (df['Annual_Salary'].isna()), 'Annual_Salary'] = 0\n",
        "# confirm that the replace has worked\n",
        "print(df.Annual_Salary.value_counts().head(), '\\n')\n",
        "\n",
        "# confirm that other null values still exist\n",
        "print('remaining missing values: ', df.Annual_Salary.isna().sum())"
      ]
    },
    {
      "cell_type": "code",
      "execution_count": 436,
      "id": "ad60ae9c",
      "metadata": {
        "id": "ad60ae9c"
      },
      "outputs": [],
      "source": [
        "# countries grouped into continents\n",
        "continents = {\n",
        "    'Asia': ['Israel', 'Hong Kong (S.A.R.)', 'India', 'China', 'Singapore', 'Iraq',\n",
        "             'Philippines', 'Iran, Islamic Republic of...', 'Indonesia', 'Afghanistan',\n",
        "             'Viet Nam', 'South Korea', 'Taiwan', 'Japan', 'Thailand', 'Bangladesh',\n",
        "             'Nepal', 'United Arab Emirates', 'Pakistan', 'Sri Lanka', 'Azerbaijan',\n",
        "             'Uzbekistan', 'Kazakhstan', 'North Korea', 'Timor-Leste', 'Brunei Darussalam',\n",
        "             'Oman', 'Saudi Arabia', 'Maldives', 'Jordan', 'Bahrain', 'Republic of Korea',\n",
        "            'Lebanon', 'Malaysia', \"Lao People's Democratic Republic\", 'Syrian Arab Republic',\n",
        "            'Qatar', 'Kyrgyzstan', 'Cambodia', 'Yemen', 'Mongolia', 'Tajikistan', 'Myanmar',\n",
        "            'Kuwait', 'Turkmenistan', 'Palestine', 'Bhutan'],\n",
        "    'Oceania': ['Australia', 'New Zealand', 'Fiji', 'Solomon Islands', 'Papua New Guinea',\n",
        "                'Palau'],\n",
        "    'North America': ['Canada', 'United States of America', 'Mexico', 'Dominican Republic',\n",
        "                     'Costa Rica', 'Nicaragua', 'Belize', 'Guatemala', 'El Salvador',\n",
        "                     'Jamaica', 'Cuba', 'Panama', 'Bahamas', 'Barbados', 'Antigua and Barbuda',\n",
        "                      'Haiti', 'Saint Lucia', 'Saint Kitts and Nevis'],\n",
        "    'Europe': ['Croatia', 'Netherlands', 'Czech Republic', 'Sweden', 'Denmark',\n",
        "               'Finland', 'United Kingdom of Great Britain and Northern Ireland',\n",
        "               'Austria', 'France', 'Portugal', 'Belgium', 'Ireland', 'Iceland',\n",
        "               'Montenegro', 'Germany', 'Belarus', 'Switzerland', 'Poland',\n",
        "               'Ukraine', 'Russia', 'Serbia', 'Luxembourg', 'Spain', 'Norway',\n",
        "               'Romania', 'Italy', 'Turkey', 'Greece', 'Hungary', 'Malta',\n",
        "               'Estonia', 'Slovenia', 'Bosnia and Herzegovina', 'Bulgaria',\n",
        "               'Georgia', 'Latvia', 'Lithuania', 'Moldova', 'Macedonia (FYROM)', 'Armenia',\n",
        "               'Monaco', 'Slovakia', 'Cyprus', 'Russian Federation',\n",
        "              'The former Yugoslav Republic of Macedonia', 'Andorra', 'Nomadic', 'Albania',\n",
        "              'Republic of Moldova', 'Kosovo', 'Isle of Man', 'San Marino'],\n",
        "    'Africa': ['Madagascar', 'South Africa', 'Swaziland', 'Mali', 'Egypt', 'Nigeria',\n",
        "               'Tunisia', 'Cameroon', 'Ethiopia', 'Ghana', 'Rwanda', 'Senegal',\n",
        "               'Chad', 'Benin', 'Angola', 'Namibia', 'Malawi', 'Sierra Leone',\n",
        "               'Zimbabwe', 'Mauritius', 'Morocco', 'Kenya', 'Botswana', 'Liberia', 'Lesotho',\n",
        "               'Guinea', 'Gabon', 'Seychelles', 'Algeria', 'Zambia', 'Uganda',\n",
        "              'United Republic of Tanzania', 'Niger', 'Cape Verde', 'Libyan Arab Jamahiriya',\n",
        "              'Togo', 'Sudan', 'Democratic Republic of the Congo', \"Côte d'Ivoire\",\n",
        "              'Congo, Republic of the...', 'Somalia', 'Mozambique', 'Mauritania',\n",
        "              'Burkina Faso', 'Gambia', 'Djibouti'],\n",
        "    'South America': ['Brazil', 'Argentina', 'Colombia', 'Chile', 'Peru',\n",
        "                      'Venezuela, Bolivarian Republic of...', 'Bolivia', 'Paraguay',\n",
        "                      'Ecuador', 'Uruguay', 'Honduras', 'Trinidad and Tobago', 'Suriname',\n",
        "                     'Guyana']\n",
        "}"
      ]
    },
    {
      "cell_type": "code",
      "execution_count": 437,
      "id": "14f6d0e4",
      "metadata": {
        "id": "14f6d0e4"
      },
      "outputs": [],
      "source": [
        "# Create the 'continents' column by mapping the 'countries' column to the continents dictionary\n",
        "df['continents'] = df['Country'].map({country: continent for continent, countries in continents.items()\n",
        "                                        for country in countries})"
      ]
    },
    {
      "cell_type": "code",
      "execution_count": 438,
      "id": "43975d9f",
      "metadata": {
        "colab": {
          "base_uri": "https://localhost:8080/"
        },
        "id": "43975d9f",
        "outputId": "0675607a-1d5d-405d-bb6d-b7c050b55b26"
      },
      "outputs": [
        {
          "data": {
            "text/plain": [
              "continents\n",
              "Africa            18126.0\n",
              "Asia              23215.0\n",
              "Europe            59720.0\n",
              "North America    132000.0\n",
              "Oceania           92002.0\n",
              "South America     27008.5\n",
              "Name: Annual_Salary, dtype: float64"
            ]
          },
          "execution_count": 438,
          "metadata": {},
          "output_type": "execute_result"
        }
      ],
      "source": [
        "# get median salary for each continent\n",
        "salo = df[df.Annual_Salary > 0].groupby('continents')['Annual_Salary'].median()\n",
        "salo"
      ]
    },
    {
      "cell_type": "code",
      "execution_count": 439,
      "id": "3a54bd10",
      "metadata": {
        "colab": {
          "base_uri": "https://localhost:8080/"
        },
        "id": "3a54bd10",
        "outputId": "a9936215-d894-45df-ae2e-0a60e145bf93"
      },
      "outputs": [
        {
          "data": {
            "text/plain": [
              "0"
            ]
          },
          "execution_count": 439,
          "metadata": {},
          "output_type": "execute_result"
        }
      ],
      "source": [
        "continent_mapping = {\n",
        "    'Africa': 18126.0,\n",
        "    'Asia': 23215.0,\n",
        "    'Europe': 59720.0,\n",
        "    'North America': 132000.0,\n",
        "    'Oceania': 92002.0,\n",
        "    'South America': 27008.5}\n",
        "\n",
        "df['Annual_Salary'] = df.groupby('continents')['Annual_Salary'].apply(lambda x: x.fillna(continent_mapping[x.name]))\n",
        "\n",
        "df.Annual_Salary.isna().sum()"
      ]
    },
    {
      "cell_type": "code",
      "execution_count": 440,
      "id": "2c718f0f",
      "metadata": {
        "colab": {
          "base_uri": "https://localhost:8080/",
          "height": 206
        },
        "id": "2c718f0f",
        "outputId": "3d739387-0822-4708-b740-cdf8e0ba77a3"
      },
      "outputs": [
        {
          "data": {
            "text/html": [
              "<div>\n",
              "<style scoped>\n",
              "    .dataframe tbody tr th:only-of-type {\n",
              "        vertical-align: middle;\n",
              "    }\n",
              "\n",
              "    .dataframe tbody tr th {\n",
              "        vertical-align: top;\n",
              "    }\n",
              "\n",
              "    .dataframe thead th {\n",
              "        text-align: right;\n",
              "    }\n",
              "</style>\n",
              "<table border=\"1\" class=\"dataframe\">\n",
              "  <thead>\n",
              "    <tr style=\"text-align: right;\">\n",
              "      <th></th>\n",
              "      <th>continents</th>\n",
              "      <th>Country</th>\n",
              "      <th>Annual_Salary</th>\n",
              "    </tr>\n",
              "  </thead>\n",
              "  <tbody>\n",
              "    <tr>\n",
              "      <th>1</th>\n",
              "      <td>North America</td>\n",
              "      <td>Canada</td>\n",
              "      <td>132000.0</td>\n",
              "    </tr>\n",
              "    <tr>\n",
              "      <th>2</th>\n",
              "      <td>Europe</td>\n",
              "      <td>United Kingdom of Great Britain and Northern I...</td>\n",
              "      <td>40205.0</td>\n",
              "    </tr>\n",
              "    <tr>\n",
              "      <th>3</th>\n",
              "      <td>Asia</td>\n",
              "      <td>Israel</td>\n",
              "      <td>215232.0</td>\n",
              "    </tr>\n",
              "    <tr>\n",
              "      <th>4</th>\n",
              "      <td>North America</td>\n",
              "      <td>United States of America</td>\n",
              "      <td>132000.0</td>\n",
              "    </tr>\n",
              "    <tr>\n",
              "      <th>5</th>\n",
              "      <td>Europe</td>\n",
              "      <td>Germany</td>\n",
              "      <td>0.0</td>\n",
              "    </tr>\n",
              "  </tbody>\n",
              "</table>\n",
              "</div>"
            ],
            "text/plain": [
              "      continents                                            Country  \\\n",
              "1  North America                                             Canada   \n",
              "2         Europe  United Kingdom of Great Britain and Northern I...   \n",
              "3           Asia                                             Israel   \n",
              "4  North America                           United States of America   \n",
              "5         Europe                                            Germany   \n",
              "\n",
              "   Annual_Salary  \n",
              "1       132000.0  \n",
              "2        40205.0  \n",
              "3       215232.0  \n",
              "4       132000.0  \n",
              "5            0.0  "
            ]
          },
          "execution_count": 440,
          "metadata": {},
          "output_type": "execute_result"
        }
      ],
      "source": [
        "# preview salary columnn after handling missing values\n",
        "df[['continents', 'Country', 'Annual_Salary']].head()"
      ]
    },
    {
      "cell_type": "code",
      "execution_count": 441,
      "id": "9a865fdc",
      "metadata": {
        "colab": {
          "base_uri": "https://localhost:8080/"
        },
        "id": "9a865fdc",
        "outputId": "26dc964f-cfb0-4069-c675-749664d0a5af"
      },
      "outputs": [
        {
          "name": "stdout",
          "output_type": "stream",
          "text": [
            "There Are No Missing Values\n"
          ]
        }
      ],
      "source": [
        "# confirm no more missing values\n",
        "describe_df.missing_values()"
      ]
    },
    {
      "cell_type": "markdown",
      "id": "01c63f14",
      "metadata": {
        "id": "01c63f14"
      },
      "source": [
        "# Outliers\n",
        "We have 1 numerical column Annual Salary. Below codes are checking for outliers\n",
        "* We have  455 outliers , the lowest Outlier in salary is : 1828416.0, the highest Outlier in salary is  : 50000000.0, we also have 0 salary values which are the highest in count.\n",
        "* Considering this is real world data we have log transformed the values and for the 0 values we have added a constant of 0.00001 to handle 0 values"
      ]
    },
    {
      "cell_type": "code",
      "execution_count": 442,
      "id": "001bc451",
      "metadata": {
        "colab": {
          "base_uri": "https://localhost:8080/"
        },
        "id": "001bc451",
        "outputId": "c83b99fc-1b8d-4462-bbfa-fb6232f072d1"
      },
      "outputs": [
        {
          "data": {
            "text/plain": [
              "0.0         15913\n",
              "59720.0      7369\n",
              "23215.0      5112\n",
              "132000.0     3387\n",
              "27008.5       896\n",
              "            ...  \n",
              "110664.0        1\n",
              "124060.0        1\n",
              "22824.0         1\n",
              "78473.0         1\n",
              "40542.0         1\n",
              "Name: Annual_Salary, Length: 7912, dtype: int64"
            ]
          },
          "execution_count": 442,
          "metadata": {},
          "output_type": "execute_result"
        }
      ],
      "source": [
        "df.Annual_Salary.value_counts()"
      ]
    },
    {
      "cell_type": "code",
      "execution_count": 443,
      "id": "c3c80152",
      "metadata": {
        "colab": {
          "base_uri": "https://localhost:8080/",
          "height": 470
        },
        "id": "c3c80152",
        "outputId": "23164a56-280a-408a-a548-9c0ea01f8146"
      },
      "outputs": [
        {
          "data": {
            "image/png": "[encoded data removed]",
            "text/plain": [
              "<Figure size 432x288 with 1 Axes>"
            ]
          },
          "metadata": {},
          "output_type": "display_data"
        }
      ],
      "source": [
        "#Annual salary distribution\n",
        "df.hist('Annual_Salary')\n",
        "plt.show()"
      ]
    },
    {
      "cell_type": "markdown",
      "id": "86f599a7",
      "metadata": {
        "id": "86f599a7"
      },
      "source": [
        "Below we are trying to see who the majority of 0 are"
      ]
    },
    {
      "cell_type": "code",
      "execution_count": 444,
      "id": "3f49d2be",
      "metadata": {
        "colab": {
          "base_uri": "https://localhost:8080/",
          "height": 393
        },
        "id": "3f49d2be",
        "outputId": "211bbfb8-4750-4a31-96cf-6b24ccbf4d86"
      },
      "outputs": [
        {
          "name": "stdout",
          "output_type": "stream",
          "text": [
            "15913\n"
          ]
        },
        {
          "data": {
            "text/html": [
              "<div>\n",
              "<style scoped>\n",
              "    .dataframe tbody tr th:only-of-type {\n",
              "        vertical-align: middle;\n",
              "    }\n",
              "\n",
              "    .dataframe tbody tr th {\n",
              "        vertical-align: top;\n",
              "    }\n",
              "\n",
              "    .dataframe thead th {\n",
              "        text-align: right;\n",
              "    }\n",
              "</style>\n",
              "<table border=\"1\" class=\"dataframe\">\n",
              "  <thead>\n",
              "    <tr style=\"text-align: right;\">\n",
              "      <th></th>\n",
              "      <th>ResponseId</th>\n",
              "      <th>Developer_Description</th>\n",
              "      <th>Employment_Status</th>\n",
              "      <th>Remote_vs_Onsite</th>\n",
              "      <th>Outofwork_Coding</th>\n",
              "      <th>Education_Level</th>\n",
              "      <th>Learn_Code_Method</th>\n",
              "      <th>Learn_Code_Source</th>\n",
              "      <th>Code_Certifications</th>\n",
              "      <th>Coding_Experience</th>\n",
              "      <th>...</th>\n",
              "      <th>TimeAnswering</th>\n",
              "      <th>Onboarding_Duration</th>\n",
              "      <th>ProfessionalTech</th>\n",
              "      <th>Is_Involved_Onboarding</th>\n",
              "      <th>Employer_Learning_Resources</th>\n",
              "      <th>Learning_Support</th>\n",
              "      <th>SurveyLength</th>\n",
              "      <th>SurveyEase</th>\n",
              "      <th>Annual_Salary</th>\n",
              "      <th>continents</th>\n",
              "    </tr>\n",
              "  </thead>\n",
              "  <tbody>\n",
              "    <tr>\n",
              "      <th>5</th>\n",
              "      <td>6</td>\n",
              "      <td>I am not primarily a developer, but I write co...</td>\n",
              "      <td>Student, full-time</td>\n",
              "      <td>None of the Above</td>\n",
              "      <td>None of the Above</td>\n",
              "      <td>Master’s degree (M.A., M.S., M.Eng., MBA, etc.)</td>\n",
              "      <td>Books / Physical media</td>\n",
              "      <td>None of the Above</td>\n",
              "      <td>None of the Above</td>\n",
              "      <td>15</td>\n",
              "      <td>...</td>\n",
              "      <td>Not Answered</td>\n",
              "      <td>Not Answered</td>\n",
              "      <td>Not Answered</td>\n",
              "      <td>Not Answered</td>\n",
              "      <td>Not Answered</td>\n",
              "      <td>Not Answered</td>\n",
              "      <td>Appropriate in length</td>\n",
              "      <td>Easy</td>\n",
              "      <td>0.0</td>\n",
              "      <td>Europe</td>\n",
              "    </tr>\n",
              "    <tr>\n",
              "      <th>6</th>\n",
              "      <td>7</td>\n",
              "      <td>I code primarily as a hobby</td>\n",
              "      <td>Student, part-time</td>\n",
              "      <td>None of the Above</td>\n",
              "      <td>None of the Above</td>\n",
              "      <td>Secondary school (e.g. American high school, G...</td>\n",
              "      <td>Other online resources (e.g., videos, blogs, f...</td>\n",
              "      <td>Stack Overflow</td>\n",
              "      <td>None of the Above</td>\n",
              "      <td>3</td>\n",
              "      <td>...</td>\n",
              "      <td>Not Answered</td>\n",
              "      <td>Not Answered</td>\n",
              "      <td>Not Answered</td>\n",
              "      <td>Not Answered</td>\n",
              "      <td>Not Answered</td>\n",
              "      <td>Not Answered</td>\n",
              "      <td>Appropriate in length</td>\n",
              "      <td>Easy</td>\n",
              "      <td>0.0</td>\n",
              "      <td>Asia</td>\n",
              "    </tr>\n",
              "    <tr>\n",
              "      <th>7</th>\n",
              "      <td>8</td>\n",
              "      <td>I am a developer by profession</td>\n",
              "      <td>Not employed, but looking for work</td>\n",
              "      <td>None of the Above</td>\n",
              "      <td>None of the Above</td>\n",
              "      <td>Some college/university study without earning ...</td>\n",
              "      <td>Online Courses or Certification</td>\n",
              "      <td>None of the Above</td>\n",
              "      <td>Coursera</td>\n",
              "      <td>1</td>\n",
              "      <td>...</td>\n",
              "      <td>Not Answered</td>\n",
              "      <td>Not Answered</td>\n",
              "      <td>Not Answered</td>\n",
              "      <td>Not Answered</td>\n",
              "      <td>Not Answered</td>\n",
              "      <td>Not Answered</td>\n",
              "      <td>Appropriate in length</td>\n",
              "      <td>Easy</td>\n",
              "      <td>0.0</td>\n",
              "      <td>Asia</td>\n",
              "    </tr>\n",
              "  </tbody>\n",
              "</table>\n",
              "<p>3 rows × 75 columns</p>\n",
              "</div>"
            ],
            "text/plain": [
              "   ResponseId                              Developer_Description  \\\n",
              "5           6  I am not primarily a developer, but I write co...   \n",
              "6           7                        I code primarily as a hobby   \n",
              "7           8                     I am a developer by profession   \n",
              "\n",
              "                    Employment_Status   Remote_vs_Onsite   Outofwork_Coding  \\\n",
              "5                  Student, full-time  None of the Above  None of the Above   \n",
              "6                  Student, part-time  None of the Above  None of the Above   \n",
              "7  Not employed, but looking for work  None of the Above  None of the Above   \n",
              "\n",
              "                                     Education_Level  \\\n",
              "5    Master’s degree (M.A., M.S., M.Eng., MBA, etc.)   \n",
              "6  Secondary school (e.g. American high school, G...   \n",
              "7  Some college/university study without earning ...   \n",
              "\n",
              "                                   Learn_Code_Method  Learn_Code_Source  \\\n",
              "5                             Books / Physical media  None of the Above   \n",
              "6  Other online resources (e.g., videos, blogs, f...     Stack Overflow   \n",
              "7                    Online Courses or Certification  None of the Above   \n",
              "\n",
              "  Code_Certifications Coding_Experience  ... TimeAnswering  \\\n",
              "5   None of the Above                15  ...  Not Answered   \n",
              "6   None of the Above                 3  ...  Not Answered   \n",
              "7            Coursera                 1  ...  Not Answered   \n",
              "\n",
              "  Onboarding_Duration ProfessionalTech Is_Involved_Onboarding  \\\n",
              "5        Not Answered     Not Answered           Not Answered   \n",
              "6        Not Answered     Not Answered           Not Answered   \n",
              "7        Not Answered     Not Answered           Not Answered   \n",
              "\n",
              "  Employer_Learning_Resources Learning_Support           SurveyLength  \\\n",
              "5                Not Answered     Not Answered  Appropriate in length   \n",
              "6                Not Answered     Not Answered  Appropriate in length   \n",
              "7                Not Answered     Not Answered  Appropriate in length   \n",
              "\n",
              "  SurveyEase Annual_Salary continents  \n",
              "5       Easy           0.0     Europe  \n",
              "6       Easy           0.0       Asia  \n",
              "7       Easy           0.0       Asia  \n",
              "\n",
              "[3 rows x 75 columns]"
            ]
          },
          "execution_count": 444,
          "metadata": {},
          "output_type": "execute_result"
        }
      ],
      "source": [
        "filtered_data = df[df['Annual_Salary'] == 0]\n",
        "print(filtered_data.shape[0])\n",
        "filtered_data.head(3)"
      ]
    },
    {
      "cell_type": "code",
      "execution_count": 445,
      "id": "70bf8529",
      "metadata": {
        "colab": {
          "base_uri": "https://localhost:8080/"
        },
        "id": "70bf8529",
        "outputId": "e4e99138-8944-4856-9d8b-106f33950a3c"
      },
      "outputs": [
        {
          "data": {
            "text/plain": [
              "0.0    9776\n",
              "Name: Annual_Salary, dtype: int64"
            ]
          },
          "execution_count": 445,
          "metadata": {},
          "output_type": "execute_result"
        }
      ],
      "source": [
        "avedf = df[(df[\"Employment_Status\"] == \"Student, full-time\") | (df[\"Employment_Status\"] == \"Student, part-time\") &\n",
        "           (df[\"Annual_Salary\"]!= 0.0)]\n",
        "avedf.Annual_Salary.value_counts()"
      ]
    },
    {
      "cell_type": "code",
      "execution_count": 446,
      "id": "272c44d5",
      "metadata": {
        "colab": {
          "base_uri": "https://localhost:8080/"
        },
        "id": "272c44d5",
        "outputId": "5d9b735a-6e3e-4cb2-c429-0c30c69a9d08"
      },
      "outputs": [
        {
          "data": {
            "text/plain": [
              "continents     Employment_Status                     \n",
              "Africa         Student, full-time                         546\n",
              "               Not employed, but looking for work         303\n",
              "               Student, part-time                         148\n",
              "               Not employed, and not looking for work      32\n",
              "               I prefer not to say                         23\n",
              "               Retired                                      2\n",
              "Asia           Student, full-time                        2586\n",
              "               Student, part-time                         693\n",
              "               Not employed, but looking for work         686\n",
              "               I prefer not to say                        179\n",
              "               Not employed, and not looking for work     169\n",
              "               Retired                                     19\n",
              "Europe         Student, full-time                        4312\n",
              "               Student, part-time                        1079\n",
              "               Not employed, but looking for work         593\n",
              "               Not employed, and not looking for work     303\n",
              "               I prefer not to say                        209\n",
              "               Retired                                    101\n",
              "North America  Student, full-time                        1778\n",
              "               Not employed, but looking for work         393\n",
              "               Student, part-time                         246\n",
              "               Not employed, and not looking for work     186\n",
              "               I prefer not to say                        141\n",
              "               Retired                                    139\n",
              "Oceania        Student, full-time                         275\n",
              "               Not employed, but looking for work          33\n",
              "               Student, part-time                          30\n",
              "               Retired                                     20\n",
              "               I prefer not to say                         18\n",
              "               Not employed, and not looking for work      16\n",
              "South America  Student, full-time                         279\n",
              "               Student, part-time                         199\n",
              "               Not employed, but looking for work         140\n",
              "               Not employed, and not looking for work      24\n",
              "               I prefer not to say                          8\n",
              "               Retired                                      5\n",
              "Name: Employment_Status, dtype: int64"
            ]
          },
          "execution_count": 446,
          "metadata": {},
          "output_type": "execute_result"
        }
      ],
      "source": [
        "filtered_data.groupby('continents').Employment_Status.value_counts()"
      ]
    },
    {
      "cell_type": "code",
      "execution_count": 447,
      "id": "1f3beeba",
      "metadata": {
        "colab": {
          "base_uri": "https://localhost:8080/"
        },
        "id": "1f3beeba",
        "outputId": "9b439339-af8d-4f05-c76a-722ac81ea090"
      },
      "outputs": [
        {
          "data": {
            "text/plain": [
              "Europe           6597\n",
              "Asia             4332\n",
              "North America    2883\n",
              "Africa           1054\n",
              "South America     655\n",
              "Oceania           392\n",
              "Name: continents, dtype: int64"
            ]
          },
          "execution_count": 447,
          "metadata": {},
          "output_type": "execute_result"
        }
      ],
      "source": [
        "filtered_data.continents.value_counts()"
      ]
    },
    {
      "cell_type": "code",
      "execution_count": 448,
      "id": "81675579",
      "metadata": {
        "colab": {
          "base_uri": "https://localhost:8080/"
        },
        "id": "81675579",
        "outputId": "508f3ce1-fa1b-467c-d3fa-759c2c5ccf68"
      },
      "outputs": [
        {
          "data": {
            "text/plain": [
              "Europe           31838\n",
              "North America    16976\n",
              "Asia             14577\n",
              "South America     3755\n",
              "Africa            2657\n",
              "Oceania           1908\n",
              "Name: continents, dtype: int64"
            ]
          },
          "execution_count": 448,
          "metadata": {},
          "output_type": "execute_result"
        }
      ],
      "source": [
        "df.continents.value_counts()"
      ]
    },
    {
      "cell_type": "code",
      "execution_count": 449,
      "id": "c999ae17",
      "metadata": {
        "colab": {
          "base_uri": "https://localhost:8080/",
          "height": 327
        },
        "id": "c999ae17",
        "outputId": "385e2b71-59bf-4ddd-bd81-3bb37e3b9d52"
      },
      "outputs": [
        {
          "name": "stdout",
          "output_type": "stream",
          "text": [
            "The Number of Outliers in the 'Annual_Salary' Column: 455\n",
            "Outliers:\n"
          ]
        },
        {
          "data": {
            "text/html": [
              "<div>\n",
              "<style scoped>\n",
              "    .dataframe tbody tr th:only-of-type {\n",
              "        vertical-align: middle;\n",
              "    }\n",
              "\n",
              "    .dataframe tbody tr th {\n",
              "        vertical-align: top;\n",
              "    }\n",
              "\n",
              "    .dataframe thead th {\n",
              "        text-align: right;\n",
              "    }\n",
              "</style>\n",
              "<table border=\"1\" class=\"dataframe\">\n",
              "  <thead>\n",
              "    <tr style=\"text-align: right;\">\n",
              "      <th></th>\n",
              "      <th>ResponseId</th>\n",
              "      <th>Developer_Description</th>\n",
              "      <th>Employment_Status</th>\n",
              "      <th>Remote_vs_Onsite</th>\n",
              "      <th>Outofwork_Coding</th>\n",
              "      <th>Education_Level</th>\n",
              "      <th>Learn_Code_Method</th>\n",
              "      <th>Learn_Code_Source</th>\n",
              "      <th>Code_Certifications</th>\n",
              "      <th>Coding_Experience</th>\n",
              "      <th>...</th>\n",
              "      <th>TimeAnswering</th>\n",
              "      <th>Onboarding_Duration</th>\n",
              "      <th>ProfessionalTech</th>\n",
              "      <th>Is_Involved_Onboarding</th>\n",
              "      <th>Employer_Learning_Resources</th>\n",
              "      <th>Learning_Support</th>\n",
              "      <th>SurveyLength</th>\n",
              "      <th>SurveyEase</th>\n",
              "      <th>Annual_Salary</th>\n",
              "      <th>continents</th>\n",
              "    </tr>\n",
              "  </thead>\n",
              "  <tbody>\n",
              "    <tr>\n",
              "      <th>117</th>\n",
              "      <td>118</td>\n",
              "      <td>I am a developer by profession</td>\n",
              "      <td>Employed, full-time</td>\n",
              "      <td>Fully remote</td>\n",
              "      <td>I don’t code outside of work</td>\n",
              "      <td>Some college/university study without earning ...</td>\n",
              "      <td>Books / Physical media</td>\n",
              "      <td>None of the Above</td>\n",
              "      <td>None of the Above</td>\n",
              "      <td>32</td>\n",
              "      <td>...</td>\n",
              "      <td>15-30 minutes a day</td>\n",
              "      <td>Very short</td>\n",
              "      <td>DevOps function</td>\n",
              "      <td>Yes</td>\n",
              "      <td>No</td>\n",
              "      <td>Yes</td>\n",
              "      <td>Appropriate in length</td>\n",
              "      <td>Easy</td>\n",
              "      <td>6000000.0</td>\n",
              "      <td>North America</td>\n",
              "    </tr>\n",
              "    <tr>\n",
              "      <th>201</th>\n",
              "      <td>202</td>\n",
              "      <td>I am a developer by profession</td>\n",
              "      <td>Employed, full-time</td>\n",
              "      <td>Hybrid (some remote, some in-person)</td>\n",
              "      <td>Hobby</td>\n",
              "      <td>Bachelor’s degree (B.A., B.S., B.Eng., etc.)</td>\n",
              "      <td>Other online resources (e.g., videos, blogs, f...</td>\n",
              "      <td>Technical documentation</td>\n",
              "      <td>Coursera</td>\n",
              "      <td>9</td>\n",
              "      <td>...</td>\n",
              "      <td>Less than 15 minutes a day</td>\n",
              "      <td>Somewhat long</td>\n",
              "      <td>Innersource initiative</td>\n",
              "      <td>Yes</td>\n",
              "      <td>Yes</td>\n",
              "      <td>Yes</td>\n",
              "      <td>Appropriate in length</td>\n",
              "      <td>Neither easy nor difficult</td>\n",
              "      <td>44790396.0</td>\n",
              "      <td>Europe</td>\n",
              "    </tr>\n",
              "  </tbody>\n",
              "</table>\n",
              "<p>2 rows × 75 columns</p>\n",
              "</div>"
            ],
            "text/plain": [
              "     ResponseId           Developer_Description    Employment_Status  \\\n",
              "117         118  I am a developer by profession  Employed, full-time   \n",
              "201         202  I am a developer by profession  Employed, full-time   \n",
              "\n",
              "                         Remote_vs_Onsite              Outofwork_Coding  \\\n",
              "117                          Fully remote  I don’t code outside of work   \n",
              "201  Hybrid (some remote, some in-person)                         Hobby   \n",
              "\n",
              "                                       Education_Level  \\\n",
              "117  Some college/university study without earning ...   \n",
              "201       Bachelor’s degree (B.A., B.S., B.Eng., etc.)   \n",
              "\n",
              "                                     Learn_Code_Method  \\\n",
              "117                             Books / Physical media   \n",
              "201  Other online resources (e.g., videos, blogs, f...   \n",
              "\n",
              "           Learn_Code_Source Code_Certifications Coding_Experience  ...  \\\n",
              "117        None of the Above   None of the Above                32  ...   \n",
              "201  Technical documentation            Coursera                 9  ...   \n",
              "\n",
              "                  TimeAnswering Onboarding_Duration        ProfessionalTech  \\\n",
              "117         15-30 minutes a day          Very short         DevOps function   \n",
              "201  Less than 15 minutes a day       Somewhat long  Innersource initiative   \n",
              "\n",
              "    Is_Involved_Onboarding Employer_Learning_Resources Learning_Support  \\\n",
              "117                    Yes                          No              Yes   \n",
              "201                    Yes                         Yes              Yes   \n",
              "\n",
              "              SurveyLength                  SurveyEase Annual_Salary  \\\n",
              "117  Appropriate in length                        Easy     6000000.0   \n",
              "201  Appropriate in length  Neither easy nor difficult    44790396.0   \n",
              "\n",
              "        continents  \n",
              "117  North America  \n",
              "201         Europe  \n",
              "\n",
              "[2 rows x 75 columns]"
            ]
          },
          "execution_count": 449,
          "metadata": {},
          "output_type": "execute_result"
        }
      ],
      "source": [
        "#create a function to check for Outliers\n",
        "def check_outliers(data):\n",
        "    \"\"\"A function to check for outliers in the numeric columns using Z-Score\"\"\"\n",
        "    series_num = data[\"Annual_Salary\"]\n",
        "    mean = np.mean(series_num)\n",
        "    std = np.std(series_num)\n",
        "    threshold = 3\n",
        "    outliers = data[np.abs((series_num - mean) / std) > threshold]\n",
        "    return outliers\n",
        "\n",
        "outliers = check_outliers(df)\n",
        "\n",
        "print(\"The Number of Outliers in the 'Annual_Salary' Column:\", len(outliers))\n",
        "print(\"Outliers:\")\n",
        "outliers.head(2)"
      ]
    },
    {
      "cell_type": "code",
      "execution_count": 450,
      "id": "9e947853",
      "metadata": {
        "colab": {
          "base_uri": "https://localhost:8080/",
          "height": 545
        },
        "id": "9e947853",
        "outputId": "4bed51b6-427f-4f76-a5da-6711ca570d36",
        "scrolled": false
      },
      "outputs": [
        {
          "data": {
            "image/png": "[encoded data removed]",
            "text/plain": [
              "<Figure size 720x432 with 1 Axes>"
            ]
          },
          "metadata": {},
          "output_type": "display_data"
        }
      ],
      "source": [
        "#boxplot to check outliers\n",
        "plt.figure(figsize=(10, 6))\n",
        "plt.boxplot(df['Annual_Salary'])\n",
        "plt.ylabel('Salary')\n",
        "plt.yscale('log')\n",
        "plt.title('Boxplot of Salaries')\n",
        "plt.show()"
      ]
    },
    {
      "cell_type": "code",
      "execution_count": 451,
      "id": "164a8319",
      "metadata": {
        "colab": {
          "base_uri": "https://localhost:8080/"
        },
        "id": "164a8319",
        "outputId": "22387910-b654-4dc2-a0a1-ac567fe2f3a8"
      },
      "outputs": [
        {
          "name": "stdout",
          "output_type": "stream",
          "text": [
            "We have  455\n",
            "The lowest Outlier in salary is : 1828416.0\n",
            "The highest Outlier in salary is  : 50000000.0\n"
          ]
        }
      ],
      "source": [
        "#summary of above\n",
        "print(\"We have \", len(outliers))\n",
        "print(\"The lowest Outlier in salary is :\", outliers.Annual_Salary.min())\n",
        "print(\"The highest Outlier in salary is  :\", outliers.Annual_Salary.max())"
      ]
    },
    {
      "cell_type": "markdown",
      "id": "1132e450",
      "metadata": {
        "id": "1132e450"
      },
      "source": [
        "### Exploratory Data Analysis\n",
        "\n",
        "We will explore a few varibales below to help us better understand our data:\n",
        "- **Developer demographics** : continent, years of experience - work, age, gender, coding, education level, , where learned coding, remote vs onsite\n",
        "- **Developer tools**: Language worked with, database worked with, cloud platforms worked with, version control, operating system\n",
        "- **Annual_Salary** - histogram, boxplot. salary by continent, by educational level, years of experience"
      ]
    },
    {
      "cell_type": "markdown",
      "id": "860cc8de",
      "metadata": {
        "id": "860cc8de"
      },
      "source": [
        "#### Developer Distribution by Continent\n",
        "Most of the data was gathered from developers in Europe, North America and Asia."
      ]
    },
    {
      "cell_type": "code",
      "execution_count": 452,
      "id": "fdc44444",
      "metadata": {
        "colab": {
          "base_uri": "https://localhost:8080/",
          "height": 472
        },
        "id": "fdc44444",
        "outputId": "6446fb43-3e60-49cf-8978-4de990814e9f"
      },
      "outputs": [
        {
          "data": {
            "image/png": "[encoded data removed]",
            "text/plain": [
              "<Figure size 432x288 with 1 Axes>"
            ]
          },
          "metadata": {},
          "output_type": "display_data"
        }
      ],
      "source": [
        "# plt developer distribution by continent\n",
        "con = round(df.continents.value_counts(normalize=True), 2)\n",
        "plt.bar(con.index, con.values)\n",
        "plt.title('Developer Distribution by Continent')\n",
        "for i, v in enumerate(con.values):\n",
        "    plt.text(i, v, str(v), ha='center', va='bottom')\n",
        "plt.xlabel('continents')\n",
        "plt.ylabel('% count');\n"
      ]
    },
    {
      "cell_type": "markdown",
      "id": "b3357eed",
      "metadata": {
        "id": "b3357eed"
      },
      "source": [
        "#### Years of Experience : Professionnal & Coding"
      ]
    },
    {
      "cell_type": "code",
      "execution_count": 453,
      "id": "9b0ef196",
      "metadata": {
        "colab": {
          "base_uri": "https://localhost:8080/",
          "height": 428
        },
        "id": "9b0ef196",
        "outputId": "dd29545a-25a7-49ac-b312-2a0075dac390"
      },
      "outputs": [
        {
          "data": {
            "image/png": "[encoded data removed]",
            "text/plain": [
              "<Figure size 720x288 with 2 Axes>"
            ]
          },
          "metadata": {},
          "output_type": "display_data"
        }
      ],
      "source": [
        "# convert cols from 'object' to 'float' type\n",
        "df['Pro_Experience'] = df.Pro_Experience.astype('float')\n",
        "df['Coding_Experience'] = df.Coding_Experience.astype('float')\n",
        "\n",
        "fig, axes = plt.subplots(ncols=2, figsize=(10,4))\n",
        "\n",
        "fig.suptitle('Years of Experience : Professionnal & Coding')\n",
        "axes[0].hist(df.Pro_Experience)\n",
        "axes[0].axvline(df.Pro_Experience.median(), c='r')\n",
        "axes[0].set_xlabel('Years of Professional Experience')\n",
        "axes[0].set_ylabel('Count')\n",
        "axes[1].hist(df.Coding_Experience)\n",
        "axes[1].axvline(df.Coding_Experience.median(), c='r')\n",
        "axes[1].set_xlabel('Years of Coding Experience')\n",
        "axes[1].set_ylabel('Count')\n",
        "\n",
        "plt.legend(['median', 'median']);"
      ]
    },
    {
      "cell_type": "markdown",
      "id": "b180e926",
      "metadata": {
        "id": "b180e926"
      },
      "source": [
        "#### Age and Gender Distribution"
      ]
    },
    {
      "cell_type": "code",
      "execution_count": 454,
      "id": "4d0fa6f4",
      "metadata": {
        "colab": {
          "base_uri": "https://localhost:8080/",
          "height": 430
        },
        "id": "4d0fa6f4",
        "outputId": "a93d0c35-28cf-4a83-a6cc-cf692818e21d"
      },
      "outputs": [
        {
          "data": {
            "image/png": "[encoded data removed]",
            "text/plain": [
              "<Figure size 1296x432 with 2 Axes>"
            ]
          },
          "metadata": {},
          "output_type": "display_data"
        }
      ],
      "source": [
        "genl = ['In your own words:',\n",
        "       'LBGTQIA',\n",
        "       'I prefer not to say', 'Prefer not to say', 'Woman', 'Man']\n",
        "\n",
        "#\n",
        "agedf = df.Age.value_counts().sort_values(ascending=True)\n",
        "genddf = df.Gender.value_counts().sort_values(ascending=True)\n",
        "\n",
        "fig, axes = plt.subplots(ncols=2, figsize=(18,6))\n",
        "\n",
        "fig.suptitle('Age & Gender')\n",
        "axes[0].barh(agedf.index, agedf.values)\n",
        "axes[0].set_ylabel('Age')\n",
        "axes[0].set_xlabel('Count')\n",
        "axes[1].barh(genddf.index, genddf.values)\n",
        "axes[1].set_ylabel('Gender')\n",
        "axes[1].set_xlabel('Count')\n",
        "axes[1].set_yticks(range(len(genl)))\n",
        "axes[1].set_yticklabels(genl);\n"
      ]
    },
    {
      "cell_type": "markdown",
      "id": "e4d6bdbf",
      "metadata": {
        "id": "e4d6bdbf"
      },
      "source": [
        "#### Source of Coding Skills"
      ]
    },
    {
      "cell_type": "code",
      "execution_count": 455,
      "id": "b388c33d",
      "metadata": {
        "colab": {
          "base_uri": "https://localhost:8080/",
          "height": 1000
        },
        "id": "b388c33d",
        "outputId": "4e6eb302-fcf0-4e25-9550-088cc9693a08"
      },
      "outputs": [
        {
          "data": {
            "image/png": "[encoded data removed]",
            "text/plain": [
              "<Figure size 288x1800 with 4 Axes>"
            ]
          },
          "metadata": {},
          "output_type": "display_data"
        },
        {
          "data": {
            "text/plain": [
              "<Figure size 720x432 with 0 Axes>"
            ]
          },
          "metadata": {},
          "output_type": "display_data"
        }
      ],
      "source": [
        "fig, axes = plt.subplots(nrows=4, figsize=(4,25))\n",
        "plt.figure(figsize=(10, 6))\n",
        "sns.countplot(data=df, y='Learn_Code_Method', order=df['Learn_Code_Method'].value_counts().index, palette='viridis', ax=axes[0])\n",
        "axes[0].set_ylabel('Learn Code Method')\n",
        "axes[0].set_xlabel('Count')\n",
        "axes[0].set_title('Source of Coding Knowhow ')\n",
        "\n",
        "sns.countplot(data=df, y='Learn_Code_Source', order=df['Learn_Code_Source'].value_counts().index, palette='viridis', ax=axes[1])\n",
        "axes[1].set_ylabel('Learn Code Source')\n",
        "axes[1].set_xlabel('Count')\n",
        "axes[1].set_title('Source of Coding Skill ')\n",
        "\n",
        "sns.countplot(data=df, y='Code_Certifications', order=df['Code_Certifications'].value_counts().index, palette='viridis', ax=axes[2])\n",
        "axes[2].set_ylabel('Coding Certs')\n",
        "axes[2].set_xlabel('Count')\n",
        "axes[2].set_title('Coding Certs ')\n",
        "\n",
        "sns.countplot(data=df, y='Education_Level', order=df['Education_Level'].value_counts().index, palette='viridis', ax=axes[3])\n",
        "axes[3].set_ylabel('Education Level')\n",
        "axes[3].set_xlabel('Count')\n",
        "axes[3].set_title('Education Level');"
      ]
    },
    {
      "cell_type": "markdown",
      "id": "3b0efa05",
      "metadata": {
        "id": "3b0efa05"
      },
      "source": [
        "#### Employment Status & Work Style\n"
      ]
    },
    {
      "cell_type": "code",
      "execution_count": 456,
      "id": "90824ea6",
      "metadata": {
        "id": "90824ea6"
      },
      "outputs": [],
      "source": [
        "empl = ['Retired', 'I prefer not to say',\n",
        "       'Not employed, not searching', 'Employed, part-time',\n",
        "       'Not employed, searching', 'Student, part-time',\n",
        "       'consultant/freelance',\n",
        "       'Student, full-time', 'Employed, full-time']\n",
        "\n",
        "wkstlls = ['Full in-person', 'None',\n",
        "       'Hybrid', 'Fully remote']"
      ]
    },
    {
      "cell_type": "code",
      "execution_count": 457,
      "id": "e5412f43",
      "metadata": {
        "colab": {
          "base_uri": "https://localhost:8080/",
          "height": 478
        },
        "id": "e5412f43",
        "outputId": "f8ae57f4-f472-4b81-b31a-23d54743b838"
      },
      "outputs": [
        {
          "data": {
            "image/png": "[encoded data removed]",
            "text/plain": [
              "<Figure size 1080x432 with 2 Axes>"
            ]
          },
          "metadata": {},
          "output_type": "display_data"
        }
      ],
      "source": [
        "emp = df.Employment_Status.value_counts().sort_values(ascending=True)\n",
        "wkstl = df.Remote_vs_Onsite.value_counts().sort_values(ascending=True)\n",
        "\n",
        "fig, axes = plt.subplots(ncols=2, figsize=(15,6))\n",
        "\n",
        "fig.suptitle('Employment Status & Work Style')\n",
        "axes[0].barh(emp.index, emp.values)\n",
        "axes[0].set_ylabel('Employment Status')\n",
        "axes[0].set_xlabel('Count')\n",
        "axes[0].set_yticks(range(len(empl)))\n",
        "axes[0].set_yticklabels(empl)\n",
        "axes[1].barh(wkstl.index, wkstl.values)\n",
        "axes[1].set_ylabel('Work Style')\n",
        "axes[1].set_xlabel('Count')\n",
        "axes[1].set_yticks(range(len(wkstlls)))\n",
        "axes[1].set_yticklabels(wkstlls);\n"
      ]
    },
    {
      "cell_type": "markdown",
      "id": "9c957fd9",
      "metadata": {
        "id": "9c957fd9"
      },
      "source": [
        "#### Annual Salary"
      ]
    },
    {
      "cell_type": "markdown",
      "id": "bc79e789",
      "metadata": {
        "id": "bc79e789"
      },
      "source": [
        "#### Salary Distribution by Continent"
      ]
    },
    {
      "cell_type": "markdown",
      "id": "4d2e31ff",
      "metadata": {
        "id": "4d2e31ff"
      },
      "source": [
        "North American developers are the most well-paid, followed by Oceania and Europe"
      ]
    },
    {
      "cell_type": "code",
      "execution_count": 458,
      "id": "322cf76f",
      "metadata": {
        "colab": {
          "base_uri": "https://localhost:8080/",
          "height": 333
        },
        "id": "322cf76f",
        "outputId": "f86d806c-751e-4448-8436-083dfe6f8682",
        "scrolled": true
      },
      "outputs": [
        {
          "data": {
            "image/png": "[encoded data removed]",
            "text/plain": [
              "<Figure size 432x216 with 1 Axes>"
            ]
          },
          "metadata": {},
          "output_type": "display_data"
        }
      ],
      "source": [
        "salo_sorted = salo.sort_values(ascending=True)\n",
        "plt.figure(figsize=(6, 3))\n",
        "salo_sorted.plot(kind='barh')\n",
        "plt.ylabel('Continents')\n",
        "plt.xlabel('Median Annual Salary')\n",
        "plt.title('Median Annual Salary by Continents)');"
      ]
    },
    {
      "cell_type": "code",
      "execution_count": 459,
      "id": "c34eda52",
      "metadata": {
        "colab": {
          "base_uri": "https://localhost:8080/",
          "height": 401
        },
        "id": "c34eda52",
        "outputId": "181da469-abfb-4f88-c216-6737e895327c",
        "scrolled": true
      },
      "outputs": [
        {
          "data": {
            "image/png": "[encoded data removed]",
            "text/plain": [
              "<Figure size 576x216 with 1 Axes>"
            ]
          },
          "metadata": {},
          "output_type": "display_data"
        }
      ],
      "source": [
        "plt.figure(figsize=(8, 3))\n",
        "ax = sns.boxplot(x='continents', y='Annual_Salary', data=df)\n",
        "plt.xticks(rotation=45)\n",
        "plt.xlabel('Continent')\n",
        "plt.ylabel('Annual Developer Salary')\n",
        "plt.title('Annual Developer Salaries by Continent')\n",
        "plt.show()"
      ]
    },
    {
      "cell_type": "markdown",
      "id": "cb5dbfa1",
      "metadata": {
        "id": "cb5dbfa1"
      },
      "source": [
        "#### Developer Tools By Salary"
      ]
    },
    {
      "cell_type": "code",
      "execution_count": 460,
      "id": "a016066a",
      "metadata": {
        "colab": {
          "base_uri": "https://localhost:8080/",
          "height": 1000
        },
        "id": "a016066a",
        "outputId": "f896cc93-752f-4355-e3c1-64485d752685"
      },
      "outputs": [
        {
          "data": {
            "image/png": "[encoded data removed]",
            "text/plain": [
              "<Figure size 1584x2160 with 4 Axes>"
            ]
          },
          "metadata": {},
          "output_type": "display_data"
        }
      ],
      "source": [
        "# Create subplots with 4 rows\n",
        "fig, axes = plt.subplots(nrows=4, figsize=(22, 30))\n",
        "# Define the columns to plot\n",
        "columns_to_plot = ['LanguageHaveWorkedWith', 'DatabaseHaveWorkedWith', 'PlatformHaveWorkedWith', 'WebframeHaveWorkedWith']\n",
        "# Iterate over the columns and create plots\n",
        "for i, column in enumerate(columns_to_plot):\n",
        "    # Group the data by column and calculate the average annual salary\n",
        "    median_salary_by_column = df.groupby(column)['Annual_Salary'].median().reset_index()\n",
        "    median_salary_by_column = median_salary_by_column.sort_values('Annual_Salary', ascending=False)\n",
        "    top_10_categories = median_salary_by_column.head(10)\n",
        "    # Create the bar plot for each column\n",
        "    axes[i].bar(top_10_categories[column], top_10_categories['Annual_Salary'])\n",
        "    axes[i].set_xlabel(column)\n",
        "    axes[i].set_ylabel('Median Annual Salary')\n",
        "    axes[i].set_title(f'Top 10 {column} by Median Annual Salary')\n",
        "    #axes[i].tick_params(axis='x', rotation=45, rotation_mode='anchor', ha='right')\n",
        "# Adjust layout and display the plots\n",
        "plt.tight_layout()\n",
        "plt.show()"
      ]
    },
    {
      "cell_type": "code",
      "execution_count": 461,
      "id": "fb5f0cb1",
      "metadata": {
        "colab": {
          "base_uri": "https://localhost:8080/",
          "height": 407
        },
        "id": "fb5f0cb1",
        "outputId": "78d47776-603d-4943-888b-a60da03eb0f2"
      },
      "outputs": [
        {
          "data": {
            "image/png": "[encoded data removed]",
            "text/plain": [
              "<Figure size 576x288 with 1 Axes>"
            ]
          },
          "metadata": {},
          "output_type": "display_data"
        }
      ],
      "source": [
        "# Group the data by VersionControlSystem and calculate the median annual salary\n",
        "average_salary_by_version_control = df.groupby('VersionControlSystem')['Annual_Salary'].median().reset_index()\n",
        "average_salary_by_version_control = average_salary_by_version_control.sort_values('Annual_Salary', ascending=True)\n",
        "# Create the vertical bar plot for VersionControlSystem\n",
        "plt.figure(figsize=(8, 4))\n",
        "plt.barh(average_salary_by_version_control['VersionControlSystem'], average_salary_by_version_control['Annual_Salary'])\n",
        "plt.ylabel('Version Control System')\n",
        "plt.xlabel('Average Annual Salary')\n",
        "plt.title('Version Control Systems by Average Annual Salary')\n",
        "plt.xticks(rotation=0, ha='right')\n",
        "plt.tight_layout()\n",
        "plt.show()"
      ]
    },
    {
      "cell_type": "markdown",
      "id": "96bd3690",
      "metadata": {
        "id": "96bd3690"
      },
      "source": [
        "## Multivariate Analysis"
      ]
    },
    {
      "cell_type": "code",
      "execution_count": 462,
      "id": "a3b19a67",
      "metadata": {
        "colab": {
          "base_uri": "https://localhost:8080/",
          "height": 631
        },
        "id": "a3b19a67",
        "outputId": "e241f121-04df-4e43-c7a2-03a02d79d519",
        "scrolled": false
      },
      "outputs": [
        {
          "data": {
            "image/png": "[encoded data removed]",
            "text/plain": [
              "<Figure size 720x432 with 1 Axes>"
            ]
          },
          "metadata": {},
          "output_type": "display_data"
        }
      ],
      "source": [
        "# Subset the relevant columns\n",
        "subset_df = df[[\"LanguageHaveWorkedWith\", \"Annual_Salary\", \"Education_Level\"]]\n",
        "\n",
        "# Filter out rows with missing values in any of the selected columns\n",
        "subset_df = subset_df.dropna(subset=[\"LanguageHaveWorkedWith\", \"Annual_Salary\", \"Education_Level\"])\n",
        "\n",
        "# Plotting\n",
        "plt.figure(figsize=(10, 6))\n",
        "sns.scatterplot(data=subset_df, x=\"LanguageHaveWorkedWith\", y=\"Annual_Salary\", hue=\"Education_Level\")\n",
        "plt.xticks(rotation=90)\n",
        "plt.xlabel(\"Languages Worked With\")\n",
        "plt.ylabel(\"Annual Salary\")\n",
        "plt.title(\"Relationship between Languages, Salary, and Education Level\")\n",
        "plt.show()"
      ]
    },
    {
      "cell_type": "markdown",
      "id": "c9f39976",
      "metadata": {
        "id": "c9f39976"
      },
      "source": [
        "# Data Preprocessing"
      ]
    },
    {
      "cell_type": "markdown",
      "id": "2b685ebb",
      "metadata": {
        "id": "2b685ebb"
      },
      "source": [
        "### Initial Feature Selection & Data Encoding\n",
        "Our data mostly contains categorical variables that need to be preprocessed via encoding to make it ready for modelling\n",
        "Before encoding the data, based on domain knowledge, we will select the required features that are most likely to affect `Annual_Salary`. Below, `deletedf` (38 columns) shows the list of columns to be dropped, while `selectorf` (56 columns), shows the columns to be used in preprocessing"
      ]
    },
    {
      "cell_type": "code",
      "execution_count": 463,
      "id": "89edad86",
      "metadata": {
        "id": "89edad86"
      },
      "outputs": [],
      "source": [
        "deletedf = ['LanguageWantToWorkWith', 'DatabaseWantToWorkWith', 'PlatformWantToWorkWith', 'WebframeWantToWorkWith',\n",
        "'MiscTechWantToWorkWith', 'ToolsTechWantToWorkWith', 'NEWCollabToolsWantToWorkWith', 'Proj_Mgmt_WantToWorkWith',\n",
        "'Proj_Mgmt_SyncWantToWorkWith', 'Blockchain_Sentiment', 'New_Stack_Overfl_Sites', 'SOVisitFreq', 'SOAccount_Ownership',\n",
        "'SOA_ParticipationFreq', 'Belong_SO_Comm', 'Participation_PDS', 'Contributor_or_Manager', 'Extroverted', 'Siloed_Teams',\n",
        "'Information_Availability', 'Well_Resourced', 'Info_Answ_Resource', 'Recurring_Responses', 'Workflow_Interruptions',\n",
        "'External_Team_Assistance', 'External_Team_Interaction', 'Knowledge_Silos', 'TimeSearching_Answers', 'TimeAnswering',\n",
        "'Onboarding_Duration', 'ProfessionalTech', 'Is_Involved_Onboarding', 'Employer_Learning_Resources', 'Learning_Support',\n",
        "'SurveyLength', 'SurveyEase', 'Purchase_Research', 'OpSysPersonal_use', 'VersionControlSystem', 'VCInteraction',\n",
        "'Proj_Mgmt_HVWorkedWith', 'Proj_Mgmt_SyncHaveWorkedWith', 'Age', 'Gender', 'Trans', 'Sexuality', 'Ethnicity', 'Disability',\n",
        "'MentalHealth', 'continents', 'Learn_Code_Method', 'Learn_Code_Source', 'DatabaseHaveWorkedWith', 'WebframeHaveWorkedWith',\n",
        "'MiscTechHaveWorkedWith', 'NEWCollabToolsHaveWorkedWith', 'OrgSize', 'Coding_Experience', 'Outofwork_Coding',\n",
        "'PlatformHaveWorkedWith', 'OpSysProfessional_use', 'ToolsTechHaveWorkedWith']"
      ]
    },
    {
      "cell_type": "code",
      "execution_count": 464,
      "id": "8bba6120",
      "metadata": {
        "id": "8bba6120"
      },
      "outputs": [],
      "source": [
        "selectorf = ['Developer_Description', 'Employment_Status',\n",
        "       'Remote_vs_Onsite', 'Outofwork_Coding', 'Education_Level',\n",
        "       'Learn_Code_Method', 'Learn_Code_Source', 'Code_Certifications',\n",
        "       'Coding_Experience', 'Pro_Experience', 'DevType', 'OrgSize',\n",
        "       'PurchaseInfluence', 'Country',\n",
        "       'LanguageHaveWorkedWith',\n",
        "       'DatabaseHaveWorkedWith',\n",
        "       'PlatformHaveWorkedWith',\n",
        "       'WebframeHaveWorkedWith',\n",
        "       'MiscTechHaveWorkedWith',\n",
        "       'ToolsTechHaveWorkedWith',\n",
        "       'NEWCollabToolsHaveWorkedWith',\n",
        "       'OpSysProfessional_use', 'OpSysPersonal_use', 'VersionControlSystem',\n",
        "       'VCInteraction', 'Proj_Mgmt_HVWorkedWith',\n",
        "       'Proj_Mgmt_SyncHaveWorkedWith',\n",
        "       'Age',\n",
        "       'Gender', 'Trans', 'Sexuality', 'Ethnicity', 'Disability',\n",
        "       'MentalHealth', 'Annual_Salary',\n",
        "       'continents']"
      ]
    },
    {
      "cell_type": "code",
      "execution_count": 465,
      "id": "2974161c",
      "metadata": {
        "colab": {
          "base_uri": "https://localhost:8080/"
        },
        "id": "2974161c",
        "outputId": "8ccda61b-6b67-4562-ef27-c0fe2422d0a7"
      },
      "outputs": [
        {
          "name": "stdout",
          "output_type": "stream",
          "text": [
            "62 36\n"
          ]
        }
      ],
      "source": [
        "print(len(deletedf), len(selectorf))"
      ]
    },
    {
      "cell_type": "code",
      "execution_count": 466,
      "id": "8fbf22fd",
      "metadata": {
        "id": "8fbf22fd"
      },
      "outputs": [],
      "source": [
        "columns_to_binary_encode = ['Employment_Status', 'ProfessionalTech', 'OpSysPersonal_use', 'OpSysProfessional_use',\n",
        "                            'Remote_vs_Onsite','Developer_Description', 'Outofwork_Coding', 'Learn_Code_Method',\n",
        "                            'Learn_Code_Source', 'Code_Certifications', 'DevType', 'Purchase_Research', 'Country',\n",
        "                            'LanguageHaveWorkedWith', 'DatabaseHaveWorkedWith', 'LanguageWantToWorkWith',\n",
        "                            'DatabaseWantToWorkWith', 'PlatformHaveWorkedWith', 'PlatformWantToWorkWith',\n",
        "                            'WebframeHaveWorkedWith', 'WebframeWantToWorkWith', 'MiscTechHaveWorkedWith',\n",
        "                            'MiscTechWantToWorkWith', 'ToolsTechHaveWorkedWith', 'ToolsTechWantToWorkWith',\n",
        "                            'NEWCollabToolsHaveWorkedWith', 'NEWCollabToolsWantToWorkWith', 'VersionControlSystem',\n",
        "                            'VCInteraction', 'Proj_Mgmt_HVWorkedWith', 'Proj_Mgmt_WantToWorkWith',\n",
        "                            'Proj_Mgmt_SyncHaveWorkedWith', 'Proj_Mgmt_SyncWantToWorkWith', 'New_Stack_Overfl_Sites',\n",
        "                            'SOAccount_Ownership', 'Belong_SO_Comm', 'Gender', 'Trans', 'Sexuality', 'Ethnicity',\n",
        "                            'Disability', 'MentalHealth', 'Participation_PDS', 'Contributor_or_Manager',\n",
        "                            'Is_Involved_Onboarding', 'Employer_Learning_Resources', 'Learning_Support', 'continents' ]"
      ]
    },
    {
      "cell_type": "code",
      "execution_count": 467,
      "id": "6568b88e",
      "metadata": {
        "id": "6568b88e"
      },
      "outputs": [],
      "source": [
        "columns_to_ordinal_encode = ['Education_Level', 'OrgSize', 'PurchaseInfluence', 'Blockchain_Sentiment', 'SOVisitFreq',\n",
        "                             'SOA_ParticipationFreq', 'Age', 'Extroverted', 'Siloed_Teams', 'Information_Availability',\n",
        "                             'Well_Resourced', 'Info_Answ_Resource', 'Recurring_Responses', 'Workflow_Interruptions',\n",
        "                             'External_Team_Assistance', 'External_Team_Interaction', 'Knowledge_Silos',\n",
        "                             'TimeSearching_Answers', 'TimeAnswering', 'Onboarding_Duration', 'SurveyLength', 'SurveyEase']"
      ]
    },
    {
      "cell_type": "code",
      "execution_count": 468,
      "id": "e47b9e2c",
      "metadata": {
        "id": "e47b9e2c"
      },
      "outputs": [],
      "source": [
        "numeric_cols = ['Coding_Experience', 'Pro_Experience','Annual_Salary']"
      ]
    },
    {
      "cell_type": "code",
      "execution_count": 469,
      "id": "c638d504",
      "metadata": {
        "colab": {
          "base_uri": "https://localhost:8080/"
        },
        "id": "c638d504",
        "outputId": "ce585175-6678-4770-f06e-9072d4402a4e"
      },
      "outputs": [
        {
          "name": "stdout",
          "output_type": "stream",
          "text": [
            "7\n",
            "2\n",
            "36\n"
          ]
        }
      ],
      "source": [
        "columns_to_binary_encode_set = set(columns_to_binary_encode)\n",
        "columns_to_ordinal_encode_set = set(columns_to_ordinal_encode)\n",
        "deletedf_set = set(deletedf)\n",
        "\n",
        "final_to_binary_encode = list(columns_to_binary_encode_set - deletedf_set)\n",
        "final_to_ordinal_encode = list(columns_to_ordinal_encode_set - deletedf_set)\n",
        "\n",
        "print(len(final_to_binary_encode))\n",
        "print(len(final_to_ordinal_encode))\n",
        "print(len(selectorf))"
      ]
    },
    {
      "cell_type": "code",
      "execution_count": 470,
      "id": "c1a10665",
      "metadata": {
        "id": "c1a10665"
      },
      "outputs": [],
      "source": [
        "# final cols to work with\n",
        "#final_to_binary_encode\n",
        "#final_to_ordinal_encode\n",
        "#numeric_cols\n"
      ]
    },
    {
      "cell_type": "code",
      "execution_count": 471,
      "id": "d71c45ab",
      "metadata": {
        "id": "d71c45ab"
      },
      "outputs": [],
      "source": [
        "# drop work experience as its correlated to\n",
        "# professional experience, hence duplication\n",
        "df = dropping_columns(df, 'WorkExp')\n",
        "df = dropping_columns(df, 'ResponseId')"
      ]
    },
    {
      "cell_type": "code",
      "execution_count": 472,
      "id": "30a9bc69",
      "metadata": {
        "colab": {
          "base_uri": "https://localhost:8080/",
          "height": 713
        },
        "id": "30a9bc69",
        "outputId": "701d0de9-2d04-409b-ea41-4a9c8bc8d266"
      },
      "outputs": [
        {
          "data": {
            "text/html": [
              "<div>\n",
              "<style scoped>\n",
              "    .dataframe tbody tr th:only-of-type {\n",
              "        vertical-align: middle;\n",
              "    }\n",
              "\n",
              "    .dataframe tbody tr th {\n",
              "        vertical-align: top;\n",
              "    }\n",
              "\n",
              "    .dataframe thead th {\n",
              "        text-align: right;\n",
              "    }\n",
              "</style>\n",
              "<table border=\"1\" class=\"dataframe\">\n",
              "  <thead>\n",
              "    <tr style=\"text-align: right;\">\n",
              "      <th></th>\n",
              "      <th>Developer_Description_0</th>\n",
              "      <th>Developer_Description_1</th>\n",
              "      <th>Developer_Description_2</th>\n",
              "      <th>Employment_Status_0</th>\n",
              "      <th>Employment_Status_1</th>\n",
              "      <th>Employment_Status_2</th>\n",
              "      <th>Employment_Status_3</th>\n",
              "      <th>Remote_vs_Onsite_0</th>\n",
              "      <th>Remote_vs_Onsite_1</th>\n",
              "      <th>Remote_vs_Onsite_2</th>\n",
              "      <th>...</th>\n",
              "      <th>TimeAnswering</th>\n",
              "      <th>Onboarding_Duration</th>\n",
              "      <th>ProfessionalTech</th>\n",
              "      <th>Is_Involved_Onboarding</th>\n",
              "      <th>Employer_Learning_Resources</th>\n",
              "      <th>Learning_Support</th>\n",
              "      <th>SurveyLength</th>\n",
              "      <th>SurveyEase</th>\n",
              "      <th>Annual_Salary</th>\n",
              "      <th>continents</th>\n",
              "    </tr>\n",
              "  </thead>\n",
              "  <tbody>\n",
              "    <tr>\n",
              "      <th>1</th>\n",
              "      <td>0</td>\n",
              "      <td>0</td>\n",
              "      <td>1</td>\n",
              "      <td>0</td>\n",
              "      <td>0</td>\n",
              "      <td>0</td>\n",
              "      <td>1</td>\n",
              "      <td>0</td>\n",
              "      <td>0</td>\n",
              "      <td>1</td>\n",
              "      <td>...</td>\n",
              "      <td>Not Answered</td>\n",
              "      <td>Not Answered</td>\n",
              "      <td>Not Answered</td>\n",
              "      <td>Not Answered</td>\n",
              "      <td>Not Answered</td>\n",
              "      <td>Not Answered</td>\n",
              "      <td>Too long</td>\n",
              "      <td>Difficult</td>\n",
              "      <td>132000.0</td>\n",
              "      <td>North America</td>\n",
              "    </tr>\n",
              "    <tr>\n",
              "      <th>2</th>\n",
              "      <td>0</td>\n",
              "      <td>1</td>\n",
              "      <td>0</td>\n",
              "      <td>0</td>\n",
              "      <td>0</td>\n",
              "      <td>0</td>\n",
              "      <td>1</td>\n",
              "      <td>0</td>\n",
              "      <td>1</td>\n",
              "      <td>0</td>\n",
              "      <td>...</td>\n",
              "      <td>Not Answered</td>\n",
              "      <td>Not Answered</td>\n",
              "      <td>Not Answered</td>\n",
              "      <td>Not Answered</td>\n",
              "      <td>Not Answered</td>\n",
              "      <td>Not Answered</td>\n",
              "      <td>Appropriate in length</td>\n",
              "      <td>Neither easy nor difficult</td>\n",
              "      <td>40205.0</td>\n",
              "      <td>Europe</td>\n",
              "    </tr>\n",
              "    <tr>\n",
              "      <th>3</th>\n",
              "      <td>0</td>\n",
              "      <td>0</td>\n",
              "      <td>1</td>\n",
              "      <td>0</td>\n",
              "      <td>0</td>\n",
              "      <td>0</td>\n",
              "      <td>1</td>\n",
              "      <td>0</td>\n",
              "      <td>0</td>\n",
              "      <td>1</td>\n",
              "      <td>...</td>\n",
              "      <td>Not Answered</td>\n",
              "      <td>Not Answered</td>\n",
              "      <td>Not Answered</td>\n",
              "      <td>Not Answered</td>\n",
              "      <td>Not Answered</td>\n",
              "      <td>Not Answered</td>\n",
              "      <td>Appropriate in length</td>\n",
              "      <td>Easy</td>\n",
              "      <td>215232.0</td>\n",
              "      <td>Asia</td>\n",
              "    </tr>\n",
              "    <tr>\n",
              "      <th>4</th>\n",
              "      <td>0</td>\n",
              "      <td>0</td>\n",
              "      <td>1</td>\n",
              "      <td>0</td>\n",
              "      <td>0</td>\n",
              "      <td>0</td>\n",
              "      <td>1</td>\n",
              "      <td>0</td>\n",
              "      <td>1</td>\n",
              "      <td>0</td>\n",
              "      <td>...</td>\n",
              "      <td>Not Answered</td>\n",
              "      <td>Not Answered</td>\n",
              "      <td>Not Answered</td>\n",
              "      <td>Not Answered</td>\n",
              "      <td>Not Answered</td>\n",
              "      <td>Not Answered</td>\n",
              "      <td>Too long</td>\n",
              "      <td>Easy</td>\n",
              "      <td>132000.0</td>\n",
              "      <td>North America</td>\n",
              "    </tr>\n",
              "    <tr>\n",
              "      <th>5</th>\n",
              "      <td>0</td>\n",
              "      <td>1</td>\n",
              "      <td>0</td>\n",
              "      <td>0</td>\n",
              "      <td>0</td>\n",
              "      <td>1</td>\n",
              "      <td>0</td>\n",
              "      <td>0</td>\n",
              "      <td>1</td>\n",
              "      <td>1</td>\n",
              "      <td>...</td>\n",
              "      <td>Not Answered</td>\n",
              "      <td>Not Answered</td>\n",
              "      <td>Not Answered</td>\n",
              "      <td>Not Answered</td>\n",
              "      <td>Not Answered</td>\n",
              "      <td>Not Answered</td>\n",
              "      <td>Appropriate in length</td>\n",
              "      <td>Easy</td>\n",
              "      <td>0.0</td>\n",
              "      <td>Europe</td>\n",
              "    </tr>\n",
              "    <tr>\n",
              "      <th>...</th>\n",
              "      <td>...</td>\n",
              "      <td>...</td>\n",
              "      <td>...</td>\n",
              "      <td>...</td>\n",
              "      <td>...</td>\n",
              "      <td>...</td>\n",
              "      <td>...</td>\n",
              "      <td>...</td>\n",
              "      <td>...</td>\n",
              "      <td>...</td>\n",
              "      <td>...</td>\n",
              "      <td>...</td>\n",
              "      <td>...</td>\n",
              "      <td>...</td>\n",
              "      <td>...</td>\n",
              "      <td>...</td>\n",
              "      <td>...</td>\n",
              "      <td>...</td>\n",
              "      <td>...</td>\n",
              "      <td>...</td>\n",
              "      <td>...</td>\n",
              "    </tr>\n",
              "    <tr>\n",
              "      <th>73263</th>\n",
              "      <td>0</td>\n",
              "      <td>0</td>\n",
              "      <td>1</td>\n",
              "      <td>0</td>\n",
              "      <td>0</td>\n",
              "      <td>0</td>\n",
              "      <td>1</td>\n",
              "      <td>0</td>\n",
              "      <td>0</td>\n",
              "      <td>1</td>\n",
              "      <td>...</td>\n",
              "      <td>Less than 15 minutes a day</td>\n",
              "      <td>Just right</td>\n",
              "      <td>DevOps function</td>\n",
              "      <td>Yes</td>\n",
              "      <td>Yes</td>\n",
              "      <td>Yes</td>\n",
              "      <td>Too long</td>\n",
              "      <td>Easy</td>\n",
              "      <td>18126.0</td>\n",
              "      <td>Africa</td>\n",
              "    </tr>\n",
              "    <tr>\n",
              "      <th>73264</th>\n",
              "      <td>0</td>\n",
              "      <td>0</td>\n",
              "      <td>1</td>\n",
              "      <td>0</td>\n",
              "      <td>0</td>\n",
              "      <td>0</td>\n",
              "      <td>1</td>\n",
              "      <td>1</td>\n",
              "      <td>0</td>\n",
              "      <td>0</td>\n",
              "      <td>...</td>\n",
              "      <td>60-120 minutes a day</td>\n",
              "      <td>Very long</td>\n",
              "      <td>None of these</td>\n",
              "      <td>No</td>\n",
              "      <td>Yes</td>\n",
              "      <td>Yes</td>\n",
              "      <td>Too long</td>\n",
              "      <td>Easy</td>\n",
              "      <td>132000.0</td>\n",
              "      <td>North America</td>\n",
              "    </tr>\n",
              "    <tr>\n",
              "      <th>73265</th>\n",
              "      <td>0</td>\n",
              "      <td>1</td>\n",
              "      <td>0</td>\n",
              "      <td>0</td>\n",
              "      <td>0</td>\n",
              "      <td>0</td>\n",
              "      <td>1</td>\n",
              "      <td>0</td>\n",
              "      <td>1</td>\n",
              "      <td>0</td>\n",
              "      <td>...</td>\n",
              "      <td>60-120 minutes a day</td>\n",
              "      <td>Just right</td>\n",
              "      <td>None of these</td>\n",
              "      <td>No</td>\n",
              "      <td>No</td>\n",
              "      <td>No</td>\n",
              "      <td>Appropriate in length</td>\n",
              "      <td>Easy</td>\n",
              "      <td>132000.0</td>\n",
              "      <td>North America</td>\n",
              "    </tr>\n",
              "    <tr>\n",
              "      <th>73266</th>\n",
              "      <td>0</td>\n",
              "      <td>0</td>\n",
              "      <td>1</td>\n",
              "      <td>0</td>\n",
              "      <td>0</td>\n",
              "      <td>0</td>\n",
              "      <td>1</td>\n",
              "      <td>0</td>\n",
              "      <td>1</td>\n",
              "      <td>0</td>\n",
              "      <td>...</td>\n",
              "      <td>Not Answered</td>\n",
              "      <td>Not Answered</td>\n",
              "      <td>Not Answered</td>\n",
              "      <td>Not Answered</td>\n",
              "      <td>Not Answered</td>\n",
              "      <td>Not Answered</td>\n",
              "      <td>Appropriate in length</td>\n",
              "      <td>Easy</td>\n",
              "      <td>59720.0</td>\n",
              "      <td>Europe</td>\n",
              "    </tr>\n",
              "    <tr>\n",
              "      <th>73267</th>\n",
              "      <td>1</td>\n",
              "      <td>0</td>\n",
              "      <td>1</td>\n",
              "      <td>0</td>\n",
              "      <td>1</td>\n",
              "      <td>0</td>\n",
              "      <td>1</td>\n",
              "      <td>0</td>\n",
              "      <td>0</td>\n",
              "      <td>1</td>\n",
              "      <td>...</td>\n",
              "      <td>Not Answered</td>\n",
              "      <td>Not Answered</td>\n",
              "      <td>Not Answered</td>\n",
              "      <td>Not Answered</td>\n",
              "      <td>Not Answered</td>\n",
              "      <td>Not Answered</td>\n",
              "      <td>Appropriate in length</td>\n",
              "      <td>Easy</td>\n",
              "      <td>132000.0</td>\n",
              "      <td>North America</td>\n",
              "    </tr>\n",
              "  </tbody>\n",
              "</table>\n",
              "<p>71711 rows × 99 columns</p>\n",
              "</div>"
            ],
            "text/plain": [
              "       Developer_Description_0  Developer_Description_1  \\\n",
              "1                            0                        0   \n",
              "2                            0                        1   \n",
              "3                            0                        0   \n",
              "4                            0                        0   \n",
              "5                            0                        1   \n",
              "...                        ...                      ...   \n",
              "73263                        0                        0   \n",
              "73264                        0                        0   \n",
              "73265                        0                        1   \n",
              "73266                        0                        0   \n",
              "73267                        1                        0   \n",
              "\n",
              "       Developer_Description_2  Employment_Status_0  Employment_Status_1  \\\n",
              "1                            1                    0                    0   \n",
              "2                            0                    0                    0   \n",
              "3                            1                    0                    0   \n",
              "4                            1                    0                    0   \n",
              "5                            0                    0                    0   \n",
              "...                        ...                  ...                  ...   \n",
              "73263                        1                    0                    0   \n",
              "73264                        1                    0                    0   \n",
              "73265                        0                    0                    0   \n",
              "73266                        1                    0                    0   \n",
              "73267                        1                    0                    1   \n",
              "\n",
              "       Employment_Status_2  Employment_Status_3  Remote_vs_Onsite_0  \\\n",
              "1                        0                    1                   0   \n",
              "2                        0                    1                   0   \n",
              "3                        0                    1                   0   \n",
              "4                        0                    1                   0   \n",
              "5                        1                    0                   0   \n",
              "...                    ...                  ...                 ...   \n",
              "73263                    0                    1                   0   \n",
              "73264                    0                    1                   1   \n",
              "73265                    0                    1                   0   \n",
              "73266                    0                    1                   0   \n",
              "73267                    0                    1                   0   \n",
              "\n",
              "       Remote_vs_Onsite_1  Remote_vs_Onsite_2  ...  \\\n",
              "1                       0                   1  ...   \n",
              "2                       1                   0  ...   \n",
              "3                       0                   1  ...   \n",
              "4                       1                   0  ...   \n",
              "5                       1                   1  ...   \n",
              "...                   ...                 ...  ...   \n",
              "73263                   0                   1  ...   \n",
              "73264                   0                   0  ...   \n",
              "73265                   1                   0  ...   \n",
              "73266                   1                   0  ...   \n",
              "73267                   0                   1  ...   \n",
              "\n",
              "                    TimeAnswering Onboarding_Duration ProfessionalTech  \\\n",
              "1                    Not Answered        Not Answered     Not Answered   \n",
              "2                    Not Answered        Not Answered     Not Answered   \n",
              "3                    Not Answered        Not Answered     Not Answered   \n",
              "4                    Not Answered        Not Answered     Not Answered   \n",
              "5                    Not Answered        Not Answered     Not Answered   \n",
              "...                           ...                 ...              ...   \n",
              "73263  Less than 15 minutes a day          Just right  DevOps function   \n",
              "73264        60-120 minutes a day           Very long    None of these   \n",
              "73265        60-120 minutes a day          Just right    None of these   \n",
              "73266                Not Answered        Not Answered     Not Answered   \n",
              "73267                Not Answered        Not Answered     Not Answered   \n",
              "\n",
              "      Is_Involved_Onboarding  Employer_Learning_Resources  Learning_Support  \\\n",
              "1               Not Answered                 Not Answered      Not Answered   \n",
              "2               Not Answered                 Not Answered      Not Answered   \n",
              "3               Not Answered                 Not Answered      Not Answered   \n",
              "4               Not Answered                 Not Answered      Not Answered   \n",
              "5               Not Answered                 Not Answered      Not Answered   \n",
              "...                      ...                          ...               ...   \n",
              "73263                    Yes                          Yes               Yes   \n",
              "73264                     No                          Yes               Yes   \n",
              "73265                     No                           No                No   \n",
              "73266           Not Answered                 Not Answered      Not Answered   \n",
              "73267           Not Answered                 Not Answered      Not Answered   \n",
              "\n",
              "                SurveyLength                  SurveyEase  Annual_Salary  \\\n",
              "1                   Too long                   Difficult       132000.0   \n",
              "2      Appropriate in length  Neither easy nor difficult        40205.0   \n",
              "3      Appropriate in length                        Easy       215232.0   \n",
              "4                   Too long                        Easy       132000.0   \n",
              "5      Appropriate in length                        Easy            0.0   \n",
              "...                      ...                         ...            ...   \n",
              "73263               Too long                        Easy        18126.0   \n",
              "73264               Too long                        Easy       132000.0   \n",
              "73265  Appropriate in length                        Easy       132000.0   \n",
              "73266  Appropriate in length                        Easy        59720.0   \n",
              "73267  Appropriate in length                        Easy       132000.0   \n",
              "\n",
              "          continents  \n",
              "1      North America  \n",
              "2             Europe  \n",
              "3               Asia  \n",
              "4      North America  \n",
              "5             Europe  \n",
              "...              ...  \n",
              "73263         Africa  \n",
              "73264  North America  \n",
              "73265  North America  \n",
              "73266         Europe  \n",
              "73267  North America  \n",
              "\n",
              "[71711 rows x 99 columns]"
            ]
          },
          "execution_count": 472,
          "metadata": {},
          "output_type": "execute_result"
        }
      ],
      "source": [
        "# perform binary encoding\n",
        "def perform_binary_encoding(df, columns):\n",
        "    # Create a copy of the original DataFrame\n",
        "    df_encoded = df.copy()\n",
        "    # Perform Binary Encoding for each specified column\n",
        "    for column in columns:\n",
        "        binary_encoder = ce.BinaryEncoder(cols=[column])\n",
        "        df_encoded = binary_encoder.fit_transform(df_encoded)\n",
        "    return df_encoded\n",
        "# Perform Binary Encoding\n",
        "df_encoded_binary = perform_binary_encoding(df, final_to_binary_encode)\n",
        "# Display the encoded dataframe\n",
        "df_encoded_binary"
      ]
    },
    {
      "cell_type": "code",
      "execution_count": 473,
      "id": "58f62da1",
      "metadata": {
        "colab": {
          "base_uri": "https://localhost:8080/",
          "height": 403
        },
        "id": "58f62da1",
        "outputId": "b760ee15-f95f-4b21-8979-a28e37e70ee7"
      },
      "outputs": [
        {
          "data": {
            "text/html": [
              "<div>\n",
              "<style scoped>\n",
              "    .dataframe tbody tr th:only-of-type {\n",
              "        vertical-align: middle;\n",
              "    }\n",
              "\n",
              "    .dataframe tbody tr th {\n",
              "        vertical-align: top;\n",
              "    }\n",
              "\n",
              "    .dataframe thead th {\n",
              "        text-align: right;\n",
              "    }\n",
              "</style>\n",
              "<table border=\"1\" class=\"dataframe\">\n",
              "  <thead>\n",
              "    <tr style=\"text-align: right;\">\n",
              "      <th></th>\n",
              "      <th>Developer_Description_0</th>\n",
              "      <th>Developer_Description_1</th>\n",
              "      <th>Developer_Description_2</th>\n",
              "      <th>Employment_Status_0</th>\n",
              "      <th>Employment_Status_1</th>\n",
              "      <th>Employment_Status_2</th>\n",
              "      <th>Employment_Status_3</th>\n",
              "      <th>Remote_vs_Onsite_0</th>\n",
              "      <th>Remote_vs_Onsite_1</th>\n",
              "      <th>Remote_vs_Onsite_2</th>\n",
              "      <th>...</th>\n",
              "      <th>TimeAnswering</th>\n",
              "      <th>Onboarding_Duration</th>\n",
              "      <th>ProfessionalTech</th>\n",
              "      <th>Is_Involved_Onboarding</th>\n",
              "      <th>Employer_Learning_Resources</th>\n",
              "      <th>Learning_Support</th>\n",
              "      <th>SurveyLength</th>\n",
              "      <th>SurveyEase</th>\n",
              "      <th>Annual_Salary</th>\n",
              "      <th>continents</th>\n",
              "    </tr>\n",
              "  </thead>\n",
              "  <tbody>\n",
              "    <tr>\n",
              "      <th>1</th>\n",
              "      <td>0</td>\n",
              "      <td>0</td>\n",
              "      <td>1</td>\n",
              "      <td>0</td>\n",
              "      <td>0</td>\n",
              "      <td>0</td>\n",
              "      <td>1</td>\n",
              "      <td>0</td>\n",
              "      <td>0</td>\n",
              "      <td>1</td>\n",
              "      <td>...</td>\n",
              "      <td>Not Answered</td>\n",
              "      <td>Not Answered</td>\n",
              "      <td>Not Answered</td>\n",
              "      <td>Not Answered</td>\n",
              "      <td>Not Answered</td>\n",
              "      <td>Not Answered</td>\n",
              "      <td>Too long</td>\n",
              "      <td>Difficult</td>\n",
              "      <td>132000.0</td>\n",
              "      <td>North America</td>\n",
              "    </tr>\n",
              "    <tr>\n",
              "      <th>2</th>\n",
              "      <td>0</td>\n",
              "      <td>1</td>\n",
              "      <td>0</td>\n",
              "      <td>0</td>\n",
              "      <td>0</td>\n",
              "      <td>0</td>\n",
              "      <td>1</td>\n",
              "      <td>0</td>\n",
              "      <td>1</td>\n",
              "      <td>0</td>\n",
              "      <td>...</td>\n",
              "      <td>Not Answered</td>\n",
              "      <td>Not Answered</td>\n",
              "      <td>Not Answered</td>\n",
              "      <td>Not Answered</td>\n",
              "      <td>Not Answered</td>\n",
              "      <td>Not Answered</td>\n",
              "      <td>Appropriate in length</td>\n",
              "      <td>Neither easy nor difficult</td>\n",
              "      <td>40205.0</td>\n",
              "      <td>Europe</td>\n",
              "    </tr>\n",
              "    <tr>\n",
              "      <th>3</th>\n",
              "      <td>0</td>\n",
              "      <td>0</td>\n",
              "      <td>1</td>\n",
              "      <td>0</td>\n",
              "      <td>0</td>\n",
              "      <td>0</td>\n",
              "      <td>1</td>\n",
              "      <td>0</td>\n",
              "      <td>0</td>\n",
              "      <td>1</td>\n",
              "      <td>...</td>\n",
              "      <td>Not Answered</td>\n",
              "      <td>Not Answered</td>\n",
              "      <td>Not Answered</td>\n",
              "      <td>Not Answered</td>\n",
              "      <td>Not Answered</td>\n",
              "      <td>Not Answered</td>\n",
              "      <td>Appropriate in length</td>\n",
              "      <td>Easy</td>\n",
              "      <td>215232.0</td>\n",
              "      <td>Asia</td>\n",
              "    </tr>\n",
              "    <tr>\n",
              "      <th>4</th>\n",
              "      <td>0</td>\n",
              "      <td>0</td>\n",
              "      <td>1</td>\n",
              "      <td>0</td>\n",
              "      <td>0</td>\n",
              "      <td>0</td>\n",
              "      <td>1</td>\n",
              "      <td>0</td>\n",
              "      <td>1</td>\n",
              "      <td>0</td>\n",
              "      <td>...</td>\n",
              "      <td>Not Answered</td>\n",
              "      <td>Not Answered</td>\n",
              "      <td>Not Answered</td>\n",
              "      <td>Not Answered</td>\n",
              "      <td>Not Answered</td>\n",
              "      <td>Not Answered</td>\n",
              "      <td>Too long</td>\n",
              "      <td>Easy</td>\n",
              "      <td>132000.0</td>\n",
              "      <td>North America</td>\n",
              "    </tr>\n",
              "    <tr>\n",
              "      <th>5</th>\n",
              "      <td>0</td>\n",
              "      <td>1</td>\n",
              "      <td>0</td>\n",
              "      <td>0</td>\n",
              "      <td>0</td>\n",
              "      <td>1</td>\n",
              "      <td>0</td>\n",
              "      <td>0</td>\n",
              "      <td>1</td>\n",
              "      <td>1</td>\n",
              "      <td>...</td>\n",
              "      <td>Not Answered</td>\n",
              "      <td>Not Answered</td>\n",
              "      <td>Not Answered</td>\n",
              "      <td>Not Answered</td>\n",
              "      <td>Not Answered</td>\n",
              "      <td>Not Answered</td>\n",
              "      <td>Appropriate in length</td>\n",
              "      <td>Easy</td>\n",
              "      <td>0.0</td>\n",
              "      <td>Europe</td>\n",
              "    </tr>\n",
              "  </tbody>\n",
              "</table>\n",
              "<p>5 rows × 99 columns</p>\n",
              "</div>"
            ],
            "text/plain": [
              "   Developer_Description_0  Developer_Description_1  Developer_Description_2  \\\n",
              "1                        0                        0                        1   \n",
              "2                        0                        1                        0   \n",
              "3                        0                        0                        1   \n",
              "4                        0                        0                        1   \n",
              "5                        0                        1                        0   \n",
              "\n",
              "   Employment_Status_0  Employment_Status_1  Employment_Status_2  \\\n",
              "1                    0                    0                    0   \n",
              "2                    0                    0                    0   \n",
              "3                    0                    0                    0   \n",
              "4                    0                    0                    0   \n",
              "5                    0                    0                    1   \n",
              "\n",
              "   Employment_Status_3  Remote_vs_Onsite_0  Remote_vs_Onsite_1  \\\n",
              "1                    1                   0                   0   \n",
              "2                    1                   0                   1   \n",
              "3                    1                   0                   0   \n",
              "4                    1                   0                   1   \n",
              "5                    0                   0                   1   \n",
              "\n",
              "   Remote_vs_Onsite_2  ... TimeAnswering  Onboarding_Duration  \\\n",
              "1                   1  ...  Not Answered         Not Answered   \n",
              "2                   0  ...  Not Answered         Not Answered   \n",
              "3                   1  ...  Not Answered         Not Answered   \n",
              "4                   0  ...  Not Answered         Not Answered   \n",
              "5                   1  ...  Not Answered         Not Answered   \n",
              "\n",
              "  ProfessionalTech Is_Involved_Onboarding  Employer_Learning_Resources  \\\n",
              "1     Not Answered           Not Answered                 Not Answered   \n",
              "2     Not Answered           Not Answered                 Not Answered   \n",
              "3     Not Answered           Not Answered                 Not Answered   \n",
              "4     Not Answered           Not Answered                 Not Answered   \n",
              "5     Not Answered           Not Answered                 Not Answered   \n",
              "\n",
              "   Learning_Support           SurveyLength                  SurveyEase  \\\n",
              "1      Not Answered               Too long                   Difficult   \n",
              "2      Not Answered  Appropriate in length  Neither easy nor difficult   \n",
              "3      Not Answered  Appropriate in length                        Easy   \n",
              "4      Not Answered               Too long                        Easy   \n",
              "5      Not Answered  Appropriate in length                        Easy   \n",
              "\n",
              "   Annual_Salary     continents  \n",
              "1       132000.0  North America  \n",
              "2        40205.0         Europe  \n",
              "3       215232.0           Asia  \n",
              "4       132000.0  North America  \n",
              "5            0.0         Europe  \n",
              "\n",
              "[5 rows x 99 columns]"
            ]
          },
          "execution_count": 473,
          "metadata": {},
          "output_type": "execute_result"
        }
      ],
      "source": [
        "# perform ordinal encoding\n",
        "def perform_ordinal_encoding(df, columns):\n",
        "    # Create a copy of the original DataFrame\n",
        "    df_encod = df.copy()\n",
        "    # Perform Ordinal Encoding for each specified column\n",
        "    for column in columns:\n",
        "        ordinal_encoder = ce.OrdinalEncoder(cols=[column])\n",
        "        df_encod[column] = ordinal_encoder.fit_transform(df_encod[column])\n",
        "    return df_encod\n",
        "# Perform Ordinal Encoding\n",
        "df_encod = perform_ordinal_encoding(df_encoded_binary, final_to_ordinal_encode)\n",
        "# Display the encoded dataframe\n",
        "df_encod.head(5)"
      ]
    },
    {
      "cell_type": "code",
      "execution_count": 474,
      "id": "bf917714",
      "metadata": {
        "colab": {
          "base_uri": "https://localhost:8080/",
          "height": 317
        },
        "id": "bf917714",
        "outputId": "9bcb0ec0-4a56-4155-f3c5-f522bcbb7f40"
      },
      "outputs": [
        {
          "name": "stdout",
          "output_type": "stream",
          "text": [
            "Index([], dtype='object')\n"
          ]
        },
        {
          "data": {
            "text/html": [
              "<div>\n",
              "<style scoped>\n",
              "    .dataframe tbody tr th:only-of-type {\n",
              "        vertical-align: middle;\n",
              "    }\n",
              "\n",
              "    .dataframe tbody tr th {\n",
              "        vertical-align: top;\n",
              "    }\n",
              "\n",
              "    .dataframe thead th {\n",
              "        text-align: right;\n",
              "    }\n",
              "</style>\n",
              "<table border=\"1\" class=\"dataframe\">\n",
              "  <thead>\n",
              "    <tr style=\"text-align: right;\">\n",
              "      <th></th>\n",
              "      <th>Developer_Description_0</th>\n",
              "      <th>Developer_Description_1</th>\n",
              "      <th>Developer_Description_2</th>\n",
              "      <th>Employment_Status_0</th>\n",
              "      <th>Employment_Status_1</th>\n",
              "      <th>Employment_Status_2</th>\n",
              "      <th>Employment_Status_3</th>\n",
              "      <th>Remote_vs_Onsite_0</th>\n",
              "      <th>Remote_vs_Onsite_1</th>\n",
              "      <th>Remote_vs_Onsite_2</th>\n",
              "      <th>...</th>\n",
              "      <th>Country_5</th>\n",
              "      <th>Country_6</th>\n",
              "      <th>Country_7</th>\n",
              "      <th>LanguageHaveWorkedWith_0</th>\n",
              "      <th>LanguageHaveWorkedWith_1</th>\n",
              "      <th>LanguageHaveWorkedWith_2</th>\n",
              "      <th>LanguageHaveWorkedWith_3</th>\n",
              "      <th>LanguageHaveWorkedWith_4</th>\n",
              "      <th>LanguageHaveWorkedWith_5</th>\n",
              "      <th>Annual_Salary</th>\n",
              "    </tr>\n",
              "  </thead>\n",
              "  <tbody>\n",
              "    <tr>\n",
              "      <th>1</th>\n",
              "      <td>0</td>\n",
              "      <td>0</td>\n",
              "      <td>1</td>\n",
              "      <td>0</td>\n",
              "      <td>0</td>\n",
              "      <td>0</td>\n",
              "      <td>1</td>\n",
              "      <td>0</td>\n",
              "      <td>0</td>\n",
              "      <td>1</td>\n",
              "      <td>...</td>\n",
              "      <td>0</td>\n",
              "      <td>0</td>\n",
              "      <td>1</td>\n",
              "      <td>0</td>\n",
              "      <td>0</td>\n",
              "      <td>0</td>\n",
              "      <td>0</td>\n",
              "      <td>0</td>\n",
              "      <td>1</td>\n",
              "      <td>132000.0</td>\n",
              "    </tr>\n",
              "    <tr>\n",
              "      <th>2</th>\n",
              "      <td>0</td>\n",
              "      <td>1</td>\n",
              "      <td>0</td>\n",
              "      <td>0</td>\n",
              "      <td>0</td>\n",
              "      <td>0</td>\n",
              "      <td>1</td>\n",
              "      <td>0</td>\n",
              "      <td>1</td>\n",
              "      <td>0</td>\n",
              "      <td>...</td>\n",
              "      <td>0</td>\n",
              "      <td>1</td>\n",
              "      <td>0</td>\n",
              "      <td>0</td>\n",
              "      <td>0</td>\n",
              "      <td>0</td>\n",
              "      <td>0</td>\n",
              "      <td>1</td>\n",
              "      <td>0</td>\n",
              "      <td>40205.0</td>\n",
              "    </tr>\n",
              "    <tr>\n",
              "      <th>3</th>\n",
              "      <td>0</td>\n",
              "      <td>0</td>\n",
              "      <td>1</td>\n",
              "      <td>0</td>\n",
              "      <td>0</td>\n",
              "      <td>0</td>\n",
              "      <td>1</td>\n",
              "      <td>0</td>\n",
              "      <td>0</td>\n",
              "      <td>1</td>\n",
              "      <td>...</td>\n",
              "      <td>0</td>\n",
              "      <td>1</td>\n",
              "      <td>1</td>\n",
              "      <td>0</td>\n",
              "      <td>0</td>\n",
              "      <td>0</td>\n",
              "      <td>0</td>\n",
              "      <td>1</td>\n",
              "      <td>0</td>\n",
              "      <td>215232.0</td>\n",
              "    </tr>\n",
              "    <tr>\n",
              "      <th>4</th>\n",
              "      <td>0</td>\n",
              "      <td>0</td>\n",
              "      <td>1</td>\n",
              "      <td>0</td>\n",
              "      <td>0</td>\n",
              "      <td>0</td>\n",
              "      <td>1</td>\n",
              "      <td>0</td>\n",
              "      <td>1</td>\n",
              "      <td>0</td>\n",
              "      <td>...</td>\n",
              "      <td>1</td>\n",
              "      <td>0</td>\n",
              "      <td>0</td>\n",
              "      <td>0</td>\n",
              "      <td>0</td>\n",
              "      <td>0</td>\n",
              "      <td>0</td>\n",
              "      <td>1</td>\n",
              "      <td>0</td>\n",
              "      <td>132000.0</td>\n",
              "    </tr>\n",
              "    <tr>\n",
              "      <th>5</th>\n",
              "      <td>0</td>\n",
              "      <td>1</td>\n",
              "      <td>0</td>\n",
              "      <td>0</td>\n",
              "      <td>0</td>\n",
              "      <td>1</td>\n",
              "      <td>0</td>\n",
              "      <td>0</td>\n",
              "      <td>1</td>\n",
              "      <td>1</td>\n",
              "      <td>...</td>\n",
              "      <td>1</td>\n",
              "      <td>0</td>\n",
              "      <td>1</td>\n",
              "      <td>0</td>\n",
              "      <td>0</td>\n",
              "      <td>0</td>\n",
              "      <td>0</td>\n",
              "      <td>1</td>\n",
              "      <td>1</td>\n",
              "      <td>0.0</td>\n",
              "    </tr>\n",
              "  </tbody>\n",
              "</table>\n",
              "<p>5 rows × 37 columns</p>\n",
              "</div>"
            ],
            "text/plain": [
              "   Developer_Description_0  Developer_Description_1  Developer_Description_2  \\\n",
              "1                        0                        0                        1   \n",
              "2                        0                        1                        0   \n",
              "3                        0                        0                        1   \n",
              "4                        0                        0                        1   \n",
              "5                        0                        1                        0   \n",
              "\n",
              "   Employment_Status_0  Employment_Status_1  Employment_Status_2  \\\n",
              "1                    0                    0                    0   \n",
              "2                    0                    0                    0   \n",
              "3                    0                    0                    0   \n",
              "4                    0                    0                    0   \n",
              "5                    0                    0                    1   \n",
              "\n",
              "   Employment_Status_3  Remote_vs_Onsite_0  Remote_vs_Onsite_1  \\\n",
              "1                    1                   0                   0   \n",
              "2                    1                   0                   1   \n",
              "3                    1                   0                   0   \n",
              "4                    1                   0                   1   \n",
              "5                    0                   0                   1   \n",
              "\n",
              "   Remote_vs_Onsite_2  ...  Country_5  Country_6  Country_7  \\\n",
              "1                   1  ...          0          0          1   \n",
              "2                   0  ...          0          1          0   \n",
              "3                   1  ...          0          1          1   \n",
              "4                   0  ...          1          0          0   \n",
              "5                   1  ...          1          0          1   \n",
              "\n",
              "   LanguageHaveWorkedWith_0  LanguageHaveWorkedWith_1  \\\n",
              "1                         0                         0   \n",
              "2                         0                         0   \n",
              "3                         0                         0   \n",
              "4                         0                         0   \n",
              "5                         0                         0   \n",
              "\n",
              "   LanguageHaveWorkedWith_2  LanguageHaveWorkedWith_3  \\\n",
              "1                         0                         0   \n",
              "2                         0                         0   \n",
              "3                         0                         0   \n",
              "4                         0                         0   \n",
              "5                         0                         0   \n",
              "\n",
              "   LanguageHaveWorkedWith_4  LanguageHaveWorkedWith_5  Annual_Salary  \n",
              "1                         0                         1       132000.0  \n",
              "2                         1                         0        40205.0  \n",
              "3                         1                         0       215232.0  \n",
              "4                         1                         0       132000.0  \n",
              "5                         1                         1            0.0  \n",
              "\n",
              "[5 rows x 37 columns]"
            ]
          },
          "execution_count": 474,
          "metadata": {},
          "output_type": "execute_result"
        }
      ],
      "source": [
        "# drop deleted columns\n",
        "df_encod = dropping_columns(df_encod, deletedf)\n",
        "\n",
        "# confirm no categorical variables\n",
        "print(df_encod.select_dtypes(include='object').columns)\n",
        "df_encod.head()"
      ]
    },
    {
      "cell_type": "code",
      "execution_count": 475,
      "id": "3c8662eb",
      "metadata": {
        "colab": {
          "base_uri": "https://localhost:8080/",
          "height": 1000
        },
        "id": "3c8662eb",
        "outputId": "d445b4fe-ff16-4be8-a479-65e01452283e"
      },
      "outputs": [
        {
          "data": {
            "text/html": [
              "<div>\n",
              "<style scoped>\n",
              "    .dataframe tbody tr th:only-of-type {\n",
              "        vertical-align: middle;\n",
              "    }\n",
              "\n",
              "    .dataframe tbody tr th {\n",
              "        vertical-align: top;\n",
              "    }\n",
              "\n",
              "    .dataframe thead th {\n",
              "        text-align: right;\n",
              "    }\n",
              "</style>\n",
              "<table border=\"1\" class=\"dataframe\">\n",
              "  <thead>\n",
              "    <tr style=\"text-align: right;\">\n",
              "      <th></th>\n",
              "      <th>Annual_Salary</th>\n",
              "    </tr>\n",
              "  </thead>\n",
              "  <tbody>\n",
              "    <tr>\n",
              "      <th>Annual_Salary</th>\n",
              "      <td>1.000000</td>\n",
              "    </tr>\n",
              "    <tr>\n",
              "      <th>Employment_Status_2</th>\n",
              "      <td>0.085418</td>\n",
              "    </tr>\n",
              "    <tr>\n",
              "      <th>Employment_Status_3</th>\n",
              "      <td>0.082461</td>\n",
              "    </tr>\n",
              "    <tr>\n",
              "      <th>PurchaseInfluence</th>\n",
              "      <td>0.079196</td>\n",
              "    </tr>\n",
              "    <tr>\n",
              "      <th>Country_6</th>\n",
              "      <td>0.073179</td>\n",
              "    </tr>\n",
              "    <tr>\n",
              "      <th>Country_4</th>\n",
              "      <td>0.057481</td>\n",
              "    </tr>\n",
              "    <tr>\n",
              "      <th>Pro_Experience</th>\n",
              "      <td>0.056638</td>\n",
              "    </tr>\n",
              "    <tr>\n",
              "      <th>Developer_Description_0</th>\n",
              "      <td>0.053920</td>\n",
              "    </tr>\n",
              "    <tr>\n",
              "      <th>Country_3</th>\n",
              "      <td>0.049779</td>\n",
              "    </tr>\n",
              "    <tr>\n",
              "      <th>Remote_vs_Onsite_1</th>\n",
              "      <td>0.045902</td>\n",
              "    </tr>\n",
              "    <tr>\n",
              "      <th>Country_2</th>\n",
              "      <td>0.044093</td>\n",
              "    </tr>\n",
              "    <tr>\n",
              "      <th>Country_5</th>\n",
              "      <td>0.041225</td>\n",
              "    </tr>\n",
              "    <tr>\n",
              "      <th>Country_1</th>\n",
              "      <td>0.040451</td>\n",
              "    </tr>\n",
              "    <tr>\n",
              "      <th>Country_7</th>\n",
              "      <td>0.040398</td>\n",
              "    </tr>\n",
              "    <tr>\n",
              "      <th>DevType_3</th>\n",
              "      <td>0.034721</td>\n",
              "    </tr>\n",
              "    <tr>\n",
              "      <th>Developer_Description_2</th>\n",
              "      <td>0.033317</td>\n",
              "    </tr>\n",
              "    <tr>\n",
              "      <th>LanguageHaveWorkedWith_2</th>\n",
              "      <td>0.029048</td>\n",
              "    </tr>\n",
              "    <tr>\n",
              "      <th>Developer_Description_1</th>\n",
              "      <td>0.024996</td>\n",
              "    </tr>\n",
              "    <tr>\n",
              "      <th>DevType_2</th>\n",
              "      <td>0.023806</td>\n",
              "    </tr>\n",
              "    <tr>\n",
              "      <th>LanguageHaveWorkedWith_5</th>\n",
              "      <td>0.022937</td>\n",
              "    </tr>\n",
              "    <tr>\n",
              "      <th>Employment_Status_1</th>\n",
              "      <td>0.019529</td>\n",
              "    </tr>\n",
              "    <tr>\n",
              "      <th>DevType_4</th>\n",
              "      <td>0.016676</td>\n",
              "    </tr>\n",
              "    <tr>\n",
              "      <th>Code_Certifications_2</th>\n",
              "      <td>0.016489</td>\n",
              "    </tr>\n",
              "    <tr>\n",
              "      <th>Remote_vs_Onsite_0</th>\n",
              "      <td>0.016015</td>\n",
              "    </tr>\n",
              "    <tr>\n",
              "      <th>Code_Certifications_3</th>\n",
              "      <td>0.013653</td>\n",
              "    </tr>\n",
              "    <tr>\n",
              "      <th>Education_Level</th>\n",
              "      <td>0.012217</td>\n",
              "    </tr>\n",
              "    <tr>\n",
              "      <th>DevType_1</th>\n",
              "      <td>0.011521</td>\n",
              "    </tr>\n",
              "    <tr>\n",
              "      <th>Country_0</th>\n",
              "      <td>0.011448</td>\n",
              "    </tr>\n",
              "    <tr>\n",
              "      <th>LanguageHaveWorkedWith_3</th>\n",
              "      <td>0.011437</td>\n",
              "    </tr>\n",
              "    <tr>\n",
              "      <th>LanguageHaveWorkedWith_1</th>\n",
              "      <td>0.010898</td>\n",
              "    </tr>\n",
              "    <tr>\n",
              "      <th>Employment_Status_0</th>\n",
              "      <td>0.010674</td>\n",
              "    </tr>\n",
              "    <tr>\n",
              "      <th>Code_Certifications_0</th>\n",
              "      <td>0.010357</td>\n",
              "    </tr>\n",
              "    <tr>\n",
              "      <th>DevType_0</th>\n",
              "      <td>0.008338</td>\n",
              "    </tr>\n",
              "    <tr>\n",
              "      <th>Code_Certifications_1</th>\n",
              "      <td>0.007347</td>\n",
              "    </tr>\n",
              "    <tr>\n",
              "      <th>Remote_vs_Onsite_2</th>\n",
              "      <td>0.006743</td>\n",
              "    </tr>\n",
              "    <tr>\n",
              "      <th>LanguageHaveWorkedWith_4</th>\n",
              "      <td>0.006460</td>\n",
              "    </tr>\n",
              "    <tr>\n",
              "      <th>LanguageHaveWorkedWith_0</th>\n",
              "      <td>0.000201</td>\n",
              "    </tr>\n",
              "  </tbody>\n",
              "</table>\n",
              "</div>"
            ],
            "text/plain": [
              "                          Annual_Salary\n",
              "Annual_Salary                  1.000000\n",
              "Employment_Status_2            0.085418\n",
              "Employment_Status_3            0.082461\n",
              "PurchaseInfluence              0.079196\n",
              "Country_6                      0.073179\n",
              "Country_4                      0.057481\n",
              "Pro_Experience                 0.056638\n",
              "Developer_Description_0        0.053920\n",
              "Country_3                      0.049779\n",
              "Remote_vs_Onsite_1             0.045902\n",
              "Country_2                      0.044093\n",
              "Country_5                      0.041225\n",
              "Country_1                      0.040451\n",
              "Country_7                      0.040398\n",
              "DevType_3                      0.034721\n",
              "Developer_Description_2        0.033317\n",
              "LanguageHaveWorkedWith_2       0.029048\n",
              "Developer_Description_1        0.024996\n",
              "DevType_2                      0.023806\n",
              "LanguageHaveWorkedWith_5       0.022937\n",
              "Employment_Status_1            0.019529\n",
              "DevType_4                      0.016676\n",
              "Code_Certifications_2          0.016489\n",
              "Remote_vs_Onsite_0             0.016015\n",
              "Code_Certifications_3          0.013653\n",
              "Education_Level                0.012217\n",
              "DevType_1                      0.011521\n",
              "Country_0                      0.011448\n",
              "LanguageHaveWorkedWith_3       0.011437\n",
              "LanguageHaveWorkedWith_1       0.010898\n",
              "Employment_Status_0            0.010674\n",
              "Code_Certifications_0          0.010357\n",
              "DevType_0                      0.008338\n",
              "Code_Certifications_1          0.007347\n",
              "Remote_vs_Onsite_2             0.006743\n",
              "LanguageHaveWorkedWith_4       0.006460\n",
              "LanguageHaveWorkedWith_0       0.000201"
            ]
          },
          "execution_count": 475,
          "metadata": {},
          "output_type": "execute_result"
        }
      ],
      "source": [
        "corr = pd.DataFrame(abs(df_encod.corr()['Annual_Salary']).sort_values(ascending=False))\n",
        "corr"
      ]
    },
    {
      "cell_type": "markdown",
      "id": "f2614e90",
      "metadata": {
        "id": "f2614e90"
      },
      "source": [
        "After reviewing the correlation of the variables, we narrowed down on the variables below by looking at the top correlations to `Annual_Salary`. We also used domain knowledge to include some columns like `Education_Level` and `Code_Certifications`."
      ]
    },
    {
      "cell_type": "code",
      "execution_count": 476,
      "id": "0a8e71b0",
      "metadata": {
        "id": "0a8e71b0"
      },
      "outputs": [],
      "source": [
        "selectfeature = ['Code_Certifications', 'Education_Level', 'Employment_Status', 'PurchaseInfluence', 'OrgSize',\n",
        "                 'Coding_Experience', 'Country', 'Pro_Experience', 'Developer_Description', 'Outofwork_Coding',\n",
        "                 'Remote_vs_Onsite', 'PlatformHaveWorkedWith', 'OpSysProfessional_use', 'DevType', 'LanguageHaveWorkedWith',\n",
        "                 'ToolsTechHaveWorkedWith']"
      ]
    },
    {
      "cell_type": "code",
      "execution_count": 477,
      "id": "fafbf83c",
      "metadata": {
        "id": "fafbf83c"
      },
      "outputs": [],
      "source": [
        "ordinalf = ['OrgSize', 'PurchaseInfluence', 'Education_Level']"
      ]
    },
    {
      "cell_type": "code",
      "execution_count": 478,
      "id": "54094d45",
      "metadata": {
        "id": "54094d45"
      },
      "outputs": [],
      "source": [
        "binaryf = ['Code_Certifications', 'Employment_Status', 'Country', 'Developer_Description', 'Outofwork_Coding',\n",
        "           'Remote_vs_Onsite', 'PlatformHaveWorkedWith', 'OpSysProfessional_use', 'DevType', 'LanguageHaveWorkedWith',\n",
        "           'ToolsTechHaveWorkedWith']"
      ]
    },
    {
      "cell_type": "code",
      "execution_count": 479,
      "id": "2fa1c045",
      "metadata": {
        "id": "2fa1c045"
      },
      "outputs": [],
      "source": [
        "numericf = ['Coding_Experience', 'Pro_Experience']"
      ]
    },
    {
      "cell_type": "code",
      "execution_count": 480,
      "id": "12730643",
      "metadata": {
        "colab": {
          "base_uri": "https://localhost:8080/"
        },
        "id": "12730643",
        "outputId": "2760a036-c143-470a-b50c-dc99834ebe53"
      },
      "outputs": [
        {
          "name": "stdout",
          "output_type": "stream",
          "text": [
            "data types for cols to ordinal encode\n",
            "_______________________________________\n",
            "\n",
            "OrgSize              object\n",
            "PurchaseInfluence    object\n",
            "Education_Level      object\n",
            "dtype: object\n",
            "\n",
            "data types for cols to binary encode\n",
            "_______________________________________\n",
            "\n",
            "Code_Certifications        object\n",
            "Employment_Status          object\n",
            "Country                    object\n",
            "Developer_Description      object\n",
            "Outofwork_Coding           object\n",
            "Remote_vs_Onsite           object\n",
            "PlatformHaveWorkedWith     object\n",
            "OpSysProfessional_use      object\n",
            "DevType                    object\n",
            "LanguageHaveWorkedWith     object\n",
            "ToolsTechHaveWorkedWith    object\n",
            "dtype: object\n",
            "\n",
            "data types for remaining cols\n",
            "_______________________________________\n",
            "\n",
            "Coding_Experience    float64\n",
            "Pro_Experience       float64\n",
            "dtype: object\n"
          ]
        }
      ],
      "source": [
        "print('data types for cols to ordinal encode')\n",
        "print('_______________________________________\\n')\n",
        "print(df[ordinalf].dtypes)\n",
        "print('\\ndata types for cols to binary encode')\n",
        "print('_______________________________________\\n')\n",
        "print(df[binaryf].dtypes)\n",
        "print('\\ndata types for remaining cols')\n",
        "print('_______________________________________\\n')\n",
        "print(df[numericf].dtypes)\n"
      ]
    },
    {
      "cell_type": "code",
      "execution_count": 481,
      "id": "1e7509b7",
      "metadata": {
        "colab": {
          "base_uri": "https://localhost:8080/"
        },
        "id": "1e7509b7",
        "outputId": "3f0c5226-8aa6-42dc-f9c2-349fa0f28b4a"
      },
      "outputs": [
        {
          "name": "stdout",
          "output_type": "stream",
          "text": [
            "16 = 16\n"
          ]
        }
      ],
      "source": [
        "print(len(ordinalf)+len(binaryf)++len(numericf), '=', len(selectfeature))"
      ]
    },
    {
      "cell_type": "markdown",
      "id": "589d56e8",
      "metadata": {
        "id": "589d56e8"
      },
      "source": [
        "#### Final List of Selected Features"
      ]
    },
    {
      "cell_type": "code",
      "execution_count": 482,
      "id": "51a40dd3",
      "metadata": {
        "id": "51a40dd3"
      },
      "outputs": [],
      "source": [
        "finalf = ['Code_Certifications', 'Education_Level', 'Employment_Status', 'PurchaseInfluence', 'Country', 'Pro_Experience',\n",
        "'Remote_vs_Onsite', 'DevType', 'LanguageHaveWorkedWith', 'Developer_Description']\n",
        "\n",
        "finalbi = ['Code_Certifications', 'Employment_Status', 'Country', 'Remote_vs_Onsite', 'DevType', 'LanguageHaveWorkedWith',\n",
        "           'Developer_Description']\n",
        "finalord = ['PurchaseInfluence', 'Education_Level']\n",
        "finalnum = ['Pro_Experience']"
      ]
    },
    {
      "cell_type": "code",
      "execution_count": 483,
      "id": "93da9696",
      "metadata": {
        "colab": {
          "base_uri": "https://localhost:8080/"
        },
        "id": "93da9696",
        "outputId": "5c4f7d44-5991-4d73-a7e7-9d2f8c32fa76"
      },
      "outputs": [
        {
          "name": "stdout",
          "output_type": "stream",
          "text": [
            "10 = 10\n"
          ]
        }
      ],
      "source": [
        "print(len(finalf), '=', len(finalbi)+len(finalord)+len(finalnum))"
      ]
    },
    {
      "cell_type": "code",
      "execution_count": 484,
      "id": "a69b238f",
      "metadata": {
        "id": "a69b238f"
      },
      "outputs": [],
      "source": [
        "#pyr = pd.read_csv(r'C:\\Users\\ADMIN\\OneDrive - Kantar\\XXXXXXXX\\POV1\\Data Science\\Moringa\\data\\survey_results_public_2021.csv')"
      ]
    },
    {
      "cell_type": "code",
      "execution_count": 485,
      "id": "d4a5d833",
      "metadata": {
        "id": "d4a5d833"
      },
      "outputs": [],
      "source": [
        "# Create the 'continents' column by mapping the 'countries' column to the continents dictionary\n",
        "#pyr['continents'] = pyr['Country'].map({country: continent for continent, countries in continents.items()\n",
        "#                                        for country in countries})"
      ]
    },
    {
      "cell_type": "code",
      "execution_count": 486,
      "id": "ffb2ee21",
      "metadata": {
        "id": "ffb2ee21"
      },
      "outputs": [],
      "source": [
        "# misplaced. plug into the data merging section\n",
        "# go back last 5 years and extract africa data\n",
        "#pyr.continents.value_counts()"
      ]
    },
    {
      "cell_type": "code",
      "execution_count": 487,
      "id": "1bcc3f24",
      "metadata": {
        "id": "1bcc3f24"
      },
      "outputs": [],
      "source": [
        "# misplaced. plug into the data merging section\n",
        "# go back last 5 years and extract africa data\n",
        "#pyr.groupby('continents').ConvertedCompYearly.count()"
      ]
    },
    {
      "cell_type": "code",
      "execution_count": 488,
      "id": "44ebfe25",
      "metadata": {
        "id": "44ebfe25"
      },
      "outputs": [],
      "source": [
        "# to merge all Africa data from the 5 previous countries\n",
        "# to our 2022 dataframe"
      ]
    },
    {
      "cell_type": "markdown",
      "id": "8b213684",
      "metadata": {
        "id": "8b213684"
      },
      "source": [
        "#### Encode Categorical Variables of Final Features"
      ]
    },
    {
      "cell_type": "code",
      "execution_count": 489,
      "id": "d2173f7d",
      "metadata": {
        "colab": {
          "base_uri": "https://localhost:8080/",
          "height": 205
        },
        "id": "d2173f7d",
        "outputId": "5204d2f6-2e80-4622-cb8c-654551198291"
      },
      "outputs": [
        {
          "data": {
            "text/html": [
              "<div>\n",
              "<style scoped>\n",
              "    .dataframe tbody tr th:only-of-type {\n",
              "        vertical-align: middle;\n",
              "    }\n",
              "\n",
              "    .dataframe tbody tr th {\n",
              "        vertical-align: top;\n",
              "    }\n",
              "\n",
              "    .dataframe thead th {\n",
              "        text-align: right;\n",
              "    }\n",
              "</style>\n",
              "<table border=\"1\" class=\"dataframe\">\n",
              "  <thead>\n",
              "    <tr style=\"text-align: right;\">\n",
              "      <th></th>\n",
              "      <th>Developer_Description_0</th>\n",
              "      <th>Developer_Description_1</th>\n",
              "      <th>Developer_Description_2</th>\n",
              "      <th>Employment_Status_0</th>\n",
              "      <th>Employment_Status_1</th>\n",
              "      <th>Employment_Status_2</th>\n",
              "      <th>Employment_Status_3</th>\n",
              "      <th>Remote_vs_Onsite_0</th>\n",
              "      <th>Remote_vs_Onsite_1</th>\n",
              "      <th>Remote_vs_Onsite_2</th>\n",
              "      <th>...</th>\n",
              "      <th>Country_5</th>\n",
              "      <th>Country_6</th>\n",
              "      <th>Country_7</th>\n",
              "      <th>LanguageHaveWorkedWith_0</th>\n",
              "      <th>LanguageHaveWorkedWith_1</th>\n",
              "      <th>LanguageHaveWorkedWith_2</th>\n",
              "      <th>LanguageHaveWorkedWith_3</th>\n",
              "      <th>LanguageHaveWorkedWith_4</th>\n",
              "      <th>LanguageHaveWorkedWith_5</th>\n",
              "      <th>Annual_Salary</th>\n",
              "    </tr>\n",
              "  </thead>\n",
              "  <tbody>\n",
              "    <tr>\n",
              "      <th>1</th>\n",
              "      <td>0</td>\n",
              "      <td>0</td>\n",
              "      <td>1</td>\n",
              "      <td>0</td>\n",
              "      <td>0</td>\n",
              "      <td>0</td>\n",
              "      <td>1</td>\n",
              "      <td>0</td>\n",
              "      <td>0</td>\n",
              "      <td>1</td>\n",
              "      <td>...</td>\n",
              "      <td>0</td>\n",
              "      <td>0</td>\n",
              "      <td>1</td>\n",
              "      <td>0</td>\n",
              "      <td>0</td>\n",
              "      <td>0</td>\n",
              "      <td>0</td>\n",
              "      <td>0</td>\n",
              "      <td>1</td>\n",
              "      <td>132000.0</td>\n",
              "    </tr>\n",
              "    <tr>\n",
              "      <th>2</th>\n",
              "      <td>0</td>\n",
              "      <td>1</td>\n",
              "      <td>0</td>\n",
              "      <td>0</td>\n",
              "      <td>0</td>\n",
              "      <td>0</td>\n",
              "      <td>1</td>\n",
              "      <td>0</td>\n",
              "      <td>1</td>\n",
              "      <td>0</td>\n",
              "      <td>...</td>\n",
              "      <td>0</td>\n",
              "      <td>1</td>\n",
              "      <td>0</td>\n",
              "      <td>0</td>\n",
              "      <td>0</td>\n",
              "      <td>0</td>\n",
              "      <td>0</td>\n",
              "      <td>1</td>\n",
              "      <td>0</td>\n",
              "      <td>40205.0</td>\n",
              "    </tr>\n",
              "  </tbody>\n",
              "</table>\n",
              "<p>2 rows × 37 columns</p>\n",
              "</div>"
            ],
            "text/plain": [
              "   Developer_Description_0  Developer_Description_1  Developer_Description_2  \\\n",
              "1                        0                        0                        1   \n",
              "2                        0                        1                        0   \n",
              "\n",
              "   Employment_Status_0  Employment_Status_1  Employment_Status_2  \\\n",
              "1                    0                    0                    0   \n",
              "2                    0                    0                    0   \n",
              "\n",
              "   Employment_Status_3  Remote_vs_Onsite_0  Remote_vs_Onsite_1  \\\n",
              "1                    1                   0                   0   \n",
              "2                    1                   0                   1   \n",
              "\n",
              "   Remote_vs_Onsite_2  ...  Country_5  Country_6  Country_7  \\\n",
              "1                   1  ...          0          0          1   \n",
              "2                   0  ...          0          1          0   \n",
              "\n",
              "   LanguageHaveWorkedWith_0  LanguageHaveWorkedWith_1  \\\n",
              "1                         0                         0   \n",
              "2                         0                         0   \n",
              "\n",
              "   LanguageHaveWorkedWith_2  LanguageHaveWorkedWith_3  \\\n",
              "1                         0                         0   \n",
              "2                         0                         0   \n",
              "\n",
              "   LanguageHaveWorkedWith_4  LanguageHaveWorkedWith_5  Annual_Salary  \n",
              "1                         0                         1       132000.0  \n",
              "2                         1                         0        40205.0  \n",
              "\n",
              "[2 rows x 37 columns]"
            ]
          },
          "execution_count": 489,
          "metadata": {},
          "output_type": "execute_result"
        }
      ],
      "source": [
        "df = dropping_columns(df, deletedf)\n",
        "binary_df = perform_binary_encoding(df, finalbi)\n",
        "ordinal_df = perform_ordinal_encoding(binary_df, finalord)\n",
        "ordinal_df.head(2)"
      ]
    },
    {
      "cell_type": "markdown",
      "id": "7c243b8c",
      "metadata": {
        "id": "7c243b8c"
      },
      "source": [
        "### Modeling\n",
        "Our objective is to be able to make developer salary predictions based on chosen features from our dataset. This task is to be achieved by evalauting different algorithmns and checking to see whether they meet our evaluation metrics.\n",
        "\n",
        "We will be evaluating the following algorithmns :\n",
        "\n",
        "- Multiple Linear Regression\n",
        "- Decision Tree Regressor\n",
        "- Random Forest Regressor\n",
        "- AdaBoostRegressor\n",
        "\n",
        "#### Baseline Model"
      ]
    },
    {
      "cell_type": "code",
      "execution_count": 490,
      "id": "4d962ec0",
      "metadata": {
        "id": "4d962ec0"
      },
      "outputs": [],
      "source": [
        "# split the data to train & test\n",
        "\n",
        "X = ordinal_df.drop('Annual_Salary', axis=1)\n",
        "y = ordinal_df['Annual_Salary']\n",
        "\n",
        "X_train, X_test, y_train, y_test = train_test_split(X, y, test_size = 0.2, random_state = 42)"
      ]
    },
    {
      "cell_type": "markdown",
      "id": "bb4e81f9",
      "metadata": {
        "id": "bb4e81f9"
      },
      "source": [
        "#### Multiple Linear Regression\n",
        "Regression models describe the relationship between variables by fitting a line to the observed data. Regression allows you to estimate how a dependent variable changes as the independent variables change. Multiple linear regression models allow us to add an indefinate number of variables"
      ]
    },
    {
      "cell_type": "code",
      "execution_count": 491,
      "id": "a88004b3",
      "metadata": {
        "id": "a88004b3"
      },
      "outputs": [],
      "source": [
        "# create a pipeline\n",
        "\n",
        "pipe_1 = Pipeline([('lr', LinearRegression())])\n",
        "\n",
        "# fit the training data\n",
        "\n",
        "pipe_1.fit(X_train, y_train)\n",
        "\n",
        "#predict on test data\n",
        "\n",
        "y_pred_1 = pipe_1.predict(X_test)"
      ]
    },
    {
      "cell_type": "code",
      "execution_count": 492,
      "id": "557438d9",
      "metadata": {
        "colab": {
          "base_uri": "https://localhost:8080/"
        },
        "id": "557438d9",
        "outputId": "8f043b3e-1ee7-41aa-9865-83ffec3bb156"
      },
      "outputs": [
        {
          "name": "stdout",
          "output_type": "stream",
          "text": [
            "The model has a 548576.64 chance of making an error\n",
            "The model has a Mean Absolute Error of 300936326526.76\n",
            "The proportion of variance explained by our model is 0.02\n"
          ]
        }
      ],
      "source": [
        "# function to print model metrics\n",
        "def print_metrics(labels, preds):\n",
        "    RMSE = round(mean_squared_error(labels, preds, squared = False ), 2)\n",
        "    print(f\"The model has a {RMSE} chance of making an error\")\n",
        "    MAE = round(mean_squared_error(labels, preds), 2)\n",
        "    print(f\"The model has a Mean Absolute Error of {MAE}\")\n",
        "    R_squared = round(r2_score(labels, preds), 2)\n",
        "    print(f\"The proportion of variance explained by our model is {R_squared}\")\n",
        "\n",
        "print_metrics(y_test,y_pred_1)"
      ]
    },
    {
      "cell_type": "markdown",
      "id": "0e6140a7",
      "metadata": {
        "id": "0e6140a7"
      },
      "source": [
        "### Decision Tree Regressor\n",
        "This is a non-parametric supervised learning method used for regression, the goal is to create a model that predicts the value of a target variable by learning simple decison rules inferred from the data features"
      ]
    },
    {
      "cell_type": "code",
      "execution_count": 493,
      "id": "03689282",
      "metadata": {
        "id": "03689282"
      },
      "outputs": [],
      "source": [
        "# create a pipeline\n",
        "\n",
        "pipe_2 = Pipeline([('mms', MinMaxScaler()),\n",
        "                   ('tree', DecisionTreeRegressor(random_state=42))])\n",
        "\n",
        "# fit the training data\n",
        "\n",
        "pipe_2.fit(X_train, y_train)\n",
        "\n",
        "# prediction on test data\n",
        "\n",
        "y_pred_2 = pipe_2.predict(X_test)"
      ]
    },
    {
      "cell_type": "markdown",
      "id": "95ef5269",
      "metadata": {
        "id": "95ef5269"
      },
      "source": [
        "Model Evaluation"
      ]
    },
    {
      "cell_type": "code",
      "execution_count": 494,
      "id": "0572665d",
      "metadata": {
        "colab": {
          "base_uri": "https://localhost:8080/"
        },
        "id": "0572665d",
        "outputId": "a34bfbf5-1408-4e45-d475-b46ef02c5daf"
      },
      "outputs": [
        {
          "name": "stdout",
          "output_type": "stream",
          "text": [
            "The model has a 780938.83 chance of making an error\n",
            "The model has a Mean Absolute Error of 609865461300.11\n",
            "The proportion of variance explained by our model is -0.98\n"
          ]
        }
      ],
      "source": [
        "print_metrics(y_test, y_pred_2)"
      ]
    },
    {
      "cell_type": "markdown",
      "id": "c35f87d4",
      "metadata": {
        "id": "c35f87d4"
      },
      "source": [
        "Note : for a least-squares regression model, R-squared can take a value between 0 and 1 where values closer to 0 represent a poor fit and values closed to 1 represent an (almost) perfect fit.\n",
        "\n",
        "An R-squared of 0 would mean that we are explaining 0% of the variation in y. This is especially likely to occur if your dataset is not actually suited to linear regression modelling.\n",
        "\n",
        "A negative R-squared would mean that your model is worse at explaining the variance than the baseline model. A negative R-squared with ordinary least squares linear regression means that something is wrong with the code, because a linear regression with an independent variable is built on top of an intercept-only model\n",
        "\n",
        "Note : if you are doing a predictive modelling, you are most interested in making predictions about unknown values of y, then a higher R-squared is very important\n",
        "\n",
        "Either way, R-squared provides important context for how you communicate about your model to others. If your model is only explaining a tiny amount of the variation in y , then there are potentially-important contributing factors that aren't included in your analysis.\n",
        "\n",
        "Be sure to communicate your findings and their limitations clearly !"
      ]
    },
    {
      "cell_type": "markdown",
      "id": "f4f003f8",
      "metadata": {
        "id": "f4f003f8"
      },
      "source": [
        "### Need to Change From Regression to Classification"
      ]
    },
    {
      "cell_type": "markdown",
      "id": "a031bda5",
      "metadata": {
        "id": "a031bda5"
      },
      "source": [
        "The target variable seems to not be **fitting well on the predictive algorithms** therefore we will change the problem statement **to a classifcation problem**, we do this by determing an ordinal range of salaries salaries within the industry this would allow developers know the range of money to earn dependng on certain variables, it will also address skills gap within a certain salary categories while also helping HR in decision making. The deployment would look like a developer stating the specific skills they have then an output of a range of salaries is given.\n",
        "\n",
        "For classification, we will try the models below:\n",
        "- Logistic Regression\n",
        "- K-Nearest Neighbors\n",
        "- Support Vector Classifier"
      ]
    },
    {
      "cell_type": "markdown",
      "id": "11a9ccb8",
      "metadata": {
        "id": "11a9ccb8"
      },
      "source": [
        "#### Further Exploration of `Annual_Salary` **SECTION TO BE MOVED TO DATA CLEARNING**\n",
        "On further investigation of target column, we realise that some respondents entered nonsensical values like USD 1 as their `Annual_Salary`. These need to be dealt with.\n",
        "\n",
        "We also realise theat the target variable is binomially distributed. Below we come up with afew categories that will help us to bin the salary values to specific categories"
      ]
    },
    {
      "cell_type": "code",
      "execution_count": 495,
      "id": "cdeb4daf",
      "metadata": {
        "colab": {
          "base_uri": "https://localhost:8080/",
          "height": 113
        },
        "id": "cdeb4daf",
        "outputId": "eec1d268-4707-4a1d-96d6-38182449aed0"
      },
      "outputs": [
        {
          "data": {
            "text/html": [
              "<div>\n",
              "<style scoped>\n",
              "    .dataframe tbody tr th:only-of-type {\n",
              "        vertical-align: middle;\n",
              "    }\n",
              "\n",
              "    .dataframe tbody tr th {\n",
              "        vertical-align: top;\n",
              "    }\n",
              "\n",
              "    .dataframe thead th {\n",
              "        text-align: right;\n",
              "    }\n",
              "</style>\n",
              "<table border=\"1\" class=\"dataframe\">\n",
              "  <thead>\n",
              "    <tr style=\"text-align: right;\">\n",
              "      <th></th>\n",
              "      <th>Developer_Description</th>\n",
              "      <th>Employment_Status</th>\n",
              "      <th>Remote_vs_Onsite</th>\n",
              "      <th>Education_Level</th>\n",
              "      <th>Code_Certifications</th>\n",
              "      <th>Pro_Experience</th>\n",
              "      <th>DevType</th>\n",
              "      <th>PurchaseInfluence</th>\n",
              "      <th>Country</th>\n",
              "      <th>LanguageHaveWorkedWith</th>\n",
              "      <th>Annual_Salary</th>\n",
              "    </tr>\n",
              "  </thead>\n",
              "  <tbody>\n",
              "  </tbody>\n",
              "</table>\n",
              "</div>"
            ],
            "text/plain": [
              "Empty DataFrame\n",
              "Columns: [Developer_Description, Employment_Status, Remote_vs_Onsite, Education_Level, Code_Certifications, Pro_Experience, DevType, PurchaseInfluence, Country, LanguageHaveWorkedWith, Annual_Salary]\n",
              "Index: []"
            ]
          },
          "execution_count": 495,
          "metadata": {},
          "output_type": "execute_result"
        }
      ],
      "source": [
        "# check number of outliers, assuming 0 and > USD 5 million\n",
        "outliers[outliers['Annual_Salary']>5000000] .Annual_Salary.count()\n",
        "df[(df['Annual_Salary'] == 0) & (df['Annual_Salary'] > 5000000)]"
      ]
    },
    {
      "cell_type": "code",
      "execution_count": 496,
      "id": "d6790762",
      "metadata": {
        "colab": {
          "base_uri": "https://localhost:8080/",
          "height": 802
        },
        "id": "d6790762",
        "outputId": "a36f4810-c84f-455e-c4a8-3b41eb7e1fc2"
      },
      "outputs": [
        {
          "data": {
            "text/html": [
              "<div>\n",
              "<style scoped>\n",
              "    .dataframe tbody tr th:only-of-type {\n",
              "        vertical-align: middle;\n",
              "    }\n",
              "\n",
              "    .dataframe tbody tr th {\n",
              "        vertical-align: top;\n",
              "    }\n",
              "\n",
              "    .dataframe thead th {\n",
              "        text-align: right;\n",
              "    }\n",
              "</style>\n",
              "<table border=\"1\" class=\"dataframe\">\n",
              "  <thead>\n",
              "    <tr style=\"text-align: right;\">\n",
              "      <th></th>\n",
              "      <th>Annual_Salary</th>\n",
              "      <th>Employment_Status</th>\n",
              "      <th>Country</th>\n",
              "      <th>Pro_Experience</th>\n",
              "    </tr>\n",
              "  </thead>\n",
              "  <tbody>\n",
              "    <tr>\n",
              "      <th>39915</th>\n",
              "      <td>1.0</td>\n",
              "      <td>Employed, full-time</td>\n",
              "      <td>India</td>\n",
              "      <td>11.0</td>\n",
              "    </tr>\n",
              "    <tr>\n",
              "      <th>65742</th>\n",
              "      <td>1.0</td>\n",
              "      <td>Employed, full-time</td>\n",
              "      <td>India</td>\n",
              "      <td>2.0</td>\n",
              "    </tr>\n",
              "    <tr>\n",
              "      <th>19912</th>\n",
              "      <td>1.0</td>\n",
              "      <td>I prefer not to say</td>\n",
              "      <td>Belgium</td>\n",
              "      <td>50.0</td>\n",
              "    </tr>\n",
              "    <tr>\n",
              "      <th>64366</th>\n",
              "      <td>1.0</td>\n",
              "      <td>Employed, full-time</td>\n",
              "      <td>United States of America</td>\n",
              "      <td>0.5</td>\n",
              "    </tr>\n",
              "    <tr>\n",
              "      <th>52005</th>\n",
              "      <td>1.0</td>\n",
              "      <td>Employed, full-time</td>\n",
              "      <td>Viet Nam</td>\n",
              "      <td>5.0</td>\n",
              "    </tr>\n",
              "    <tr>\n",
              "      <th>...</th>\n",
              "      <td>...</td>\n",
              "      <td>...</td>\n",
              "      <td>...</td>\n",
              "      <td>...</td>\n",
              "    </tr>\n",
              "    <tr>\n",
              "      <th>38692</th>\n",
              "      <td>1443.0</td>\n",
              "      <td>Independent contractor, freelancer, or self-em...</td>\n",
              "      <td>Nigeria</td>\n",
              "      <td>8.0</td>\n",
              "    </tr>\n",
              "    <tr>\n",
              "      <th>32130</th>\n",
              "      <td>1452.0</td>\n",
              "      <td>Employed, full-time</td>\n",
              "      <td>Nepal</td>\n",
              "      <td>2.0</td>\n",
              "    </tr>\n",
              "    <tr>\n",
              "      <th>60714</th>\n",
              "      <td>1452.0</td>\n",
              "      <td>Employed, full-time</td>\n",
              "      <td>Argentina</td>\n",
              "      <td>19.0</td>\n",
              "    </tr>\n",
              "    <tr>\n",
              "      <th>62312</th>\n",
              "      <td>1452.0</td>\n",
              "      <td>Employed, full-time</td>\n",
              "      <td>Nepal</td>\n",
              "      <td>1.0</td>\n",
              "    </tr>\n",
              "    <tr>\n",
              "      <th>18225</th>\n",
              "      <td>1452.0</td>\n",
              "      <td>Employed, full-time</td>\n",
              "      <td>Russian Federation</td>\n",
              "      <td>13.0</td>\n",
              "    </tr>\n",
              "  </tbody>\n",
              "</table>\n",
              "<p>400 rows × 4 columns</p>\n",
              "</div>"
            ],
            "text/plain": [
              "       Annual_Salary                                  Employment_Status  \\\n",
              "39915            1.0                                Employed, full-time   \n",
              "65742            1.0                                Employed, full-time   \n",
              "19912            1.0                                I prefer not to say   \n",
              "64366            1.0                                Employed, full-time   \n",
              "52005            1.0                                Employed, full-time   \n",
              "...              ...                                                ...   \n",
              "38692         1443.0  Independent contractor, freelancer, or self-em...   \n",
              "32130         1452.0                                Employed, full-time   \n",
              "60714         1452.0                                Employed, full-time   \n",
              "62312         1452.0                                Employed, full-time   \n",
              "18225         1452.0                                Employed, full-time   \n",
              "\n",
              "                        Country  Pro_Experience  \n",
              "39915                     India            11.0  \n",
              "65742                     India             2.0  \n",
              "19912                   Belgium            50.0  \n",
              "64366  United States of America             0.5  \n",
              "52005                  Viet Nam             5.0  \n",
              "...                         ...             ...  \n",
              "38692                   Nigeria             8.0  \n",
              "32130                     Nepal             2.0  \n",
              "60714                 Argentina            19.0  \n",
              "62312                     Nepal             1.0  \n",
              "18225        Russian Federation            13.0  \n",
              "\n",
              "[400 rows x 4 columns]"
            ]
          },
          "execution_count": 496,
          "metadata": {},
          "output_type": "execute_result"
        }
      ],
      "source": [
        "# inspect salary values between USD 1 and USD 4999\n",
        "df[(df['Annual_Salary'] != 0) & (df['Annual_Salary'] <= 5000)][['Annual_Salary', 'Employment_Status', 'Country', 'Pro_Experience']].sort_values(\n",
        "    by='Annual_Salary').head(400)"
      ]
    },
    {
      "cell_type": "code",
      "execution_count": 497,
      "id": "f3b1a4fb",
      "metadata": {
        "colab": {
          "base_uri": "https://localhost:8080/",
          "height": 448
        },
        "id": "f3b1a4fb",
        "outputId": "aa07fb35-164d-4e58-a0b7-c0e5acf91962"
      },
      "outputs": [
        {
          "data": {
            "image/png": "[encoded data removed]",
            "text/plain": [
              "<Figure size 432x288 with 1 Axes>"
            ]
          },
          "metadata": {},
          "output_type": "display_data"
        }
      ],
      "source": [
        "# select and plot data with no outliers\n",
        "nooutliers_lowval = df[(df['Annual_Salary'] >= 5000) & (df['Annual_Salary'] <= 5000000)]\n",
        "plt.hist(nooutliers_lowval.Annual_Salary);\n",
        "#plt.xscale('log')\n",
        "plt.yscale('log');"
      ]
    },
    {
      "cell_type": "code",
      "execution_count": 498,
      "id": "d950d6e0",
      "metadata": {
        "colab": {
          "base_uri": "https://localhost:8080/"
        },
        "id": "d950d6e0",
        "outputId": "6e050c9f-512c-48df-9c0f-a0db17145734"
      },
      "outputs": [
        {
          "data": {
            "text/plain": [
              "50K-100K     19530\n",
              "Upto 5K      17146\n",
              "100K-200K    11744\n",
              "15K-30K       8356\n",
              "30K-50K       8071\n",
              "Over 200K     4077\n",
              "5K-15K        2787\n",
              "Name: year_salary, dtype: int64"
            ]
          },
          "execution_count": 498,
          "metadata": {},
          "output_type": "execute_result"
        }
      ],
      "source": [
        "# create a new col with salary values as categories\n",
        "# Define the bin ranges\n",
        "bins = [0, 5000, 15000, 25000, 50000, 100000, 200000, float('inf')]\n",
        "\n",
        "# Define the labels for each category\n",
        "labels = ['Upto 5K', '5K-15K', '15K-30K', '30K-50K', '50K-100K', '100K-200K', 'Over 200K']\n",
        "\n",
        "# Apply categorical encoding\n",
        "ordinal_df.loc[:, 'year_salary'] = pd.cut(ordinal_df['Annual_Salary'], bins=bins, labels=labels, right=False)\n",
        "ordinal_df.year_salary.value_counts()"
      ]
    },
    {
      "cell_type": "code",
      "execution_count": 499,
      "id": "5e218c0e",
      "metadata": {
        "id": "5e218c0e",
        "scrolled": true
      },
      "outputs": [],
      "source": [
        "# drop annual salary, pro_experience col after the category feature engineering\n",
        "ordinal_df = dropping_columns(ordinal_df, 'Annual_Salary')\n"
      ]
    },
    {
      "cell_type": "markdown",
      "id": "39231806",
      "metadata": {
        "id": "39231806"
      },
      "source": [
        "From the new target categries above, we realised there was a class imbalance on some of the salary ranges. Below we correct for this using SMOTE"
      ]
    },
    {
      "cell_type": "code",
      "execution_count": 500,
      "id": "0238b569",
      "metadata": {
        "id": "0238b569"
      },
      "outputs": [],
      "source": [
        "# address the class imbalance in the new salaries col\n",
        "from imblearn.over_sampling import SMOTE\n",
        "from sklearn.preprocessing import LabelEncoder\n",
        "\n",
        "X1, y1 = dropping_columns(ordinal_df, 'year_salary'), ordinal_df['year_salary']\n",
        "imb = SMOTE(random_state=1)\n",
        "X1res, y1res = imb.fit_resample(X1, y1)\n",
        "\n",
        "# label encode y1res\n",
        "le = LabelEncoder()\n",
        "y1res_en = le.fit_transform(y1res)"
      ]
    },
    {
      "cell_type": "code",
      "execution_count": 501,
      "id": "c2d792c2",
      "metadata": {
        "id": "c2d792c2"
      },
      "outputs": [],
      "source": [
        "X1res_train, X1res_test, y1res_train, y1res_test = train_test_split(X1res, y1res_en, test_size = 0.3, random_state = 1)"
      ]
    },
    {
      "cell_type": "markdown",
      "id": "e82eef9f",
      "metadata": {
        "id": "e82eef9f"
      },
      "source": [
        "#### Logistic Regression **James/Sharon"
      ]
    },
    {
      "cell_type": "code",
      "execution_count": 502,
      "id": "97df43d6",
      "metadata": {
        "id": "97df43d6"
      },
      "outputs": [],
      "source": [
        "\n",
        "# create a pipeline\n",
        "pipe_3 = Pipeline([('ss', StandardScaler()),\n",
        "                   ('logreg', LogisticRegression(fit_intercept=True, C=1e12, solver = 'liblinear', dual=False))])\n",
        "\n",
        "# fit the train data\n",
        "\n",
        "pipe_3.fit(X1res_train, y1res_train)\n",
        "\n",
        "# predict on test data\n",
        "\n",
        "y_trainpred_3 = pipe_3.predict(X1res_train)\n",
        "y_pred_3 = pipe_3.predict(X1res_test)"
      ]
    },
    {
      "cell_type": "code",
      "execution_count": 503,
      "id": "9e3d01b4",
      "metadata": {
        "colab": {
          "base_uri": "https://localhost:8080/"
        },
        "id": "9e3d01b4",
        "outputId": "40bef6f7-7a4d-4b09-c00f-3994469b76ee"
      },
      "outputs": [
        {
          "name": "stdout",
          "output_type": "stream",
          "text": [
            "training metrics\n",
            "__________________________________\n",
            "Precision Score: 0.5242543677668114\n",
            "Recall Score: 0.5263383387149022\n",
            "Accuracy Score: 0.5263383387149022\n",
            "F1 Score: 0.5228844632874552\n",
            "\n",
            "test metrics\n",
            "___________________________________\n",
            "Precision Score: 0.5222171519468237\n",
            "Recall Score: 0.5237119937580768\n",
            "Accuracy Score: 0.5237119937580768\n",
            "F1 Score: 0.5205914586724298\n"
          ]
        }
      ],
      "source": [
        "# function to print metrics\n",
        "def print_metrics(labels, preds):\n",
        "    print(\"Precision Score: {}\".format(precision_score(labels, preds, average='weighted', zero_division=1)))\n",
        "    print(\"Recall Score: {}\".format(recall_score(labels, preds, average='weighted')))\n",
        "    print(\"Accuracy Score: {}\".format(accuracy_score(labels, preds)))\n",
        "    print(\"F1 Score: {}\".format(f1_score(labels, preds, average='weighted')))\n",
        "\n",
        "    return None\n",
        "\n",
        "\n",
        "print('training metrics')\n",
        "print('__________________________________')\n",
        "print_metrics(y1res_train, y_trainpred_3)\n",
        "print('\\ntest metrics')\n",
        "print('___________________________________')\n",
        "print_metrics(y1res_test, y_pred_3)\n"
      ]
    },
    {
      "cell_type": "markdown",
      "id": "8a53ad34",
      "metadata": {
        "id": "8a53ad34"
      },
      "source": [
        "#### K-Nearest Neighbors **Rosemary**"
      ]
    },
    {
      "cell_type": "code",
      "execution_count": 519,
      "id": "71f34796",
      "metadata": {
        "colab": {
          "base_uri": "https://localhost:8080/"
        },
        "id": "71f34796",
        "outputId": "48427be1-cda3-4586-c39c-867505d7787f"
      },
      "outputs": [
        {
          "ename": "KeyboardInterrupt",
          "evalue": "",
          "output_type": "error",
          "traceback": [
            "\u001b[1;31m---------------------------------------------------------------------------\u001b[0m",
            "\u001b[1;31mKeyboardInterrupt\u001b[0m                         Traceback (most recent call last)",
            "\u001b[1;32m<ipython-input-519-73197331f878>\u001b[0m in \u001b[0;36m<module>\u001b[1;34m\u001b[0m\n\u001b[0;32m     10\u001b[0m \u001b[1;31m# predict on test data\u001b[0m\u001b[1;33m\u001b[0m\u001b[1;33m\u001b[0m\u001b[1;33m\u001b[0m\u001b[0m\n\u001b[0;32m     11\u001b[0m \u001b[1;33m\u001b[0m\u001b[0m\n\u001b[1;32m---> 12\u001b[1;33m \u001b[0my_pred_4\u001b[0m \u001b[1;33m=\u001b[0m \u001b[0mpipe_4\u001b[0m\u001b[1;33m.\u001b[0m\u001b[0mpredict\u001b[0m\u001b[1;33m(\u001b[0m\u001b[0mX1res_test\u001b[0m\u001b[1;33m)\u001b[0m\u001b[1;33m\u001b[0m\u001b[1;33m\u001b[0m\u001b[0m\n\u001b[0m\u001b[0;32m     13\u001b[0m \u001b[0my_trainpred_4\u001b[0m \u001b[1;33m=\u001b[0m \u001b[0mpipe_4\u001b[0m\u001b[1;33m.\u001b[0m\u001b[0mpredict\u001b[0m\u001b[1;33m(\u001b[0m\u001b[0mX1res_train\u001b[0m\u001b[1;33m)\u001b[0m\u001b[1;33m\u001b[0m\u001b[1;33m\u001b[0m\u001b[0m\n\u001b[0;32m     14\u001b[0m \u001b[1;33m\u001b[0m\u001b[0m\n",
            "\u001b[1;32mc:\\Users\\samue\\anaconda3\\envs\\learn-env\\lib\\site-packages\\sklearn\\utils\\metaestimators.py\u001b[0m in \u001b[0;36m<lambda>\u001b[1;34m(*args, **kwargs)\u001b[0m\n\u001b[0;32m    117\u001b[0m \u001b[1;33m\u001b[0m\u001b[0m\n\u001b[0;32m    118\u001b[0m         \u001b[1;31m# lambda, but not partial, allows help() to work with update_wrapper\u001b[0m\u001b[1;33m\u001b[0m\u001b[1;33m\u001b[0m\u001b[1;33m\u001b[0m\u001b[0m\n\u001b[1;32m--> 119\u001b[1;33m         \u001b[0mout\u001b[0m \u001b[1;33m=\u001b[0m \u001b[1;32mlambda\u001b[0m \u001b[1;33m*\u001b[0m\u001b[0margs\u001b[0m\u001b[1;33m,\u001b[0m \u001b[1;33m**\u001b[0m\u001b[0mkwargs\u001b[0m\u001b[1;33m:\u001b[0m \u001b[0mself\u001b[0m\u001b[1;33m.\u001b[0m\u001b[0mfn\u001b[0m\u001b[1;33m(\u001b[0m\u001b[0mobj\u001b[0m\u001b[1;33m,\u001b[0m \u001b[1;33m*\u001b[0m\u001b[0margs\u001b[0m\u001b[1;33m,\u001b[0m \u001b[1;33m**\u001b[0m\u001b[0mkwargs\u001b[0m\u001b[1;33m)\u001b[0m\u001b[1;33m\u001b[0m\u001b[1;33m\u001b[0m\u001b[0m\n\u001b[0m\u001b[0;32m    120\u001b[0m         \u001b[1;31m# update the docstring of the returned function\u001b[0m\u001b[1;33m\u001b[0m\u001b[1;33m\u001b[0m\u001b[1;33m\u001b[0m\u001b[0m\n\u001b[0;32m    121\u001b[0m         \u001b[0mupdate_wrapper\u001b[0m\u001b[1;33m(\u001b[0m\u001b[0mout\u001b[0m\u001b[1;33m,\u001b[0m \u001b[0mself\u001b[0m\u001b[1;33m.\u001b[0m\u001b[0mfn\u001b[0m\u001b[1;33m)\u001b[0m\u001b[1;33m\u001b[0m\u001b[1;33m\u001b[0m\u001b[0m\n",
            "\u001b[1;32mc:\\Users\\samue\\anaconda3\\envs\\learn-env\\lib\\site-packages\\sklearn\\pipeline.py\u001b[0m in \u001b[0;36mpredict\u001b[1;34m(self, X, **predict_params)\u001b[0m\n\u001b[0;32m    406\u001b[0m         \u001b[1;32mfor\u001b[0m \u001b[0m_\u001b[0m\u001b[1;33m,\u001b[0m \u001b[0mname\u001b[0m\u001b[1;33m,\u001b[0m \u001b[0mtransform\u001b[0m \u001b[1;32min\u001b[0m \u001b[0mself\u001b[0m\u001b[1;33m.\u001b[0m\u001b[0m_iter\u001b[0m\u001b[1;33m(\u001b[0m\u001b[0mwith_final\u001b[0m\u001b[1;33m=\u001b[0m\u001b[1;32mFalse\u001b[0m\u001b[1;33m)\u001b[0m\u001b[1;33m:\u001b[0m\u001b[1;33m\u001b[0m\u001b[1;33m\u001b[0m\u001b[0m\n\u001b[0;32m    407\u001b[0m             \u001b[0mXt\u001b[0m \u001b[1;33m=\u001b[0m \u001b[0mtransform\u001b[0m\u001b[1;33m.\u001b[0m\u001b[0mtransform\u001b[0m\u001b[1;33m(\u001b[0m\u001b[0mXt\u001b[0m\u001b[1;33m)\u001b[0m\u001b[1;33m\u001b[0m\u001b[1;33m\u001b[0m\u001b[0m\n\u001b[1;32m--> 408\u001b[1;33m         \u001b[1;32mreturn\u001b[0m \u001b[0mself\u001b[0m\u001b[1;33m.\u001b[0m\u001b[0msteps\u001b[0m\u001b[1;33m[\u001b[0m\u001b[1;33m-\u001b[0m\u001b[1;36m1\u001b[0m\u001b[1;33m]\u001b[0m\u001b[1;33m[\u001b[0m\u001b[1;33m-\u001b[0m\u001b[1;36m1\u001b[0m\u001b[1;33m]\u001b[0m\u001b[1;33m.\u001b[0m\u001b[0mpredict\u001b[0m\u001b[1;33m(\u001b[0m\u001b[0mXt\u001b[0m\u001b[1;33m,\u001b[0m \u001b[1;33m**\u001b[0m\u001b[0mpredict_params\u001b[0m\u001b[1;33m)\u001b[0m\u001b[1;33m\u001b[0m\u001b[1;33m\u001b[0m\u001b[0m\n\u001b[0m\u001b[0;32m    409\u001b[0m \u001b[1;33m\u001b[0m\u001b[0m\n\u001b[0;32m    410\u001b[0m     \u001b[1;33m@\u001b[0m\u001b[0mif_delegate_has_method\u001b[0m\u001b[1;33m(\u001b[0m\u001b[0mdelegate\u001b[0m\u001b[1;33m=\u001b[0m\u001b[1;34m'_final_estimator'\u001b[0m\u001b[1;33m)\u001b[0m\u001b[1;33m\u001b[0m\u001b[1;33m\u001b[0m\u001b[0m\n",
            "\u001b[1;32mc:\\Users\\samue\\anaconda3\\envs\\learn-env\\lib\\site-packages\\sklearn\\neighbors\\_classification.py\u001b[0m in \u001b[0;36mpredict\u001b[1;34m(self, X)\u001b[0m\n\u001b[0;32m    173\u001b[0m         \u001b[0mX\u001b[0m \u001b[1;33m=\u001b[0m \u001b[0mcheck_array\u001b[0m\u001b[1;33m(\u001b[0m\u001b[0mX\u001b[0m\u001b[1;33m,\u001b[0m \u001b[0maccept_sparse\u001b[0m\u001b[1;33m=\u001b[0m\u001b[1;34m'csr'\u001b[0m\u001b[1;33m)\u001b[0m\u001b[1;33m\u001b[0m\u001b[1;33m\u001b[0m\u001b[0m\n\u001b[0;32m    174\u001b[0m \u001b[1;33m\u001b[0m\u001b[0m\n\u001b[1;32m--> 175\u001b[1;33m         \u001b[0mneigh_dist\u001b[0m\u001b[1;33m,\u001b[0m \u001b[0mneigh_ind\u001b[0m \u001b[1;33m=\u001b[0m \u001b[0mself\u001b[0m\u001b[1;33m.\u001b[0m\u001b[0mkneighbors\u001b[0m\u001b[1;33m(\u001b[0m\u001b[0mX\u001b[0m\u001b[1;33m)\u001b[0m\u001b[1;33m\u001b[0m\u001b[1;33m\u001b[0m\u001b[0m\n\u001b[0m\u001b[0;32m    176\u001b[0m         \u001b[0mclasses_\u001b[0m \u001b[1;33m=\u001b[0m \u001b[0mself\u001b[0m\u001b[1;33m.\u001b[0m\u001b[0mclasses_\u001b[0m\u001b[1;33m\u001b[0m\u001b[1;33m\u001b[0m\u001b[0m\n\u001b[0;32m    177\u001b[0m         \u001b[0m_y\u001b[0m \u001b[1;33m=\u001b[0m \u001b[0mself\u001b[0m\u001b[1;33m.\u001b[0m\u001b[0m_y\u001b[0m\u001b[1;33m\u001b[0m\u001b[1;33m\u001b[0m\u001b[0m\n",
            "\u001b[1;32mc:\\Users\\samue\\anaconda3\\envs\\learn-env\\lib\\site-packages\\sklearn\\neighbors\\_base.py\u001b[0m in \u001b[0;36mkneighbors\u001b[1;34m(self, X, n_neighbors, return_distance)\u001b[0m\n\u001b[0;32m    660\u001b[0m                 \u001b[0mdelayed_query\u001b[0m \u001b[1;33m=\u001b[0m \u001b[0mdelayed\u001b[0m\u001b[1;33m(\u001b[0m\u001b[0m_tree_query_parallel_helper\u001b[0m\u001b[1;33m)\u001b[0m\u001b[1;33m\u001b[0m\u001b[1;33m\u001b[0m\u001b[0m\n\u001b[0;32m    661\u001b[0m                 \u001b[0mparallel_kwargs\u001b[0m \u001b[1;33m=\u001b[0m \u001b[1;33m{\u001b[0m\u001b[1;34m\"prefer\"\u001b[0m\u001b[1;33m:\u001b[0m \u001b[1;34m\"threads\"\u001b[0m\u001b[1;33m}\u001b[0m\u001b[1;33m\u001b[0m\u001b[1;33m\u001b[0m\u001b[0m\n\u001b[1;32m--> 662\u001b[1;33m             chunked_results = Parallel(n_jobs, **parallel_kwargs)(\n\u001b[0m\u001b[0;32m    663\u001b[0m                 delayed_query(\n\u001b[0;32m    664\u001b[0m                     self._tree, X[s], n_neighbors, return_distance)\n",
            "\u001b[1;32mc:\\Users\\samue\\anaconda3\\envs\\learn-env\\lib\\site-packages\\joblib\\parallel.py\u001b[0m in \u001b[0;36m__call__\u001b[1;34m(self, iterable)\u001b[0m\n\u001b[0;32m   1046\u001b[0m             \u001b[1;31m# remaining jobs.\u001b[0m\u001b[1;33m\u001b[0m\u001b[1;33m\u001b[0m\u001b[1;33m\u001b[0m\u001b[0m\n\u001b[0;32m   1047\u001b[0m             \u001b[0mself\u001b[0m\u001b[1;33m.\u001b[0m\u001b[0m_iterating\u001b[0m \u001b[1;33m=\u001b[0m \u001b[1;32mFalse\u001b[0m\u001b[1;33m\u001b[0m\u001b[1;33m\u001b[0m\u001b[0m\n\u001b[1;32m-> 1048\u001b[1;33m             \u001b[1;32mif\u001b[0m \u001b[0mself\u001b[0m\u001b[1;33m.\u001b[0m\u001b[0mdispatch_one_batch\u001b[0m\u001b[1;33m(\u001b[0m\u001b[0miterator\u001b[0m\u001b[1;33m)\u001b[0m\u001b[1;33m:\u001b[0m\u001b[1;33m\u001b[0m\u001b[1;33m\u001b[0m\u001b[0m\n\u001b[0m\u001b[0;32m   1049\u001b[0m                 \u001b[0mself\u001b[0m\u001b[1;33m.\u001b[0m\u001b[0m_iterating\u001b[0m \u001b[1;33m=\u001b[0m \u001b[0mself\u001b[0m\u001b[1;33m.\u001b[0m\u001b[0m_original_iterator\u001b[0m \u001b[1;32mis\u001b[0m \u001b[1;32mnot\u001b[0m \u001b[1;32mNone\u001b[0m\u001b[1;33m\u001b[0m\u001b[1;33m\u001b[0m\u001b[0m\n\u001b[0;32m   1050\u001b[0m \u001b[1;33m\u001b[0m\u001b[0m\n",
            "\u001b[1;32mc:\\Users\\samue\\anaconda3\\envs\\learn-env\\lib\\site-packages\\joblib\\parallel.py\u001b[0m in \u001b[0;36mdispatch_one_batch\u001b[1;34m(self, iterator)\u001b[0m\n\u001b[0;32m    864\u001b[0m                 \u001b[1;32mreturn\u001b[0m \u001b[1;32mFalse\u001b[0m\u001b[1;33m\u001b[0m\u001b[1;33m\u001b[0m\u001b[0m\n\u001b[0;32m    865\u001b[0m             \u001b[1;32melse\u001b[0m\u001b[1;33m:\u001b[0m\u001b[1;33m\u001b[0m\u001b[1;33m\u001b[0m\u001b[0m\n\u001b[1;32m--> 866\u001b[1;33m                 \u001b[0mself\u001b[0m\u001b[1;33m.\u001b[0m\u001b[0m_dispatch\u001b[0m\u001b[1;33m(\u001b[0m\u001b[0mtasks\u001b[0m\u001b[1;33m)\u001b[0m\u001b[1;33m\u001b[0m\u001b[1;33m\u001b[0m\u001b[0m\n\u001b[0m\u001b[0;32m    867\u001b[0m                 \u001b[1;32mreturn\u001b[0m \u001b[1;32mTrue\u001b[0m\u001b[1;33m\u001b[0m\u001b[1;33m\u001b[0m\u001b[0m\n\u001b[0;32m    868\u001b[0m \u001b[1;33m\u001b[0m\u001b[0m\n",
            "\u001b[1;32mc:\\Users\\samue\\anaconda3\\envs\\learn-env\\lib\\site-packages\\joblib\\parallel.py\u001b[0m in \u001b[0;36m_dispatch\u001b[1;34m(self, batch)\u001b[0m\n\u001b[0;32m    782\u001b[0m         \u001b[1;32mwith\u001b[0m \u001b[0mself\u001b[0m\u001b[1;33m.\u001b[0m\u001b[0m_lock\u001b[0m\u001b[1;33m:\u001b[0m\u001b[1;33m\u001b[0m\u001b[1;33m\u001b[0m\u001b[0m\n\u001b[0;32m    783\u001b[0m             \u001b[0mjob_idx\u001b[0m \u001b[1;33m=\u001b[0m \u001b[0mlen\u001b[0m\u001b[1;33m(\u001b[0m\u001b[0mself\u001b[0m\u001b[1;33m.\u001b[0m\u001b[0m_jobs\u001b[0m\u001b[1;33m)\u001b[0m\u001b[1;33m\u001b[0m\u001b[1;33m\u001b[0m\u001b[0m\n\u001b[1;32m--> 784\u001b[1;33m             \u001b[0mjob\u001b[0m \u001b[1;33m=\u001b[0m \u001b[0mself\u001b[0m\u001b[1;33m.\u001b[0m\u001b[0m_backend\u001b[0m\u001b[1;33m.\u001b[0m\u001b[0mapply_async\u001b[0m\u001b[1;33m(\u001b[0m\u001b[0mbatch\u001b[0m\u001b[1;33m,\u001b[0m \u001b[0mcallback\u001b[0m\u001b[1;33m=\u001b[0m\u001b[0mcb\u001b[0m\u001b[1;33m)\u001b[0m\u001b[1;33m\u001b[0m\u001b[1;33m\u001b[0m\u001b[0m\n\u001b[0m\u001b[0;32m    785\u001b[0m             \u001b[1;31m# A job can complete so quickly than its callback is\u001b[0m\u001b[1;33m\u001b[0m\u001b[1;33m\u001b[0m\u001b[1;33m\u001b[0m\u001b[0m\n\u001b[0;32m    786\u001b[0m             \u001b[1;31m# called before we get here, causing self._jobs to\u001b[0m\u001b[1;33m\u001b[0m\u001b[1;33m\u001b[0m\u001b[1;33m\u001b[0m\u001b[0m\n",
            "\u001b[1;32mc:\\Users\\samue\\anaconda3\\envs\\learn-env\\lib\\site-packages\\joblib\\_parallel_backends.py\u001b[0m in \u001b[0;36mapply_async\u001b[1;34m(self, func, callback)\u001b[0m\n\u001b[0;32m    206\u001b[0m     \u001b[1;32mdef\u001b[0m \u001b[0mapply_async\u001b[0m\u001b[1;33m(\u001b[0m\u001b[0mself\u001b[0m\u001b[1;33m,\u001b[0m \u001b[0mfunc\u001b[0m\u001b[1;33m,\u001b[0m \u001b[0mcallback\u001b[0m\u001b[1;33m=\u001b[0m\u001b[1;32mNone\u001b[0m\u001b[1;33m)\u001b[0m\u001b[1;33m:\u001b[0m\u001b[1;33m\u001b[0m\u001b[1;33m\u001b[0m\u001b[0m\n\u001b[0;32m    207\u001b[0m         \u001b[1;34m\"\"\"Schedule a func to be run\"\"\"\u001b[0m\u001b[1;33m\u001b[0m\u001b[1;33m\u001b[0m\u001b[0m\n\u001b[1;32m--> 208\u001b[1;33m         \u001b[0mresult\u001b[0m \u001b[1;33m=\u001b[0m \u001b[0mImmediateResult\u001b[0m\u001b[1;33m(\u001b[0m\u001b[0mfunc\u001b[0m\u001b[1;33m)\u001b[0m\u001b[1;33m\u001b[0m\u001b[1;33m\u001b[0m\u001b[0m\n\u001b[0m\u001b[0;32m    209\u001b[0m         \u001b[1;32mif\u001b[0m \u001b[0mcallback\u001b[0m\u001b[1;33m:\u001b[0m\u001b[1;33m\u001b[0m\u001b[1;33m\u001b[0m\u001b[0m\n\u001b[0;32m    210\u001b[0m             \u001b[0mcallback\u001b[0m\u001b[1;33m(\u001b[0m\u001b[0mresult\u001b[0m\u001b[1;33m)\u001b[0m\u001b[1;33m\u001b[0m\u001b[1;33m\u001b[0m\u001b[0m\n",
            "\u001b[1;32mc:\\Users\\samue\\anaconda3\\envs\\learn-env\\lib\\site-packages\\joblib\\_parallel_backends.py\u001b[0m in \u001b[0;36m__init__\u001b[1;34m(self, batch)\u001b[0m\n\u001b[0;32m    570\u001b[0m         \u001b[1;31m# Don't delay the application, to avoid keeping the input\u001b[0m\u001b[1;33m\u001b[0m\u001b[1;33m\u001b[0m\u001b[1;33m\u001b[0m\u001b[0m\n\u001b[0;32m    571\u001b[0m         \u001b[1;31m# arguments in memory\u001b[0m\u001b[1;33m\u001b[0m\u001b[1;33m\u001b[0m\u001b[1;33m\u001b[0m\u001b[0m\n\u001b[1;32m--> 572\u001b[1;33m         \u001b[0mself\u001b[0m\u001b[1;33m.\u001b[0m\u001b[0mresults\u001b[0m \u001b[1;33m=\u001b[0m \u001b[0mbatch\u001b[0m\u001b[1;33m(\u001b[0m\u001b[1;33m)\u001b[0m\u001b[1;33m\u001b[0m\u001b[1;33m\u001b[0m\u001b[0m\n\u001b[0m\u001b[0;32m    573\u001b[0m \u001b[1;33m\u001b[0m\u001b[0m\n\u001b[0;32m    574\u001b[0m     \u001b[1;32mdef\u001b[0m \u001b[0mget\u001b[0m\u001b[1;33m(\u001b[0m\u001b[0mself\u001b[0m\u001b[1;33m)\u001b[0m\u001b[1;33m:\u001b[0m\u001b[1;33m\u001b[0m\u001b[1;33m\u001b[0m\u001b[0m\n",
            "\u001b[1;32mc:\\Users\\samue\\anaconda3\\envs\\learn-env\\lib\\site-packages\\joblib\\parallel.py\u001b[0m in \u001b[0;36m__call__\u001b[1;34m(self)\u001b[0m\n\u001b[0;32m    260\u001b[0m         \u001b[1;31m# change the default number of processes to -1\u001b[0m\u001b[1;33m\u001b[0m\u001b[1;33m\u001b[0m\u001b[1;33m\u001b[0m\u001b[0m\n\u001b[0;32m    261\u001b[0m         \u001b[1;32mwith\u001b[0m \u001b[0mparallel_backend\u001b[0m\u001b[1;33m(\u001b[0m\u001b[0mself\u001b[0m\u001b[1;33m.\u001b[0m\u001b[0m_backend\u001b[0m\u001b[1;33m,\u001b[0m \u001b[0mn_jobs\u001b[0m\u001b[1;33m=\u001b[0m\u001b[0mself\u001b[0m\u001b[1;33m.\u001b[0m\u001b[0m_n_jobs\u001b[0m\u001b[1;33m)\u001b[0m\u001b[1;33m:\u001b[0m\u001b[1;33m\u001b[0m\u001b[1;33m\u001b[0m\u001b[0m\n\u001b[1;32m--> 262\u001b[1;33m             return [func(*args, **kwargs)\n\u001b[0m\u001b[0;32m    263\u001b[0m                     for func, args, kwargs in self.items]\n\u001b[0;32m    264\u001b[0m \u001b[1;33m\u001b[0m\u001b[0m\n",
            "\u001b[1;32mc:\\Users\\samue\\anaconda3\\envs\\learn-env\\lib\\site-packages\\joblib\\parallel.py\u001b[0m in \u001b[0;36m<listcomp>\u001b[1;34m(.0)\u001b[0m\n\u001b[0;32m    260\u001b[0m         \u001b[1;31m# change the default number of processes to -1\u001b[0m\u001b[1;33m\u001b[0m\u001b[1;33m\u001b[0m\u001b[1;33m\u001b[0m\u001b[0m\n\u001b[0;32m    261\u001b[0m         \u001b[1;32mwith\u001b[0m \u001b[0mparallel_backend\u001b[0m\u001b[1;33m(\u001b[0m\u001b[0mself\u001b[0m\u001b[1;33m.\u001b[0m\u001b[0m_backend\u001b[0m\u001b[1;33m,\u001b[0m \u001b[0mn_jobs\u001b[0m\u001b[1;33m=\u001b[0m\u001b[0mself\u001b[0m\u001b[1;33m.\u001b[0m\u001b[0m_n_jobs\u001b[0m\u001b[1;33m)\u001b[0m\u001b[1;33m:\u001b[0m\u001b[1;33m\u001b[0m\u001b[1;33m\u001b[0m\u001b[0m\n\u001b[1;32m--> 262\u001b[1;33m             return [func(*args, **kwargs)\n\u001b[0m\u001b[0;32m    263\u001b[0m                     for func, args, kwargs in self.items]\n\u001b[0;32m    264\u001b[0m \u001b[1;33m\u001b[0m\u001b[0m\n",
            "\u001b[1;32mc:\\Users\\samue\\anaconda3\\envs\\learn-env\\lib\\site-packages\\sklearn\\neighbors\\_base.py\u001b[0m in \u001b[0;36m_tree_query_parallel_helper\u001b[1;34m(tree, *args, **kwargs)\u001b[0m\n\u001b[0;32m    490\u001b[0m     \u001b[0munder\u001b[0m \u001b[0mPyPy\u001b[0m\u001b[1;33m.\u001b[0m\u001b[1;33m\u001b[0m\u001b[1;33m\u001b[0m\u001b[0m\n\u001b[0;32m    491\u001b[0m     \"\"\"\n\u001b[1;32m--> 492\u001b[1;33m     \u001b[1;32mreturn\u001b[0m \u001b[0mtree\u001b[0m\u001b[1;33m.\u001b[0m\u001b[0mquery\u001b[0m\u001b[1;33m(\u001b[0m\u001b[1;33m*\u001b[0m\u001b[0margs\u001b[0m\u001b[1;33m,\u001b[0m \u001b[1;33m**\u001b[0m\u001b[0mkwargs\u001b[0m\u001b[1;33m)\u001b[0m\u001b[1;33m\u001b[0m\u001b[1;33m\u001b[0m\u001b[0m\n\u001b[0m\u001b[0;32m    493\u001b[0m \u001b[1;33m\u001b[0m\u001b[0m\n\u001b[0;32m    494\u001b[0m \u001b[1;33m\u001b[0m\u001b[0m\n",
            "\u001b[1;31mKeyboardInterrupt\u001b[0m: "
          ]
        }
      ],
      "source": [
        "# create a pipeline\n",
        "\n",
        "pipe_4 = Pipeline([('ss', StandardScaler()),\n",
        "                   ('neighbors', KNeighborsClassifier())])\n",
        "\n",
        "# fit the training data\n",
        "\n",
        "pipe_4.fit(X1res_train, y1res_train)\n",
        "\n",
        "# predict on test data\n",
        "\n",
        "y_pred_4 = pipe_4.predict(X1res_test)\n",
        "y_trainpred_4 = pipe_4.predict(X1res_train)\n",
        "\n",
        "print('training metrics')\n",
        "print('__________________________________')\n",
        "print_metrics(y1res_train, y_trainpred_4)\n",
        "print('\\ntest metrics')\n",
        "print('___________________________________')\n",
        "print_metrics(y1res_test, y_pred_4)\n"
      ]
    },
    {
      "cell_type": "markdown",
      "id": "e38d0f48",
      "metadata": {
        "id": "e38d0f48"
      },
      "source": [
        "#### Support Vector Classifier"
      ]
    },
    {
      "cell_type": "code",
      "execution_count": null,
      "id": "037d14f8",
      "metadata": {
        "id": "037d14f8"
      },
      "outputs": [],
      "source": [
        "# create a pipeline\n",
        "\n",
        "#    pipe_5 = Pipeline([('ss', StandardScaler()),\n",
        "#                      ('svc', SVC(kernel='poly'))])\n",
        "\n",
        "    # fit the training data\n",
        "\n",
        " #   pipe_5.fit(X1res_train, y1res_train)\n",
        "\n",
        "    # predict on test data\n",
        "\n",
        "  #  y_pred_5 = pipe_5.predict(X1res_test)\n",
        "   # y_trainpred_5 = pipe_5.predict(X1res_train)\n",
        "\n",
        "    #print('training metrics')\n",
        "    #print('__________________________________')\n",
        "    #print_metrics(y1res_train, y_trainpred_5)\n",
        "    #print('\\ntest metrics')\n",
        "    #print('___________________________________')\n",
        "    #print_metrics(y1res_test, y_pred_5)\n"
      ]
    },
    {
      "cell_type": "markdown",
      "id": "b4042904",
      "metadata": {
        "id": "b4042904"
      },
      "source": [
        "#### Decision Trees Classiffier **Samuel**"
      ]
    },
    {
      "cell_type": "code",
      "execution_count": 505,
      "id": "7d7ed6b6",
      "metadata": {
        "colab": {
          "base_uri": "https://localhost:8080/"
        },
        "id": "7d7ed6b6",
        "outputId": "0a10427d-3b00-449b-91e8-46ae0b88b2ac"
      },
      "outputs": [
        {
          "name": "stdout",
          "output_type": "stream",
          "text": [
            "training metrics\n",
            "__________________________________\n",
            "Precision Score: 0.9821829428364763\n",
            "Recall Score: 0.9820684033982257\n",
            "Accuracy Score: 0.9820684033982257\n",
            "F1 Score: 0.9820923880341061\n",
            "\n",
            "test metrics\n",
            "___________________________________\n",
            "Precision Score: 0.6874807125815409\n",
            "Recall Score: 0.6895618462438738\n",
            "Accuracy Score: 0.6895618462438738\n",
            "F1 Score: 0.688090741833767\n"
          ]
        }
      ],
      "source": [
        "# create a pipeline\n",
        "from sklearn.tree import DecisionTreeClassifier\n",
        "\n",
        "pipe_6 = Pipeline([('ss', StandardScaler()),\n",
        "                   ('tree', DecisionTreeClassifier())])\n",
        "\n",
        "# fit the training data\n",
        "\n",
        "pipe_6.fit(X1res_train, y1res_train)\n",
        "\n",
        "# predict on test data\n",
        "\n",
        "y_pred_6 = pipe_6.predict(X1res_test)\n",
        "y_trainpred_6 = pipe_6.predict(X1res_train)\n",
        "\n",
        "print('training metrics')\n",
        "print('__________________________________')\n",
        "print_metrics(y1res_train, y_trainpred_6)\n",
        "print('\\ntest metrics')\n",
        "print('___________________________________')\n",
        "print_metrics(y1res_test, y_pred_6)\n"
      ]
    },
    {
      "cell_type": "code",
      "execution_count": 521,
      "id": "20731880",
      "metadata": {},
      "outputs": [
        {
          "name": "stdout",
          "output_type": "stream",
          "text": [
            "Best Parameter Values:\n",
            "______________________\n",
            "{'tree__max_depth': 5, 'tree__max_features': None, 'tree__min_samples_leaf': 1, 'tree__min_samples_split': 2}\n"
          ]
        }
      ],
      "source": [
        "from sklearn.model_selection import GridSearchCV\n",
        "# Perform grid search with 5-fold cross-validation\n",
        "grid_search = GridSearchCV(pipe_6, param_grid, cv=5)\n",
        "grid_search.fit(X1res_train, y1res_train)\n",
        "\n",
        "# Get the best model\n",
        "best_model = grid_search.best_estimator_\n",
        "\n",
        "# Print the best parameter values\n",
        "print('Best Parameter Values:')\n",
        "print('______________________')\n",
        "print(grid_search.best_params_)\n"
      ]
    },
    {
      "cell_type": "code",
      "execution_count": 524,
      "id": "a95f2a93",
      "metadata": {},
      "outputs": [
        {
          "name": "stdout",
          "output_type": "stream",
          "text": [
            "training metrics\n",
            "__________________________________\n",
            "Precision Score: 0.5593260932838727\n",
            "Recall Score: 0.4559286080023407\n",
            "Accuracy Score: 0.4559286080023407\n",
            "F1 Score: 0.424907655160702\n",
            "\n",
            "test metrics\n",
            "___________________________________\n",
            "Precision Score: 0.5605173971864631\n",
            "Recall Score: 0.4592446297515422\n",
            "Accuracy Score: 0.4592446297515422\n",
            "F1 Score: 0.42889504158549846\n"
          ]
        }
      ],
      "source": [
        "from sklearn.tree import DecisionTreeClassifier\n",
        "\n",
        "pipe_6 = Pipeline([('ss', StandardScaler()),\n",
        "                   ('tree', DecisionTreeClassifier(max_depth = 5, max_features = None, min_samples_leaf = 1, min_samples_split = 2))])\n",
        "\n",
        "# fit the training data\n",
        "\n",
        "pipe_6.fit(X1res_train, y1res_train)\n",
        "\n",
        "# predict on test data\n",
        "\n",
        "y_pred_6 = pipe_6.predict(X1res_test)\n",
        "y_trainpred_6 = pipe_6.predict(X1res_train)\n",
        "\n",
        "print('training metrics')\n",
        "print('__________________________________')\n",
        "print_metrics(y1res_train, y_trainpred_6)\n",
        "print('\\ntest metrics')\n",
        "print('___________________________________')\n",
        "print_metrics(y1res_test, y_pred_6)"
      ]
    },
    {
      "cell_type": "markdown",
      "id": "80b12ddb",
      "metadata": {
        "id": "80b12ddb"
      },
      "source": [
        "#### Random Forest Classier **James**"
      ]
    },
    {
      "cell_type": "code",
      "execution_count": null,
      "id": "f0db2759",
      "metadata": {
        "colab": {
          "base_uri": "https://localhost:8080/"
        },
        "id": "f0db2759",
        "outputId": "9eeb0aa9-7304-4c3e-dbf1-a18173040b5f"
      },
      "outputs": [
        {
          "name": "stdout",
          "output_type": "stream",
          "text": [
            "training metrics\n",
            "__________________________________\n",
            "Precision Score: 0.9974318754533988\n",
            "Recall Score: 0.9974221267454351\n",
            "Accuracy Score: 0.9974221267454351\n",
            "F1 Score: 0.9974229995523907\n",
            "\n",
            "test metrics\n",
            "___________________________________\n",
            "Precision Score: 0.7840058473592236\n",
            "Recall Score: 0.7824561403508772\n",
            "Accuracy Score: 0.7824561403508772\n",
            "F1 Score: 0.7819069611212899\n"
          ]
        }
      ],
      "source": [
        "from sklearn.ensemble import RandomForestClassifier\n",
        "\n",
        "# create a pipeline\n",
        "pipe_7 = Pipeline([('ss', StandardScaler()),\n",
        "                   ('rand', RandomForestClassifier())])\n",
        "\n",
        "# fit the training data\n",
        "\n",
        "pipe_7.fit(X1res_train, y1res_train)\n",
        "\n",
        "# predict on test data\n",
        "\n",
        "y_pred_7 = pipe_7.predict(X1res_test)\n",
        "y_trainpred_7 = pipe_7.predict(X1res_train)\n",
        "\n",
        "print('training metrics')\n",
        "print('__________________________________')\n",
        "print_metrics(y1res_train, y_trainpred_7)\n",
        "print('\\ntest metrics')\n",
        "print('___________________________________')\n",
        "print_metrics(y1res_test, y_pred_7)"
      ]
    },
    {
      "cell_type": "markdown",
      "id": "413c1ed0",
      "metadata": {
        "id": "413c1ed0"
      },
      "source": [
        "#### XG Boost"
      ]
    },
    {
      "cell_type": "code",
      "execution_count": null,
      "id": "b5082535",
      "metadata": {
        "colab": {
          "base_uri": "https://localhost:8080/"
        },
        "id": "b5082535",
        "outputId": "890e6ab4-5051-4845-bcf6-d6f0afe21969"
      },
      "outputs": [
        {
          "name": "stdout",
          "output_type": "stream",
          "text": [
            "training metrics\n",
            "__________________________________\n",
            "Precision Score: 0.9795757580316167\n",
            "Recall Score: 0.9793770139634801\n",
            "Accuracy Score: 0.9793770139634801\n",
            "F1 Score: 0.9794165977924809\n",
            "\n",
            "test metrics\n",
            "___________________________________\n",
            "Precision Score: 0.7740123930505212\n",
            "Recall Score: 0.7724310776942356\n",
            "Accuracy Score: 0.7724310776942356\n",
            "F1 Score: 0.7728823547726232\n"
          ]
        }
      ],
      "source": [
        "import xgboost as xgb\n",
        "\n",
        "# create a pipeline\n",
        "pipe_9 = Pipeline([('ss', StandardScaler()),\n",
        "                   ('xgb', xgb.XGBClassifier())])\n",
        "\n",
        "# fit the training data\n",
        "\n",
        "pipe_9.fit(X1res_train, y1res_train)\n",
        "\n",
        "# predict on test data\n",
        "\n",
        "y_pred_9 = pipe_9.predict(X1res_test)\n",
        "y_trainpred_9 = pipe_9.predict(X1res_train)\n",
        "\n",
        "print('training metrics')\n",
        "print('__________________________________')\n",
        "print_metrics(y1res_train, y_trainpred_9)\n",
        "print('\\ntest metrics')\n",
        "print('___________________________________')\n",
        "print_metrics(y1res_test, y_pred_9)"
      ]
    },
    {
      "cell_type": "markdown",
      "id": "14ef585f",
      "metadata": {
        "id": "14ef585f"
      },
      "source": [
        "XG boost holds the most promise as it has the least gap betweeen training and test metrics, thus less prone to overfitting. It is thus the best candidate for hyperparameter tuning. Below we tune some hyperparameters and rerun the model"
      ]
    },
    {
      "cell_type": "code",
      "execution_count": null,
      "id": "a8893a5c",
      "metadata": {
        "colab": {
          "base_uri": "https://localhost:8080/"
        },
        "id": "a8893a5c",
        "outputId": "516df10e-7640-4bcf-c491-5e3f491e9ca4"
      },
      "outputs": [
        {
          "name": "stdout",
          "output_type": "stream",
          "text": [
            "Fitting 5 folds for each of 144 candidates, totalling 720 fits\n",
            "best params:  {'xgb__colsample_bytree': 0.5, 'xgb__gamma': 0.25, 'xgb__learning_rate': 0.1, 'xgb__max_depth': 7, 'xgb__reg_lambda': 0, 'xgb__subsample': 0.8}\n",
            "best estimator:  Pipeline(steps=[('ss', StandardScaler()),\n",
            "                ('xgb',\n",
            "                 XGBClassifier(base_score=None, booster=None, callbacks=None,\n",
            "                               colsample_bylevel=None, colsample_bynode=None,\n",
            "                               colsample_bytree=0.5, early_stopping_rounds=None,\n",
            "                               enable_categorical=False, eval_metric=None,\n",
            "                               feature_types=None, gamma=0.25, gpu_id=None,\n",
            "                               grow_policy=None, importance_type=None,\n",
            "                               interaction_constraints=None, learning_rate=0.1,\n",
            "                               max_bin=None, max_cat_threshold=None,\n",
            "                               max_cat_to_onehot=None, max_delta_step=None,\n",
            "                               max_depth=7, max_leaves=None,\n",
            "                               min_child_weight=None, missing=nan,\n",
            "                               monotone_constraints=None, n_estimators=100,\n",
            "                               n_jobs=None, num_parallel_tree=None,\n",
            "                               objective='multi:softprob', predictor=None, ...))]) \n",
            "\n"
          ]
        }
      ],
      "source": [
        "# identify XG boost hyperparameters\n",
        "# for tuning\n",
        "\n",
        "from sklearn.model_selection import GridSearchCV\n",
        "from sklearn.metrics import f1_score, make_scorer\n",
        "\n",
        "# Define the scoring metric\n",
        "scorer = make_scorer(f1_score, average='micro')\n",
        "\n",
        "xgb_params = [{\n",
        "    \"xgb__max_depth\": [3, 4, 5, 7],\n",
        "    \"xgb__learning_rate\": [0.1, 0.01, 0.05],\n",
        "    \"xgb__gamma\": [0, 0.25, 1, 100],\n",
        "    \"xgb__reg_lambda\": [0, 1, 10],\n",
        "    \"xgb__subsample\": [0.8],\n",
        "    \"xgb__colsample_bytree\": [0.5],\n",
        "}]\n",
        "\n",
        "# Creating a GridSearchCV with xgb_model as the estimator\n",
        "gsv_xgb= GridSearchCV(estimator=pipe_9,\n",
        "                       param_grid=xgb_params,\n",
        "                       cv=5,\n",
        "                       scoring='accuracy',\n",
        "                       verbose=1)\n",
        "\n",
        "# Fitting the model\n",
        "gsv_xgb.fit(X1res_train, y1res_train)\n",
        "\n",
        "# Get pest parametors\n",
        "print('best params: ', gsv_xgb.best_params_)\n",
        "print('best estimator: ', gsv_xgb.best_estimator_, '\\n')\n",
        "\n",
        "# predict on test data\n",
        "\n",
        "#y_pred_9 = gsv_xgb.best_estimator_.predict(X1res_test)\n",
        "#y_trainpred_9 = gsv_xgb.best_estimator_(X1res_train)\n",
        "\n",
        "#print('training metrics')\n",
        "#print('__________________________________')\n",
        "#print_metrics(y1res_train, y_trainpred_9)\n",
        "#print('\\ntest metrics')\n",
        "#print('___________________________________')\n",
        "#print_metrics(y1res_test, y_pred_9)"
      ]
    },
    {
      "cell_type": "code",
      "execution_count": null,
      "id": "moYai2ahYxzr",
      "metadata": {
        "colab": {
          "base_uri": "https://localhost:8080/"
        },
        "id": "moYai2ahYxzr",
        "outputId": "3d851607-beab-498c-c7a4-90d4d151dc97"
      },
      "outputs": [
        {
          "name": "stdout",
          "output_type": "stream",
          "text": [
            "training metrics\n",
            "__________________________________\n",
            "Precision Score: 0.823493946394969\n",
            "Recall Score: 0.8210526315789474\n",
            "Accuracy Score: 0.8210526315789474\n",
            "F1 Score: 0.8216096882199686\n",
            "\n",
            "test metrics\n",
            "___________________________________\n",
            "Precision Score: 0.7207760147672555\n",
            "Recall Score: 0.7192982456140351\n",
            "Accuracy Score: 0.7192982456140351\n",
            "F1 Score: 0.7193356269366626\n"
          ]
        }
      ],
      "source": [
        "# create a pipeline\n",
        "pipe_10 = Pipeline([('ss', StandardScaler()), ('xgb', xgb.XGBClassifier(\n",
        "    colsample_bytree=0.7, gamma=0.5, learning_rate=0.1, max_depth=7,\n",
        "    reg_lambda=20, subsample=0.8))])\n",
        "\n",
        "# fit the training data\n",
        "\n",
        "pipe_10.fit(X1res_train, y1res_train)\n",
        "\n",
        "# predict on test data\n",
        "\n",
        "y_pred_10 = pipe_10.predict(X1res_test)\n",
        "y_trainpred_10 = pipe_10.predict(X1res_train)\n",
        "\n",
        "print('training metrics')\n",
        "print('__________________________________')\n",
        "print_metrics(y1res_train, y_trainpred_10)\n",
        "print('\\ntest metrics')\n",
        "print('___________________________________')\n",
        "print_metrics(y1res_test, y_pred_10)"
      ]
    },
    {
      "cell_type": "code",
      "execution_count": null,
      "id": "7ZpTwM_Mwz9G",
      "metadata": {
        "id": "7ZpTwM_Mwz9G"
      },
      "outputs": [],
      "source": []
    }
  ],
  "metadata": {
    "accelerator": "GPU",
    "colab": {
      "gpuType": "T4",
      "provenance": []
    },
    "kernelspec": {
      "display_name": "Python 3",
      "name": "python3"
    },
    "language_info": {
      "codemirror_mode": {
        "name": "ipython",
        "version": 3
      },
      "file_extension": ".py",
      "mimetype": "text/x-python",
      "name": "python",
      "nbconvert_exporter": "python",
      "pygments_lexer": "ipython3",
      "version": "3.8.11"
    }
  },
  "nbformat": 4,
  "nbformat_minor": 5
}
